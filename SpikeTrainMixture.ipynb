{
 "cells": [
  {
   "cell_type": "markdown",
   "id": "90f79ee1",
   "metadata": {},
   "source": [
    "# Spike Mixture Train"
   ]
  },
  {
   "cell_type": "code",
   "execution_count": 27,
   "id": "d165458f",
   "metadata": {},
   "outputs": [],
   "source": [
    "import numpy as np\n",
    "import math"
   ]
  },
  {
   "cell_type": "code",
   "execution_count": 38,
   "id": "6174417e",
   "metadata": {},
   "outputs": [],
   "source": [
    "# define time scale\n",
    "t = 10 #lets say seconds\n",
    "\n",
    "# define firing rates (say per second) of latent variables (we will use these to initialise poisson processes)\n",
    "v = [0.1,0.5,2]\n",
    "lat = [] #an array of arrays for each of the latent variables\n",
    "\n",
    "#realise poisson processes with given rates\n",
    "for i in range(len(v)):\n",
    "    lat.append([]) #create a new array for the latent variable\n",
    "\n",
    "    ti = np.random.exponential(v[i]) #time of first spike    \n",
    "    while ti < t: \n",
    "        lat[i].append(ti)\n",
    "        ti += np.random.exponential(v[i]) #determine next spike by sampling from exponential distribution with given r\n",
    "\n"
   ]
  },
  {
   "cell_type": "code",
   "execution_count": 40,
   "metadata": {},
   "outputs": [],
   "source": [
    "# write a function to take a list of times and fits them into discrete time bins\n",
    "dt = 0.1\n",
    "n = math.ceil(t/dt)\n",
    "\n",
    "def get_pos(time):\n",
    "    return math.floor(time/dt) #rounds down so if spike happened in time [0.00, 0.01), it will be mapped to position 0\n",
    "\n",
    "def fit_to_discr(spikes):\n",
    "    discr = np.zeros(n)\n",
    "    for spike_time in spikes:\n",
    "        i = get_pos(spike_time)\n",
    "        discr[i] = 1\n",
    "    return discr\n"
   ]
  },
  {
   "cell_type": "code",
   "execution_count": 41,
   "metadata": {},
   "outputs": [
    {
     "output_type": "execute_result",
     "data": {
      "text/plain": [
       "array([0., 0., 0., 0., 0., 0., 0., 0., 0., 0., 0., 0., 0., 0., 1., 0., 0.,\n",
       "       0., 0., 1., 0., 0., 0., 0., 0., 0., 0., 0., 0., 1., 0., 0., 0., 0.,\n",
       "       0., 0., 0., 0., 0., 1., 0., 0., 0., 0., 0., 0., 0., 0., 0., 0., 0.,\n",
       "       0., 0., 0., 0., 0., 0., 0., 0., 0., 0., 0., 0., 0., 0., 0., 0., 0.,\n",
       "       0., 0., 0., 0., 0., 0., 0., 0., 0., 0., 0., 0., 0., 0., 0., 0., 0.,\n",
       "       0., 1., 0., 0., 0., 0., 0., 0., 0., 0., 0., 0., 0., 0., 0.])"
      ]
     },
     "metadata": {},
     "execution_count": 41
    }
   ],
   "source": [
    "fit_to_discr(lat[2])"
   ]
  },
  {
   "cell_type": "code",
   "execution_count": null,
   "metadata": {},
   "outputs": [],
   "source": [
    "# w(i,j) is the probability of neuron i firing given that latent variable j fires\n",
    "W = np.array([[0.2,0.3,0.8],\n",
    "              [0.5,0.3,0.5],\n",
    "              [0.3,0.5,0.2]])"
   ]
  },
  {
   "source": [
    "From the latent processes, determine how many spikes to choose using random binomial generation, then randomly sample that many spikes from each of the poisson realisations. The list of spike times in the visible neurons need not be sorted since the `fit_to_discr` function does not things to be sorted in time. "
   ],
   "cell_type": "markdown",
   "metadata": {}
  },
  {
   "cell_type": "code",
   "execution_count": 9,
   "id": "81df0f96",
   "metadata": {},
   "outputs": [
    {
     "output_type": "stream",
     "name": "stdout",
     "text": [
      "[[0]\n [0]\n [1]]\n[[0.  0.  0.8]\n [0.  0.  0.5]\n [0.  0.  0.2]]\n[0 0 1]\n"
     ]
    }
   ],
   "source": [
    "steps = 5\n",
    "#for i in range(steps):\n",
    "l = np.random.binomial(1,v) #which latent variables spike\n",
    "print(l) \n",
    "\n",
    "p = W*(np.ones((3,1)) @ l.T) #cond probs that neurons spike given latent variables spike\n",
    "print(p)\n",
    "\n",
    "n = np.sum(np.random.binomial(1,p),axis=0) #see whether neurons fire given latent spikes\n",
    "print(n)"
   ]
  },
  {
   "cell_type": "code",
   "execution_count": null,
   "metadata": {},
   "outputs": [],
   "source": []
  }
 ],
 "metadata": {
  "kernelspec": {
   "display_name": "Python 3",
   "language": "python",
   "name": "python3"
  },
  "language_info": {
   "codemirror_mode": {
    "name": "ipython",
    "version": 3
   },
   "file_extension": ".py",
   "mimetype": "text/x-python",
   "name": "python",
   "nbconvert_exporter": "python",
   "pygments_lexer": "ipython3",
   "version": "3.9.2-final"
  }
 },
 "nbformat": 4,
 "nbformat_minor": 5
}