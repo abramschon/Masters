{
 "cells": [
  {
   "cell_type": "markdown",
   "id": "b8741c21",
   "metadata": {},
   "source": [
    "# Comparing my implementations \n",
    "\n",
    "There is a MaxEnt toolbox in [matlab](https://github.com/orimaoz/maxent_toolbox) and I want to see whether the models I make using my code are the same as the models trained using the matlab tool box."
   ]
  },
  {
   "cell_type": "markdown",
   "id": "b34702b2",
   "metadata": {},
   "source": [
    "## Read in Data"
   ]
  },
  {
   "cell_type": "code",
   "execution_count": 1,
   "id": "6499a346",
   "metadata": {},
   "outputs": [],
   "source": [
    "import numpy as np\n",
    "import matplotlib.pyplot as plt \n",
    "from numba import njit, prange\n",
    "from math import comb"
   ]
  },
  {
   "cell_type": "code",
   "execution_count": 2,
   "id": "bbab15b5",
   "metadata": {},
   "outputs": [],
   "source": [
    "from matplotlib import rc\n",
    "rc('font',**{'family':'serif','serif':['Baskerville']})\n",
    "rc('text', usetex=True)\n",
    "plt.rcParams[\"font.size\"] = 12 "
   ]
  },
  {
   "cell_type": "code",
   "execution_count": 3,
   "id": "0e5ba9b0",
   "metadata": {},
   "outputs": [],
   "source": [
    "data = np.loadtxt(\"Data/repeat_shuffle_train.csv\", delimiter=\",\", dtype=int)"
   ]
  },
  {
   "cell_type": "code",
   "execution_count": 4,
   "id": "c8e5ed6f",
   "metadata": {},
   "outputs": [],
   "source": [
    "train = data[:10,:] # first 10 neurons outputs"
   ]
  },
  {
   "cell_type": "code",
   "execution_count": 5,
   "id": "a530a621",
   "metadata": {},
   "outputs": [
    {
     "data": {
      "text/plain": [
       "(10, 226814)"
      ]
     },
     "execution_count": 5,
     "metadata": {},
     "output_type": "execute_result"
    }
   ],
   "source": [
    "N, M = train.shape\n",
    "N, M"
   ]
  },
  {
   "cell_type": "markdown",
   "id": "55e47c6b",
   "metadata": {},
   "source": [
    "## Get expectations needed for models"
   ]
  },
  {
   "cell_type": "markdown",
   "id": "2654f25f",
   "metadata": {},
   "source": [
    "### Avgs"
   ]
  },
  {
   "cell_type": "code",
   "execution_count": 6,
   "id": "d0048d7b",
   "metadata": {},
   "outputs": [],
   "source": [
    "avgs = np.mean(train,axis=1) # get the mean firing of neurons"
   ]
  },
  {
   "cell_type": "code",
   "execution_count": 7,
   "id": "933831e1",
   "metadata": {},
   "outputs": [
    {
     "data": {
      "text/plain": [
       "array([0.02780693, 0.0081256 , 0.01418784, 0.01658628, 0.02141843,\n",
       "       0.02126412, 0.02441648, 0.08030809, 0.04152742, 0.00597847])"
      ]
     },
     "execution_count": 7,
     "metadata": {},
     "output_type": "execute_result"
    }
   ],
   "source": [
    "avgs"
   ]
  },
  {
   "cell_type": "markdown",
   "id": "9d70b018",
   "metadata": {},
   "source": [
    "### Correlations"
   ]
  },
  {
   "cell_type": "code",
   "execution_count": 8,
   "id": "51ce33cd",
   "metadata": {},
   "outputs": [],
   "source": [
    "@njit(parallel=True)\n",
    "def correlations(arr):\n",
    "    N, M = arr.shape\n",
    "    corrs = np.zeros((N,N))\n",
    "    for i in prange(N-1):\n",
    "        for j in prange(i+1,N):\n",
    "            corrs[i,j]=np.sum(arr[i]*arr[j])    \n",
    "    return corrs / M"
   ]
  },
  {
   "cell_type": "code",
   "execution_count": 9,
   "id": "e1220d1e",
   "metadata": {},
   "outputs": [],
   "source": [
    "corr_mat = correlations(train) #correlation matrix\n",
    "corrs = corr_mat[np.triu_indices_from(corr_mat,k=1)]"
   ]
  },
  {
   "cell_type": "markdown",
   "id": "0ac4ee2e",
   "metadata": {},
   "source": [
    "### P(K)"
   ]
  },
  {
   "cell_type": "code",
   "execution_count": 10,
   "id": "3991dd82",
   "metadata": {},
   "outputs": [],
   "source": [
    "counts = np.sum(train,axis=0) # how many neurons fires in each bin\n",
    "count_freq = np.bincount(counts) # tallies how many states with 0, 1, ... N neurons firing there are \n",
    "p_k = np.zeros(N+1)\n",
    "for i in range(len(count_freq)): \n",
    "    p_k[i] = count_freq[i]/M "
   ]
  },
  {
   "cell_type": "code",
   "execution_count": 11,
   "id": "80fca0a7",
   "metadata": {},
   "outputs": [
    {
     "data": {
      "text/plain": [
       "(5,\n",
       " array([7.90502350e-01, 1.67084042e-01, 3.40278819e-02, 7.15564295e-03,\n",
       "        1.13749592e-03, 9.25868774e-05, 0.00000000e+00, 0.00000000e+00,\n",
       "        0.00000000e+00, 0.00000000e+00, 0.00000000e+00]))"
      ]
     },
     "execution_count": 11,
     "metadata": {},
     "output_type": "execute_result"
    }
   ],
   "source": [
    "np.max(counts), p_k"
   ]
  },
  {
   "cell_type": "markdown",
   "id": "ad944ca9",
   "metadata": {},
   "source": [
    "## Train models "
   ]
  },
  {
   "cell_type": "code",
   "execution_count": 12,
   "id": "df0ffba6",
   "metadata": {},
   "outputs": [],
   "source": [
    "from MaxEnt import Independent, PopCount, Ising"
   ]
  },
  {
   "cell_type": "markdown",
   "id": "04225021",
   "metadata": {},
   "source": [
    "### Independent"
   ]
  },
  {
   "cell_type": "code",
   "execution_count": 48,
   "id": "d14d3a03",
   "metadata": {},
   "outputs": [],
   "source": [
    "indep = Independent(N, avgs) "
   ]
  },
  {
   "cell_type": "code",
   "execution_count": 49,
   "id": "8046f847",
   "metadata": {},
   "outputs": [],
   "source": [
    "# compare to weights from matlab\n",
    "mat_indep = np.loadtxt(\"ModelWeights/indep.csv\", delimiter=\",\", dtype=float)"
   ]
  },
  {
   "cell_type": "code",
   "execution_count": 50,
   "id": "f3985698",
   "metadata": {},
   "outputs": [],
   "source": [
    "def compare_weights(ours, theirs):\n",
    "    plt.plot(ours,theirs,\".\")\n",
    "    plt.xlabel(\"Our weights\")\n",
    "    plt.ylabel(\"Maxent toolbox weights\")\n",
    "    plt.title(\"Comparison of weights\")\n",
    "    plt.show()"
   ]
  },
  {
   "cell_type": "code",
   "execution_count": 51,
   "id": "fe035731",
   "metadata": {},
   "outputs": [
    {
     "data": {
      "image/png": "[encoded data removed]",
      "text/plain": [
       "<Figure size 432x288 with 1 Axes>"
      ]
     },
     "metadata": {
      "needs_background": "light"
     },
     "output_type": "display_data"
    }
   ],
   "source": [
    "compare_weights(indep.h,mat_indep)"
   ]
  },
  {
   "cell_type": "code",
   "execution_count": 52,
   "id": "052fe969",
   "metadata": {},
   "outputs": [
    {
     "data": {
      "text/plain": [
       "array([3.55426931, 4.80457683, 4.2410808 , 4.0824542 , 3.82185233,\n",
       "       3.8292407 , 3.68777737, 2.43816832, 3.13898705, 5.1135947 ])"
      ]
     },
     "execution_count": 52,
     "metadata": {},
     "output_type": "execute_result"
    }
   ],
   "source": [
    "indep.h"
   ]
  },
  {
   "cell_type": "code",
   "execution_count": 53,
   "id": "67eda2f7",
   "metadata": {},
   "outputs": [
    {
     "data": {
      "image/png": "[encoded data removed]",
      "text/plain": [
       "<Figure size 432x288 with 1 Axes>"
      ]
     },
     "metadata": {
      "needs_background": "light"
     },
     "output_type": "display_data"
    }
   ],
   "source": [
    "plt.plot(range(len(mat_indep)), indep.h-mat_indep,\".\")\n",
    "plt.xlabel(\"Index\")\n",
    "plt.ylabel(\"Our - their weights\")\n",
    "plt.title(\"Difference in weights\")\n",
    "plt.show()"
   ]
  },
  {
   "cell_type": "markdown",
   "id": "8093f321",
   "metadata": {},
   "source": [
    "Compare the predicted distributions"
   ]
  },
  {
   "cell_type": "code",
   "execution_count": 163,
   "id": "7358d4e3",
   "metadata": {},
   "outputs": [],
   "source": [
    "def compare_dist(ours, theirs, xlab=\"Our model\",ylab=\"Maxent toolbox\",):\n",
    "    plt.loglog(ours,theirs,\".\")\n",
    "    plt.xlabel(xlab)\n",
    "    plt.ylabel(ylab)\n",
    "    plt.title(\"Comparison of probability of each state\")\n",
    "    plt.show()"
   ]
  },
  {
   "cell_type": "code",
   "execution_count": 164,
   "id": "8a553c46",
   "metadata": {},
   "outputs": [],
   "source": [
    "p_mat_states = np.loadtxt(\"ModelWeights/indep_dist.csv\", delimiter=\",\", dtype=float) # their predicted prob. of each state\n",
    "p_states = indep.p(indep.states)  # use our model to predict the probability of each state \n",
    "p_flip_states = indep.p(np.flip(indep.states, 1)) # use our model to predict states but flip their representations"
   ]
  },
  {
   "cell_type": "code",
   "execution_count": 165,
   "id": "29bc4f56",
   "metadata": {},
   "outputs": [
    {
     "data": {
      "image/png": "[encoded data removed]",
      "text/plain": [
       "<Figure size 432x288 with 1 Axes>"
      ]
     },
     "metadata": {
      "needs_background": "light"
     },
     "output_type": "display_data"
    }
   ],
   "source": [
    "compare_dist(p_states,p_mat_states)"
   ]
  },
  {
   "cell_type": "code",
   "execution_count": 166,
   "id": "6528e920",
   "metadata": {},
   "outputs": [
    {
     "data": {
      "image/png": "[encoded data removed]",
      "text/plain": [
       "<Figure size 432x288 with 1 Axes>"
      ]
     },
     "metadata": {
      "needs_background": "light"
     },
     "output_type": "display_data"
    }
   ],
   "source": [
    "compare_dist(p_states,p_flip_states,\"Unflipped states\", \"Flipped states\")"
   ]
  },
  {
   "cell_type": "code",
   "execution_count": 167,
   "id": "7ec5a0ff",
   "metadata": {},
   "outputs": [
    {
     "data": {
      "image/png": "[encoded data removed]",
      "text/plain": [
       "<Figure size 432x288 with 1 Axes>"
      ]
     },
     "metadata": {
      "needs_background": "light"
     },
     "output_type": "display_data"
    }
   ],
   "source": [
    "compare_dist(p_flip_states,p_mat_states,\"Our model with flipped states\")"
   ]
  },
  {
   "cell_type": "markdown",
   "id": "e19de991",
   "metadata": {},
   "source": [
    "## P(K)\n",
    "We get very different values for the model parameters for this model. We clearly store very different things here. "
   ]
  },
  {
   "cell_type": "code",
   "execution_count": 168,
   "id": "e771b579",
   "metadata": {},
   "outputs": [],
   "source": [
    "pop = PopCount(N,p_k)"
   ]
  },
  {
   "cell_type": "code",
   "execution_count": 169,
   "id": "0e1e32da",
   "metadata": {
    "scrolled": true
   },
   "outputs": [
    {
     "data": {
      "text/plain": [
       "array([7.90502350e-01, 1.67084042e-01, 3.40278819e-02, 7.15564295e-03,\n",
       "       1.13749592e-03, 9.25868774e-05, 0.00000000e+00, 0.00000000e+00,\n",
       "       0.00000000e+00, 0.00000000e+00, 0.00000000e+00])"
      ]
     },
     "execution_count": 169,
     "metadata": {},
     "output_type": "execute_result"
    }
   ],
   "source": [
    "pop.p_K"
   ]
  },
  {
   "cell_type": "code",
   "execution_count": 170,
   "id": "255be822",
   "metadata": {},
   "outputs": [],
   "source": [
    "combs = np.array([comb(N,K) for K in np.arange(N+1)])\n",
    "V_k = -np.log(pop.p_K[:6]/combs[:6])"
   ]
  },
  {
   "cell_type": "code",
   "execution_count": 171,
   "id": "d8a0c3d7",
   "metadata": {},
   "outputs": [
    {
     "data": {
      "text/plain": [
       "array([-10.87632627,  -7.01693709,  -3.92024683,  -1.38597437,\n",
       "         1.0246631 ,   3.82314003,   5.62309806,   5.16611673,\n",
       "         4.18190619,   2.65609283,   0.72446768])"
      ]
     },
     "execution_count": 171,
     "metadata": {},
     "output_type": "execute_result"
    }
   ],
   "source": [
    "mat_pk = np.loadtxt(\"ModelWeights/ksync.csv\", delimiter=\",\", dtype=float)\n",
    "mat_pk"
   ]
  },
  {
   "cell_type": "code",
   "execution_count": 172,
   "id": "a8ea68e9",
   "metadata": {},
   "outputs": [
    {
     "data": {
      "image/png": "[encoded data removed]",
      "text/plain": [
       "<Figure size 432x288 with 1 Axes>"
      ]
     },
     "metadata": {
      "needs_background": "light"
     },
     "output_type": "display_data"
    }
   ],
   "source": [
    "plt.plot(range(6),V_k[:6]-mat_pk[:6],\".\")\n",
    "plt.xlabel(\"Our weights\")\n",
    "plt.ylabel(\"Maxent toolbox weights\")\n",
    "plt.title(\"Comparison of weights\")\n",
    "plt.show()"
   ]
  },
  {
   "cell_type": "code",
   "execution_count": 173,
   "id": "05614b6f",
   "metadata": {},
   "outputs": [
    {
     "data": {
      "image/png": "[encoded data removed]",
      "text/plain": [
       "<Figure size 432x288 with 1 Axes>"
      ]
     },
     "metadata": {
      "needs_background": "light"
     },
     "output_type": "display_data"
    }
   ],
   "source": [
    "plt.plot(pop.p_K[6:], mat_pk[6:],\".\")\n",
    "plt.xlabel(\"Our weights\")\n",
    "plt.ylabel(\"Maxent toolbox weights\")\n",
    "plt.title(\"Comparison of weights\")\n",
    "plt.show()"
   ]
  },
  {
   "cell_type": "markdown",
   "id": "5e7b8696",
   "metadata": {},
   "source": [
    "The difference between the two should be equal to the log of the partition function. We can calculate this as $\\sum_K \\exp (-V_K)\\cdot {N \\choose K}$"
   ]
  },
  {
   "cell_type": "code",
   "execution_count": 174,
   "id": "ecccd065",
   "metadata": {},
   "outputs": [],
   "source": [
    "Z = np.sum(np.exp(-mat_pk)*combs)"
   ]
  },
  {
   "cell_type": "code",
   "execution_count": 175,
   "id": "af15e906",
   "metadata": {},
   "outputs": [
    {
     "name": "stdout",
     "output_type": "stream",
     "text": [
      "P(K)= 0.7909224053217281 0.7905023499431252\n",
      "P(K)= 0.16673334153956051 0.16708404243124322\n",
      "P(K)= 0.03391247387239906 0.034027881876780096\n",
      "P(K)= 0.0071731128184065315 0.007155642949729734\n",
      "P(K)= 0.0011267281875987332 0.0011374959217684976\n",
      "P(K)= 8.234501592651241e-05 9.25868773532498e-05\n",
      "P(K)= 1.1343425745118349e-05 0.0\n",
      "P(K)= 1.0236951682100818e-05 0.0\n",
      "P(K)= 1.0271624324961279e-05 0.0\n",
      "P(K)= 1.0497332083652326e-05 0.0\n",
      "P(K)= 7.2439105450143985e-06 0.0\n"
     ]
    }
   ],
   "source": [
    "for K in range(N+1):\n",
    "    print(\"P(K)=\", np.exp(-mat_pk)[K]/Z*combs[K], pop.p_K[K])"
   ]
  },
  {
   "cell_type": "markdown",
   "id": "86a003a2",
   "metadata": {},
   "source": [
    "Though the first few weights seem to agree nicely, notice, the latter half of weights don't. This is because of their implementation where weights are determined numerically as opposed to analytically, and the fact that in order to get $P(0)$, the argument of the exponential needs to go to negative infinity.\n",
    "Fortunately, we can map between our representations as below:"
   ]
  },
  {
   "cell_type": "code",
   "execution_count": 176,
   "id": "a83bc6d1",
   "metadata": {},
   "outputs": [
    {
     "data": {
      "image/png": "[encoded data removed]",
      "text/plain": [
       "<Figure size 432x288 with 1 Axes>"
      ]
     },
     "metadata": {
      "needs_background": "light"
     },
     "output_type": "display_data"
    }
   ],
   "source": [
    "plt.plot(pop.p_K, np.exp(-mat_pk)*combs/Z,\".\")\n",
    "plt.xlabel(\"Our weights\")\n",
    "plt.ylabel(\"Maxent toolbox weights\")\n",
    "plt.title(\"Comparison of weights\")\n",
    "plt.show()"
   ]
  },
  {
   "cell_type": "code",
   "execution_count": 177,
   "id": "4fe97090",
   "metadata": {},
   "outputs": [],
   "source": [
    "mat_states = np.loadtxt(\"ModelWeights/ksync_dist.csv\", delimiter=\",\", dtype=float)\n",
    "p_states = pop.p(pop.states)"
   ]
  },
  {
   "cell_type": "code",
   "execution_count": 178,
   "id": "13074a9a",
   "metadata": {},
   "outputs": [
    {
     "data": {
      "image/png": "[encoded data removed]",
      "text/plain": [
       "<Figure size 432x288 with 1 Axes>"
      ]
     },
     "metadata": {
      "needs_background": "light"
     },
     "output_type": "display_data"
    }
   ],
   "source": [
    "plt.loglog(p_states[p_states>0],mat_states[p_states>0],\".\") # we only compare the states with non-zero probability\n",
    "plt.xlabel(\"Our model\")\n",
    "plt.ylabel(\"Maxent toolbox\")\n",
    "plt.title(\"Comparison of probability of each state\")\n",
    "plt.show()"
   ]
  },
  {
   "cell_type": "markdown",
   "id": "7cd23524",
   "metadata": {},
   "source": [
    "### Pairwise model"
   ]
  },
  {
   "cell_type": "code",
   "execution_count": 179,
   "id": "2e5a5e86",
   "metadata": {},
   "outputs": [],
   "source": [
    "ising = Ising(N, avgs, corr_mat, lr=0.5) "
   ]
  },
  {
   "cell_type": "code",
   "execution_count": 223,
   "id": "cbaab559",
   "metadata": {
    "scrolled": true
   },
   "outputs": [
    {
     "name": "stdout",
     "output_type": "stream",
     "text": [
      "Difference in averages:\n",
      "[-3.99135719e-09  2.52440698e-06  1.76210344e-06  4.24538451e-07\n",
      " -1.84790645e-07  5.00222867e-07  1.76972355e-07 -1.21079591e-07\n",
      "  1.75257167e-07  5.17358432e-06]\n",
      "Difference in correlations:\n",
      "[-7.31148783e-07  1.46239578e-06  1.08808953e-05 -3.13623823e-07\n",
      "  1.76361791e-07  3.17000002e-07 -2.20507356e-07  4.75970525e-09\n",
      " -7.43166820e-06 -1.88349969e-05 -4.47652915e-05  4.95003551e-06\n",
      " -2.99100194e-05  7.53574115e-06  6.87814788e-06 -1.95577780e-05\n",
      " -1.84629203e-05 -5.45420372e-06  7.96640978e-07  4.98640117e-07\n",
      " -1.65480583e-06 -6.35853272e-07  8.27350817e-07 -5.83658480e-05\n",
      "  2.88957102e-06 -1.64001020e-06  4.51396130e-06  5.86016931e-07\n",
      " -4.66821992e-07  9.68596777e-06  1.20749225e-06 -1.19203200e-07\n",
      " -2.36570165e-07  2.85429894e-07 -1.76728330e-05 -5.38340254e-07\n",
      "  2.80306303e-07 -5.71099197e-07 -3.67343859e-05 -4.37068567e-08\n",
      " -7.42032522e-07 -4.22948558e-05  1.25004184e-07  8.41253439e-06\n",
      " -1.76430280e-05]\n"
     ]
    }
   ],
   "source": [
    "ising.gradient_ascent() # 500 steps \n",
    "corr_diff =  ising.correlations() - corr_mat\n",
    "flat_corr = corr_diff[np.triu_indices_from(corr_diff,1)]\n",
    "print(\"Difference in averages:\", ising.averages() - avgs, \"Difference in correlations:\", flat_corr, sep=\"\\n\")"
   ]
  },
  {
   "cell_type": "markdown",
   "id": "281c438c",
   "metadata": {},
   "source": [
    "Compare local fields:"
   ]
  },
  {
   "cell_type": "code",
   "execution_count": 224,
   "id": "3cc07a32",
   "metadata": {},
   "outputs": [
    {
     "data": {
      "text/plain": [
       "array([3.75423147, 4.94192949, 4.64797138, 4.14123003, 4.53425768,\n",
       "       4.09724296, 3.79024437, 2.65818322, 3.21856211, 5.09181697])"
      ]
     },
     "execution_count": 224,
     "metadata": {},
     "output_type": "execute_result"
    }
   ],
   "source": [
    "ising.h"
   ]
  },
  {
   "cell_type": "code",
   "execution_count": 225,
   "id": "addc28f5",
   "metadata": {},
   "outputs": [],
   "source": [
    "mat_ising = np.loadtxt(\"ModelWeights/m_pwise.csv\", delimiter=\",\", dtype=float)"
   ]
  },
  {
   "cell_type": "code",
   "execution_count": 226,
   "id": "7d19b81f",
   "metadata": {},
   "outputs": [
    {
     "data": {
      "image/png": "[encoded data removed]",
      "text/plain": [
       "<Figure size 432x288 with 1 Axes>"
      ]
     },
     "metadata": {
      "needs_background": "light"
     },
     "output_type": "display_data"
    }
   ],
   "source": [
    "plt.plot(ising.h,mat_ising[:N],\".\")\n",
    "plt.xlabel(\"Our weights\")\n",
    "plt.ylabel(\"Maxent toolbox weights\")\n",
    "plt.title(\"Comparison of weights\")\n",
    "plt.show()"
   ]
  },
  {
   "cell_type": "code",
   "execution_count": 227,
   "id": "8a03545a",
   "metadata": {},
   "outputs": [
    {
     "data": {
      "text/plain": [
       "array([[ 0.        , -0.36418172, -1.58154737,  0.80657289, -1.03912041,\n",
       "        -0.10391108, -0.31241796, -0.75556128,  0.21063456, -0.7126939 ],\n",
       "       [ 0.        ,  0.        , -0.43890669, -0.55337162, -1.09556472,\n",
       "        -0.40642547,  0.60851352, -0.58137139,  0.37135776,  0.50535466],\n",
       "       [ 0.        ,  0.        ,  0.        , -0.58816072, -2.09248827,\n",
       "        -0.49316442, -0.74613697, -0.53124745,  0.73039234, -1.4249553 ],\n",
       "       [ 0.        ,  0.        ,  0.        ,  0.        , -0.94576861,\n",
       "        -0.61993351,  0.46747231, -0.39045532,  0.81436474,  0.62298036],\n",
       "       [ 0.        ,  0.        ,  0.        ,  0.        ,  0.        ,\n",
       "        -1.26189087, -0.45118164, -1.97415683, -0.43921271,  0.27199648],\n",
       "       [ 0.        ,  0.        ,  0.        ,  0.        ,  0.        ,\n",
       "         0.        , -1.73526644, -0.69807468,  0.32882465,  0.605648  ],\n",
       "       [ 0.        ,  0.        ,  0.        ,  0.        ,  0.        ,\n",
       "         0.        ,  0.        ,  0.04683542,  0.31817845,  0.39163352],\n",
       "       [ 0.        ,  0.        ,  0.        ,  0.        ,  0.        ,\n",
       "         0.        ,  0.        ,  0.        , -0.92248968,  0.56169426],\n",
       "       [ 0.        ,  0.        ,  0.        ,  0.        ,  0.        ,\n",
       "         0.        ,  0.        ,  0.        ,  0.        ,  0.82194275],\n",
       "       [ 0.        ,  0.        ,  0.        ,  0.        ,  0.        ,\n",
       "         0.        ,  0.        ,  0.        ,  0.        ,  0.        ]])"
      ]
     },
     "execution_count": 227,
     "metadata": {},
     "output_type": "execute_result"
    }
   ],
   "source": [
    "ising.J"
   ]
  },
  {
   "cell_type": "code",
   "execution_count": 228,
   "id": "3f1af614",
   "metadata": {},
   "outputs": [],
   "source": [
    "def flatten_corr(corr):\n",
    "    N = len(corr)\n",
    "    flat_corr = np.zeros(N*(N-1)//2)\n",
    "    k = 0\n",
    "    for i in range(N-1): # go through each row \n",
    "        for j in range(i+1,N): # go through each column\n",
    "            flat_corr[k] = corr[i,j]\n",
    "            k+=1\n",
    "    return flat_corr"
   ]
  },
  {
   "cell_type": "code",
   "execution_count": 229,
   "id": "8de71a97",
   "metadata": {},
   "outputs": [],
   "source": [
    "flat_J = flatten_corr(ising.J)"
   ]
  },
  {
   "cell_type": "markdown",
   "id": "32937f0e",
   "metadata": {},
   "source": [
    "We are not sure how they have collapsed all pairwise interactions into an array, so we are going to try figure that out. "
   ]
  },
  {
   "cell_type": "code",
   "execution_count": 230,
   "id": "f9a55840",
   "metadata": {},
   "outputs": [
    {
     "data": {
      "image/png": "[encoded data removed]",
      "text/plain": [
       "<Figure size 432x288 with 1 Axes>"
      ]
     },
     "metadata": {
      "needs_background": "light"
     },
     "output_type": "display_data"
    }
   ],
   "source": [
    "plt.plot(flat_J,mat_ising[N:],\".\")\n",
    "plt.xlabel(\"Our weights\")\n",
    "plt.ylabel(\"Maxent toolbox weights\")\n",
    "plt.title(\"Comparison of weights\")\n",
    "plt.show()"
   ]
  },
  {
   "cell_type": "code",
   "execution_count": 231,
   "id": "b1f24bcf",
   "metadata": {},
   "outputs": [],
   "source": [
    "p_states = ising.p(np.flip(ising.states, 1))"
   ]
  },
  {
   "cell_type": "code",
   "execution_count": 232,
   "id": "62f2dcfb",
   "metadata": {},
   "outputs": [],
   "source": [
    "mat_states= np.loadtxt(\"ModelWeights/m_pwise_dist.csv\", delimiter=\",\", dtype=float)"
   ]
  },
  {
   "cell_type": "code",
   "execution_count": 234,
   "id": "93d11d32",
   "metadata": {},
   "outputs": [
    {
     "data": {
      "image/png": "[encoded data removed]",
      "text/plain": [
       "<Figure size 432x288 with 1 Axes>"
      ]
     },
     "metadata": {
      "needs_background": "light"
     },
     "output_type": "display_data"
    }
   ],
   "source": [
    "compare_dist(p_states,mat_states)"
   ]
  }
 ],
 "metadata": {
  "kernelspec": {
   "display_name": "Python 3",
   "language": "python",
   "name": "python3"
  },
  "language_info": {
   "codemirror_mode": {
    "name": "ipython",
    "version": 3
   },
   "file_extension": ".py",
   "mimetype": "text/x-python",
   "name": "python",
   "nbconvert_exporter": "python",
   "pygments_lexer": "ipython3",
   "version": "3.9.7"
  }
 },
 "nbformat": 4,
 "nbformat_minor": 5
}
