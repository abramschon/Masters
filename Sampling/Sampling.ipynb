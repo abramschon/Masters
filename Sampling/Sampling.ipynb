{
 "cells": [
  {
   "cell_type": "markdown",
   "metadata": {},
   "source": [
    "# Gibbs Sampling\n",
    "We use Gibbs sampling to estimate expectations that would otherwise required summations over exponentially many states. To test our Gibbs sampling algorithm, we instantiate an exponential model of the form:\n",
    "$$\n",
    "P^{(3)}(\\{\\sigma_i\\}) = \\frac{1}{Z} \\exp \\left[ \\sum_i h_i \\sigma_i + \\sum_{i< j} J_{ij}\\sigma_i\\sigma_j + \\sum_{i<j<k} K_{ijk}\\sigma_i\\sigma_j\\sigma_k  \\right]\n",
    "$$\n",
    "by randomly sampling the interaction parameters $h,J,K$. We then compare expectations estimated from Gibbs sampling to the actual expectations of the distribution $p^{(3)}$. "
   ]
  },
  {
   "cell_type": "code",
   "execution_count": 1,
   "metadata": {},
   "outputs": [],
   "source": [
    "import numpy as np \n",
    "import matplotlib.pyplot as plt\n",
    "from MaxEnt import ThreeWise, gibbs_sampling\n",
    "import time\n",
    "from numba import njit, prange"
   ]
  },
  {
   "cell_type": "code",
   "execution_count": 2,
   "metadata": {},
   "outputs": [],
   "source": [
    "def sim_p_true(N, h_m=0.02, J_m=0.05, K_m=0.02, h=None, J=None, K=None):\n",
    "    \"\"\"\n",
    "    Function that creates a distribution that includes up to 3-wise interactions, by randomly sampling the interaction weights if h,J,K set to None\n",
    "    Otherwise, uses the provided interactions parameters.\n",
    "    \"\"\"\n",
    "    if not isinstance(h,np.ndarray):\n",
    "        h = np.zeros(N)\n",
    "        for i in range(N):\n",
    "            h[i] = np.log(np.abs(1/np.random.exponential(h_m) - 1))\n",
    "    \n",
    "    if not isinstance(J,np.ndarray):  \n",
    "        J = np.zeros((N,N))\n",
    "        for i in range(N-1):\n",
    "            for j in range(i+1,N):\n",
    "                J[i,j] = np.random.normal(J_m, 0.8)\n",
    "    \n",
    "    if not isinstance(K,np.ndarray):\n",
    "        K = np.zeros((N,N,N))\n",
    "        for i in range(N-2):\n",
    "            for j in range(i+1,N-1):\n",
    "                for k in range(j+1,N):\n",
    "                    K[i,j,k] = np.random.normal(K_m, 0.5)\n",
    "    \n",
    "    p_true = ThreeWise(N, h, J, K)\n",
    "    return p_true"
   ]
  },
  {
   "cell_type": "markdown",
   "metadata": {},
   "source": [
    "## Perform sampling and compare sample expectations to true expectations"
   ]
  },
  {
   "cell_type": "code",
   "execution_count": 3,
   "metadata": {},
   "outputs": [],
   "source": [
    "N = 5\n",
    "p_true = sim_p_true(N,0.2,0.1,0.1)"
   ]
  },
  {
   "cell_type": "code",
   "execution_count": 5,
   "metadata": {},
   "outputs": [
    {
     "name": "stdout",
     "output_type": "stream",
     "text": [
      "Time to generate 1000000 samples 12.418111085891724\n",
      "(1000000, 5)\n"
     ]
    }
   ],
   "source": [
    "h,J,K = p_true.h, p_true.J, p_true.K\n",
    "@njit\n",
    "def p(s):\n",
    "    return np.exp(-(h.dot(s) + J.dot(s).dot(s) + np.sum(K*s,axis=2).dot(s).dot(s)))\n",
    "init_state = np.random.binomial(1,p_true.averages()) #prob of neurons firing\n",
    "M = 1000000\n",
    "chains = 1 # need chains = 1 at this stage\n",
    "\n",
    "start = time.time()\n",
    "samples = gibbs_sampling(p,init_state,M,avg_every=1,burn_in=0)\n",
    "stop = time.time()\n",
    "print(f\"Time to generate {M} samples\",stop-start)\n",
    "print(samples.shape)"
   ]
  },
  {
   "cell_type": "code",
   "execution_count": 6,
   "metadata": {},
   "outputs": [
    {
     "name": "stdout",
     "output_type": "stream",
     "text": [
      "True means\n",
      "[0.46792 0.1121  0.17374 0.61007 0.32547]\n",
      "Sample means\n",
      "[0.4683  0.11194 0.17432 0.60995 0.32614]\n",
      "Difference in means\n",
      "[-0.00037842  0.00016665 -0.00057119  0.00012005 -0.00066006]\n",
      "True correlations\n",
      "[[0.      0.06244 0.05195 0.31839 0.13618]\n",
      " [0.      0.      0.01837 0.07846 0.06353]\n",
      " [0.      0.      0.      0.09844 0.06112]\n",
      " [0.      0.      0.      0.      0.21985]\n",
      " [0.      0.      0.      0.      0.     ]]\n",
      "Sample correlations\n",
      "[[0.      0.06227 0.05228 0.3177  0.13588]\n",
      " [0.      0.      0.0186  0.07819 0.06309]\n",
      " [0.      0.      0.      0.09867 0.06137]\n",
      " [0.      0.      0.      0.      0.21958]\n",
      " [0.      0.      0.      0.      0.     ]]\n",
      "Difference in correlations\n",
      "[[ 0.          0.0001713  -0.00032898  0.00069018  0.00029807]\n",
      " [ 0.          0.         -0.0002287   0.00027204  0.00044414]\n",
      " [ 0.          0.          0.         -0.00023326 -0.00025672]\n",
      " [ 0.          0.          0.          0.          0.00027383]\n",
      " [ 0.          0.          0.          0.          0.        ]]\n"
     ]
    }
   ],
   "source": [
    "means_true = p_true.averages()\n",
    "dp = 5 #decimal places\n",
    "print(\"True means\", np.round(means_true,dp), \"Sample means\", np.round(np.mean(samples, axis=0),dp), sep=\"\\n\")\n",
    "print(\"Difference in means\", means_true - np.mean(samples,axis=0), sep=\"\\n\")\n",
    "\n",
    "corrs_true = p_true.correlations()\n",
    "corrs_sample = np.triu((samples.T@samples) / M,k=1)\n",
    "print(\"True correlations\", np.round(corrs_true,dp), \"Sample correlations\", np.round(corrs_sample,dp), sep=\"\\n\")\n",
    "print(\"Difference in correlations\", corrs_true - corrs_sample, sep=\"\\n\")"
   ]
  },
  {
   "cell_type": "markdown",
   "metadata": {},
   "source": [
    "## Determining burn-in and average over\n",
    "We want to see what sort of burn-in we should include (how many of the initial states to discard from the average), as well as whether we might want average over every ith state. \n",
    "\n",
    "### Burn-in"
   ]
  },
  {
   "cell_type": "code",
   "execution_count": 7,
   "metadata": {},
   "outputs": [],
   "source": [
    "start = 0 \n",
    "stop = 500000 \n",
    "incr = 1000 \n",
    "burn_ins = np.arange(start,stop,incr)\n",
    "sample_len = M - burn_ins[-1] # how many samples we select after discarding the burn in\n",
    "error = np.zeros(len(burn_ins)) \n",
    "\n",
    "for bi in range(len(burn_ins)):\n",
    "    burn_in = burn_ins[bi]\n",
    "    subset = samples[burn_in:sample_len+burn_in]\n",
    "    error[bi] = np.sum( np.abs( np.mean(subset,axis=0) - means_true))"
   ]
  },
  {
   "cell_type": "code",
   "execution_count": 8,
   "metadata": {},
   "outputs": [
    {
     "data": {
      "image/png": "[encoded data removed]",
      "text/plain": [
       "<Figure size 432x288 with 1 Axes>"
      ]
     },
     "metadata": {
      "needs_background": "light"
     },
     "output_type": "display_data"
    },
    {
     "name": "stdout",
     "output_type": "stream",
     "text": [
      "Min error at\n",
      "244000\n",
      "Means computed using burn-in\n",
      "[0.46748503 0.11194411 0.17620758 0.61022954 0.32601996]\n",
      "True means\n",
      "[0.46792158 0.11210165 0.17374381 0.61007205 0.32547494]\n"
     ]
    }
   ],
   "source": [
    "plt.plot(burn_ins, error,\"k\")\n",
    "min_error = np.argmin(error)\n",
    "plt.axvline(burn_ins[min_error],color=\"r\")\n",
    "plt.show()\n",
    "print(\"Min error at\", burn_ins[min_error], \"Means computed using burn-in\", np.mean(samples[burn_ins[min_error]:sample_len+burn_ins[min_error]],axis=0), \"True means\",means_true, sep=\"\\n\")"
   ]
  },
  {
   "cell_type": "markdown",
   "metadata": {},
   "source": [
    "### Average over\n",
    "\n",
    "We start by looking at how correlated subsequent states in our Markov chain are"
   ]
  },
  {
   "cell_type": "code",
   "execution_count": 9,
   "metadata": {},
   "outputs": [],
   "source": [
    "offsets = np.arange(1,20)\n",
    "error = np.zeros(len(offsets))\n",
    "tail = M-offsets[-1]\n",
    "\n",
    "for o in range(len(offsets)):\n",
    "    offset = offsets[o]\n",
    "    error[o] = np.mean(samples[:tail]*samples[offset:tail+offset]) #correlation between states"
   ]
  },
  {
   "cell_type": "code",
   "execution_count": 10,
   "metadata": {},
   "outputs": [
    {
     "data": {
      "image/png": "[encoded data removed]",
      "text/plain": [
       "<Figure size 432x288 with 1 Axes>"
      ]
     },
     "metadata": {
      "needs_background": "light"
     },
     "output_type": "display_data"
    }
   ],
   "source": [
    "plt.plot(offsets, error,\"k.\")\n",
    "min_error = np.argmin(error)\n",
    "plt.axvline(offsets[min_error],color=\"r\")\n",
    "plt.show()"
   ]
  },
  {
   "cell_type": "code",
   "execution_count": 11,
   "metadata": {},
   "outputs": [],
   "source": [
    "av_over = [1,2,5,10,20]\n",
    "error = np.zeros(len(av_over))\n",
    "size = int(M/av_over[-1])\n",
    "\n",
    "for ai in range(len(av_over)):\n",
    "    subset = samples.reshape(av_over[ai],-1,N)[0]\n",
    "    subset = subset[:size] #ensure all subset have the same size\n",
    "    error[ai] = np.mean( np.abs(np.mean(subset,axis=0)-means_true) )"
   ]
  },
  {
   "cell_type": "code",
   "execution_count": 12,
   "metadata": {},
   "outputs": [
    {
     "data": {
      "image/png": "[encoded data removed]",
      "text/plain": [
       "<Figure size 432x288 with 1 Axes>"
      ]
     },
     "metadata": {
      "needs_background": "light"
     },
     "output_type": "display_data"
    },
    {
     "name": "stdout",
     "output_type": "stream",
     "text": [
      "Means produced by averaging over every 1 sample\n",
      "[0.4712  0.113   0.171   0.6134  0.32962]\n",
      "True means\n",
      "[0.46792158 0.11210165 0.17374381 0.61007205 0.32547494]\n"
     ]
    }
   ],
   "source": [
    "plt.plot(av_over, error,\"k.\")\n",
    "min_error = np.argmin(error)\n",
    "plt.axvline(av_over[min_error],color=\"r\")\n",
    "plt.show()\n",
    "print(f\"Means produced by averaging over every {av_over[min_error]} sample\", np.mean(samples.reshape(av_over[min_error],-1,N)[0][:size],axis=0), \"True means\",means_true, sep=\"\\n\")"
   ]
  },
  {
   "cell_type": "code",
   "execution_count": null,
   "metadata": {},
   "outputs": [],
   "source": []
  }
 ],
 "metadata": {
  "kernelspec": {
   "display_name": "Python 3.9.2 64-bit ('.venv': venv)",
   "language": "python",
   "name": "python39264bitvenvvenv098b745301f24a4a9273629fd09e163f"
  },
  "language_info": {
   "codemirror_mode": {
    "name": "ipython",
    "version": 3
   },
   "file_extension": ".py",
   "mimetype": "text/x-python",
   "name": "python",
   "nbconvert_exporter": "python",
   "pygments_lexer": "ipython3",
   "version": "3.9.2"
  }
 },
 "nbformat": 4,
 "nbformat_minor": 2
}
