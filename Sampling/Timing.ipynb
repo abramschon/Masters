{
 "cells": [
  {
   "cell_type": "markdown",
   "metadata": {},
   "source": [
    "# Timing the difference ways of working out averages\n",
    "\n",
    "We want to work out empirical expectations, such as correlations. Given a set of empirical observations $D$, containing $M$ samples, this involves the sum:\n",
    "$$\n",
    "    \\langle \\sigma_i \\sigma_j \\rangle_D = \\frac{1}{M}\\sum_{\\boldsymbol{\\sigma}\\in D} \\sigma_i\\sigma_j y(\\boldsymbol{\\sigma})\n",
    "$$\n",
    "We can think of this as selecting all elements of the vector $\\boldsymbol{y}$ where $\\sigma_i$ and  $\\sigma_j$ are 1, summing them up and divinding by $M$. There are a couple of different ways we can implement this, so let's try them out and time how long it takes."
   ]
  },
  {
   "cell_type": "code",
   "execution_count": 1,
   "metadata": {},
   "outputs": [],
   "source": [
    "import numpy as np \n",
    "import matplotlib.pyplot as plt\n",
    "from numba import njit"
   ]
  },
  {
   "cell_type": "code",
   "execution_count": 17,
   "metadata": {},
   "outputs": [],
   "source": [
    "N = 150 #no neurons\n",
    "M = 20000 #number of samples\n",
    "X = np.random.randint(2,size=(M,N)) #matrix (M x N) of binary random variables\n",
    "Y = np.random.rand(M) #vector of size M of random numbers "
   ]
  },
  {
   "cell_type": "code",
   "execution_count": 18,
   "metadata": {},
   "outputs": [],
   "source": [
    "@njit(cache=True)\n",
    "def sample_corrs(X,Y):\n",
    "    \"\"\"\n",
    "    X is an M x N matrix of states\n",
    "    Y is an M vector of values for each state\n",
    "    This way relies on numba to make the for loops more efficient. It also selects the entries from Y before the summation\n",
    "    \"\"\"\n",
    "    corrs = np.zeros((N,N))\n",
    "    for i in range(N-1):\n",
    "        for j in range(i+1,N):\n",
    "            corrs[i,j] = np.sum( Y[ X[:,i]*X[:,j] == 1 ] ) / M\n",
    "    return corrs"
   ]
  },
  {
   "cell_type": "code",
   "execution_count": 19,
   "metadata": {},
   "outputs": [],
   "source": [
    "corr_numba = sample_corrs(X,Y)"
   ]
  },
  {
   "cell_type": "code",
   "execution_count": 20,
   "metadata": {},
   "outputs": [],
   "source": [
    "# An alternative way is to implement this as a series of matrix products\n",
    "corr_mat = np.triu(X.T.dot(np.diag(Y)).dot(X),1)/M"
   ]
  },
  {
   "cell_type": "code",
   "execution_count": 21,
   "metadata": {},
   "outputs": [],
   "source": [
    "np.testing.assert_array_almost_equal(corr_numba,corr_mat)"
   ]
  },
  {
   "cell_type": "markdown",
   "metadata": {},
   "source": [
    "Let's time the difference using the iPython `%timeit` command"
   ]
  },
  {
   "cell_type": "code",
   "execution_count": 29,
   "metadata": {},
   "outputs": [
    {
     "name": "stdout",
     "output_type": "stream",
     "text": [
      "3.57 s ± 361 ms per loop (mean ± std. dev. of 7 runs, 1 loop each)\n",
      "7.44 s ± 816 ms per loop (mean ± std. dev. of 7 runs, 1 loop each)\n"
     ]
    }
   ],
   "source": [
    "%timeit sample_corrs(X,Y)\n",
    "%timeit np.triu(X.T.dot(np.diag(Y)).dot(X),1)/M"
   ]
  },
  {
   "cell_type": "markdown",
   "metadata": {},
   "source": [
    "## Sample averages"
   ]
  },
  {
   "cell_type": "code",
   "execution_count": 27,
   "metadata": {},
   "outputs": [],
   "source": [
    "@njit(cache=True)\n",
    "def sample_avgs(X,Y):\n",
    "    \"\"\"\n",
    "    X is an M x N matrix of states\n",
    "    Y is an M vector of values for each state\n",
    "    This way relies on numba to make the for loops more efficient. It also selects the entries from Y before the summation\n",
    "    \"\"\"\n",
    "    avgs = np.zeros(N)\n",
    "    for i in range(N):\n",
    "        avgs[i] = np.sum( Y[ X[:,i] == 1 ] ) \n",
    "    avgs /= M\n",
    "    return avgs"
   ]
  },
  {
   "cell_type": "code",
   "execution_count": 30,
   "metadata": {},
   "outputs": [],
   "source": [
    "avgs_numba = sample_avgs(X,Y)"
   ]
  },
  {
   "cell_type": "code",
   "execution_count": 36,
   "metadata": {},
   "outputs": [],
   "source": [
    "avgs_mat = X.T.dot(Y)/M"
   ]
  },
  {
   "cell_type": "code",
   "execution_count": 37,
   "metadata": {},
   "outputs": [],
   "source": [
    "np.testing.assert_array_almost_equal(avgs_numba,avgs_mat)"
   ]
  },
  {
   "cell_type": "code",
   "execution_count": 38,
   "metadata": {},
   "outputs": [
    {
     "name": "stdout",
     "output_type": "stream",
     "text": [
      "35 ms ± 3.79 ms per loop (mean ± std. dev. of 7 runs, 10 loops each)\n",
      "9.75 ms ± 328 µs per loop (mean ± std. dev. of 7 runs, 100 loops each)\n"
     ]
    }
   ],
   "source": [
    "%timeit sample_avgs(X,Y)\n",
    "%timeit X.T.dot(Y)/M"
   ]
  }
 ],
 "metadata": {
  "kernelspec": {
   "display_name": "Python 3",
   "language": "python",
   "name": "python3"
  },
  "language_info": {
   "codemirror_mode": {
    "name": "ipython",
    "version": 3
   },
   "file_extension": ".py",
   "mimetype": "text/x-python",
   "name": "python",
   "nbconvert_exporter": "python",
   "pygments_lexer": "ipython3",
   "version": "3.9.7"
  }
 },
 "nbformat": 4,
 "nbformat_minor": 2
}
