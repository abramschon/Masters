{
 "cells": [
  {
   "cell_type": "markdown",
   "metadata": {},
   "source": [
    "# A quick notebook to check all the code imports\n",
    "\n",
    "Though going forward, I will start writing tests, in the meanwhile here is some quick tests to see all is okay."
   ]
  },
  {
   "cell_type": "markdown",
   "metadata": {},
   "source": [
    "## Test Ising with Sampling "
   ]
  },
  {
   "cell_type": "code",
   "execution_count": 19,
   "metadata": {},
   "outputs": [],
   "source": [
    "from MaxEnt import NumIsing\n",
    "import numpy as np\n",
    "import matplotlib.pyplot as plt\n",
    "import time"
   ]
  },
  {
   "cell_type": "code",
   "execution_count": 3,
   "metadata": {},
   "outputs": [],
   "source": [
    "def test_pert_init():  \n",
    "    N = 5\n",
    "    avgs = 0.05*np.ones(N) # prob of every neuron firing in a window is 0.5\n",
    "    corrs = 0.002*np.triu(np.ones((N,N)),1) # prob of 2 neurons firing in the same window is 0.2 \n",
    "    print(\"Init model\")\n",
    "    ising = NumIsing(N, avgs, corrs, lr=0.5,analytic=True) \n",
    "    ising.pert_init()\n",
    "    print(ising.avgs, ising.corrs)\n",
    "    \n",
    "    pred_avgs = ising.averages(analytic=True)\n",
    "    print(\"Predicted averages:\", np.round(pred_avgs,4))\n",
    "    pred_corrs = ising.correlations(analytic=True)\n",
    "    print(\"Predicted correlations:\", np.round(pred_corrs,4))\n",
    "\n",
    "def test_MC():\n",
    "    N=20\n",
    "    \n",
    "    avgs = 0.5*np.ones(N) # prob of every neuron firing in a window is 0.5\n",
    "    corrs = 0.2*np.triu(np.ones((N,N)),1) # prob of 2 neurons firing in the same window is 0.2 \n",
    "    print(\"Init model\")\n",
    "    ising = NumIsing(N, avgs, corrs, lr=0.5) \n",
    "    \n",
    "    print(\"State space \", 2**N)\n",
    "    N_samples=1000; chains=4; N_sets=10; updates_per_set=100; M = N_samples*chains\n",
    "    print(f\"{N_sets} sets of {M} samples will be generated, for a total of {N_sets*M} states\")\n",
    "    \n",
    "    print(\"Starting gradient ascent with sampling\")\n",
    "    start = time.time()\n",
    "    ising.num_gradient_ascent(N_samples, chains, N_sets, updates_per_set) \n",
    "    stop = time.time()\n",
    "    print(\"Stop grad ascent, time: \",stop-start,\"s\")\n",
    "    \n",
    "    pred_avgs = ising.averages()\n",
    "    print(\"Predicted averages:\", np.round(pred_avgs,4))\n",
    "    # pred_corrs = ising.correlations()\n",
    "    # print(\"Predicted correlations:\", np.round(pred_corrs,4))\n",
    "\n",
    "\n",
    "def test_correlations():\n",
    "    N = 5\n",
    "    avgs = 0.5*np.ones(N) # prob of every neuron firing in a window is 0.5\n",
    "    corrs = 0.2*np.triu(np.ones((N,N)),1) # prob of 2 neurons firing in the same window is 0.2 \n",
    "    \n",
    "    print(\"Init model\")\n",
    "    ising = NumIsing(N, avgs, corrs, lr=0.5,analytic=True) \n",
    "    \n",
    "    print(\"Starting grad ascent\")\n",
    "    ising.num_gradient_ascent() #\n",
    "    print(\"Stop grad ascent\")\n",
    "    \n",
    "    pred_avgs = ising.mod_avgs\n",
    "    pred_corrs = ising.mod_corrs\n",
    "    print(\"Predicted averages:\", np.round(pred_avgs,4), \"Predicted correlations:\", np.round(pred_corrs,4),sep=\"\\n\")\n",
    "\n",
    "    #test averages\n",
    "    print(\"Default\", ising.correlations())\n",
    "    print(\"Analytic\", ising.correlations(analytic=True))\n",
    "    print(\"Compute\",ising.correlations(compute=True))\n",
    "    ising.save_samples()\n",
    "    print(\"After more samples\",ising.correlations(compute=True))\n",
    "\n",
    "def test_samples(): #fix this\n",
    "    N = 10\n",
    "    print(\"Init model\")\n",
    "    ising = NumIsing(N, 0.5*np.ones(N), 0.2*np.triu(np.ones((N,N)),1), lr=0.5, analytic=True) \n",
    "\n",
    "    M = 500000\n",
    "    chains = 10\n",
    "    start = time.time()\n",
    "    samples = ising.gibbs_sampling(M,chains)\n",
    "    stop = time.time()\n",
    "    print(f\"Time to generate {chains}x{M} samples\", stop-start)\n",
    "\n",
    "    means_true = ising.averages(analytic=True)\n",
    "    means_sample = np.mean(samples, axis=0)\n",
    "    \n",
    "    dp = 5 #decimal places\n",
    "    print(\"True means\", np.round(means_true,dp), \"Sample means\", np.round(means_sample,dp), sep=\"\\n\")\n",
    "    print(\"Difference in means\", means_true - means_sample, sep=\"\\n\")\n",
    "\n",
    "    corrs_true = ising.correlations(analytic=True)\n",
    "    corrs_sample = np.triu((samples.T@samples) / samples.shape[0],k=1)\n",
    "    print(\"True correlations\", np.round(corrs_true,dp), \"Sample correlations\", np.round(corrs_sample,dp), sep=\"\\n\")\n",
    "    print(\"Difference in correlations\", corrs_true - corrs_sample, sep=\"\\n\")"
   ]
  },
  {
   "cell_type": "code",
   "execution_count": 5,
   "metadata": {
    "collapsed": true
   },
   "outputs": [
    {
     "name": "stdout",
     "output_type": "stream",
     "text": [
      "Init model\n",
      "[0.05 0.05 0.05 0.05 0.05] [[0.    0.002 0.002 0.002 0.002]\n",
      " [0.    0.    0.002 0.002 0.002]\n",
      " [0.    0.    0.    0.002 0.002]\n",
      " [0.    0.    0.    0.    0.002]\n",
      " [0.    0.    0.    0.    0.   ]]\n",
      "Predicted averages: [0.0482 0.0482 0.0482 0.0482 0.0482]\n",
      "Predicted correlations: [[0.     0.0019 0.0019 0.0019 0.0019]\n",
      " [0.     0.     0.0019 0.0019 0.0019]\n",
      " [0.     0.     0.     0.0019 0.0019]\n",
      " [0.     0.     0.     0.     0.0019]\n",
      " [0.     0.     0.     0.     0.    ]]\n"
     ]
    }
   ],
   "source": [
    "test_pert_init()"
   ]
  },
  {
   "cell_type": "code",
   "execution_count": 8,
   "metadata": {
    "collapsed": true
   },
   "outputs": [
    {
     "name": "stdout",
     "output_type": "stream",
     "text": [
      "Init model\n",
      "State space  1048576\n",
      "10 sets of 4000 samples will be generated, for a total of 40000 states\n",
      "Starting gradient ascent with sampling\n",
      "Stop grad ascent, time:  11.035627126693726 s\n",
      "Predicted averages: [0.2827 0.3544 0.4926 0.4628 0.4082 0.5471 0.4834 0.5824 0.2845 0.3846\n",
      " 0.4785 0.4453 0.4091 0.4078 0.337  0.6401 0.4284 0.3763 0.3942 0.4948]\n"
     ]
    }
   ],
   "source": [
    "test_MC()"
   ]
  },
  {
   "cell_type": "code",
   "execution_count": 9,
   "metadata": {
    "collapsed": true
   },
   "outputs": [
    {
     "name": "stdout",
     "output_type": "stream",
     "text": [
      "Init model\n",
      "Starting grad ascent\n",
      "Stop grad ascent\n",
      "Predicted averages:\n",
      "[0.4918 0.4864 0.4862 0.4934 0.4885]\n",
      "Predicted correlations:\n",
      "[[0.     0.2104 0.2042 0.2018 0.2016]\n",
      " [0.     0.     0.2124 0.2007 0.2033]\n",
      " [0.     0.     0.     0.2018 0.2088]\n",
      " [0.     0.     0.     0.     0.2082]\n",
      " [0.     0.     0.     0.     0.    ]]\n",
      "Default [[0.         0.21037009 0.20423589 0.20180868 0.20162331]\n",
      " [0.         0.         0.21237863 0.20065772 0.20333813]\n",
      " [0.         0.         0.         0.20179349 0.20877137]\n",
      " [0.         0.         0.         0.         0.20819898]\n",
      " [0.         0.         0.         0.         0.        ]]\n",
      "Analytic [[0.         0.20107162 0.19922883 0.20697046 0.19792552]\n",
      " [0.         0.         0.2046909  0.23326978 0.22056229]\n",
      " [0.         0.         0.         0.20766317 0.19946154]\n",
      " [0.         0.         0.         0.         0.2168731 ]\n",
      " [0.         0.         0.         0.         0.        ]]\n",
      "Compute [[0.      0.256   0.23725 0.21775 0.2065 ]\n",
      " [0.      0.      0.22375 0.1865  0.18325]\n",
      " [0.      0.      0.      0.18175 0.1885 ]\n",
      " [0.      0.      0.      0.      0.178  ]\n",
      " [0.      0.      0.      0.      0.     ]]\n",
      "After more samples [[0.         0.20340909 0.20461364 0.21134091 0.19859091]\n",
      " [0.         0.         0.19947727 0.22988636 0.21477273]\n",
      " [0.         0.         0.         0.20863636 0.19640909]\n",
      " [0.         0.         0.         0.         0.22136364]\n",
      " [0.         0.         0.         0.         0.        ]]\n"
     ]
    }
   ],
   "source": [
    "test_correlations()"
   ]
  },
  {
   "cell_type": "code",
   "execution_count": 10,
   "metadata": {
    "collapsed": true
   },
   "outputs": [
    {
     "name": "stdout",
     "output_type": "stream",
     "text": [
      "Init model\n",
      "Time to generate 10x500000 samples 5.154664993286133\n",
      "True means\n",
      "[0.1668  0.30203 0.30687 0.17914 0.23234 0.19311 0.2786  0.1954  0.193\n",
      " 0.26611]\n",
      "Sample means\n",
      "[0.1678  0.30388 0.30644 0.17811 0.23182 0.19331 0.27799 0.1949  0.1932\n",
      " 0.26661]\n",
      "Difference in means\n",
      "[-0.00100605 -0.00184523  0.00042345  0.0010371   0.00052506 -0.00019542\n",
      "  0.00060705  0.00050148 -0.00020871 -0.00050006]\n",
      "True correlations\n",
      "[[0.      0.04678 0.0324  0.02658 0.03601 0.02498 0.03731 0.02909 0.01896\n",
      "  0.03946]\n",
      " [0.      0.      0.08405 0.03355 0.05537 0.05273 0.07748 0.05292 0.04124\n",
      "  0.08514]\n",
      " [0.      0.      0.      0.0378  0.0712  0.04308 0.07992 0.05628 0.04773\n",
      "  0.08648]\n",
      " [0.      0.      0.      0.      0.04019 0.02075 0.04053 0.03683 0.03933\n",
      "  0.03116]\n",
      " [0.      0.      0.      0.      0.      0.03244 0.06642 0.03741 0.04386\n",
      "  0.05687]\n",
      " [0.      0.      0.      0.      0.      0.      0.03567 0.03374 0.02672\n",
      "  0.05698]\n",
      " [0.      0.      0.      0.      0.      0.      0.      0.04823 0.03285\n",
      "  0.053  ]\n",
      " [0.      0.      0.      0.      0.      0.      0.      0.      0.03964\n",
      "  0.03578]\n",
      " [0.      0.      0.      0.      0.      0.      0.      0.      0.\n",
      "  0.03999]\n",
      " [0.      0.      0.      0.      0.      0.      0.      0.      0.\n",
      "  0.     ]]\n",
      "Sample correlations\n",
      "[[0.      0.04732 0.03226 0.02674 0.03611 0.02512 0.0373  0.0293  0.01903\n",
      "  0.03983]\n",
      " [0.      0.      0.08454 0.03352 0.0553  0.05337 0.07829 0.05297 0.04174\n",
      "  0.08623]\n",
      " [0.      0.      0.      0.03752 0.07117 0.04288 0.07919 0.05604 0.04788\n",
      "  0.08685]\n",
      " [0.      0.      0.      0.      0.04019 0.0205  0.04006 0.03618 0.03893\n",
      "  0.03102]\n",
      " [0.      0.      0.      0.      0.      0.03244 0.06602 0.03731 0.04374\n",
      "  0.05694]\n",
      " [0.      0.      0.      0.      0.      0.      0.03539 0.03386 0.02686\n",
      "  0.05711]\n",
      " [0.      0.      0.      0.      0.      0.      0.      0.04826 0.03293\n",
      "  0.05323]\n",
      " [0.      0.      0.      0.      0.      0.      0.      0.      0.03958\n",
      "  0.03544]\n",
      " [0.      0.      0.      0.      0.      0.      0.      0.      0.\n",
      "  0.03986]\n",
      " [0.      0.      0.      0.      0.      0.      0.      0.      0.\n",
      "  0.     ]]\n",
      "Difference in correlations\n",
      "[[ 0.00000000e+00 -5.42345311e-04  1.47340159e-04 -1.53364578e-04\n",
      "  -1.00395706e-04 -1.39553576e-04  2.36714682e-06 -2.16650299e-04\n",
      "  -7.09341183e-05 -3.74419527e-04]\n",
      " [ 0.00000000e+00  0.00000000e+00 -4.90835510e-04  2.72171177e-05\n",
      "   6.89434855e-05 -6.35648030e-04 -8.07431222e-04 -5.40303240e-05\n",
      "  -4.95261227e-04 -1.09439514e-03]\n",
      " [ 0.00000000e+00  0.00000000e+00  0.00000000e+00  2.83679198e-04\n",
      "   3.38288361e-05  2.00643139e-04  7.25863623e-04  2.33245039e-04\n",
      "  -1.50183989e-04 -3.70221480e-04]\n",
      " [ 0.00000000e+00  0.00000000e+00  0.00000000e+00  0.00000000e+00\n",
      "   8.57114074e-06  2.45401715e-04  4.66504289e-04  6.45806925e-04\n",
      "   3.98442363e-04  1.37118544e-04]\n",
      " [ 0.00000000e+00  0.00000000e+00  0.00000000e+00  0.00000000e+00\n",
      "   0.00000000e+00 -1.82418286e-06  3.95468610e-04  9.08978498e-05\n",
      "   1.20715373e-04 -6.38887318e-05]\n",
      " [ 0.00000000e+00  0.00000000e+00  0.00000000e+00  0.00000000e+00\n",
      "   0.00000000e+00  0.00000000e+00  2.72641889e-04 -1.20499444e-04\n",
      "  -1.38165368e-04 -1.39338605e-04]\n",
      " [ 0.00000000e+00  0.00000000e+00  0.00000000e+00  0.00000000e+00\n",
      "   0.00000000e+00  0.00000000e+00  0.00000000e+00 -3.00055107e-05\n",
      "  -8.15316898e-05 -2.24929888e-04]\n",
      " [ 0.00000000e+00  0.00000000e+00  0.00000000e+00  0.00000000e+00\n",
      "   0.00000000e+00  0.00000000e+00  0.00000000e+00  0.00000000e+00\n",
      "   5.85789369e-05  3.37094858e-04]\n",
      " [ 0.00000000e+00  0.00000000e+00  0.00000000e+00  0.00000000e+00\n",
      "   0.00000000e+00  0.00000000e+00  0.00000000e+00  0.00000000e+00\n",
      "   0.00000000e+00  1.22500119e-04]\n",
      " [ 0.00000000e+00  0.00000000e+00  0.00000000e+00  0.00000000e+00\n",
      "   0.00000000e+00  0.00000000e+00  0.00000000e+00  0.00000000e+00\n",
      "   0.00000000e+00  0.00000000e+00]]\n"
     ]
    }
   ],
   "source": [
    "test_samples()"
   ]
  },
  {
   "cell_type": "markdown",
   "metadata": {},
   "source": [
    "## Test Ising without sampling"
   ]
  },
  {
   "cell_type": "code",
   "execution_count": 13,
   "metadata": {},
   "outputs": [],
   "source": [
    "from MaxEnt import Ising"
   ]
  },
  {
   "cell_type": "code",
   "execution_count": 15,
   "metadata": {},
   "outputs": [],
   "source": [
    "def fit_example():\n",
    "    N = 5\n",
    "    avgs = 0.5*np.ones(N) # prob of every neuron firing in a window is 0.5\n",
    "    corrs = 0.2*np.triu(np.ones((N,N)),1) # prob of 2 neurons firing in the same window is 0.2 \n",
    "    \n",
    "    print(\"Init model\")\n",
    "    ising = Ising(N, avgs, corrs, lr=0.5) \n",
    "    \n",
    "    print(\"Starting grad ascent\")\n",
    "    start = time.time()\n",
    "    for _ in range(10):\n",
    "        ising.gradient_ascent() # 500 steps \n",
    "    print(f\"Stop grad ascent: {time.time()-start}s\")\n",
    "    \n",
    "    pred_avgs = ising.averages()\n",
    "    pred_corrs = ising.correlations()\n",
    "    print(\"Predicted averages:\", pred_avgs, \"Predicted correlations:\", pred_corrs,sep=\"\\n\")\n",
    "    print(f\"P({ising.states[0]})={ising.p(ising.states[0])}\")\n",
    "\n",
    "def av_time_grad_ascent():\n",
    "    # Calculate average times\n",
    "    reps = 50\n",
    "    startN = 3\n",
    "    stopN = 8\n",
    "    Ns = np.arange(startN,stopN+1)\n",
    "    times = np.zeros( (reps,len(Ns)) )\n",
    "    for i in range(reps):\n",
    "        if not (i+1)%10:\n",
    "            print(\"Repetitions: \", i+1)\n",
    "        for N in Ns:\n",
    "            avgs = 0.5*np.ones(N) # prob of every neuron firing in a window is 0.5\n",
    "            corrs = 0.2*np.triu(np.ones((N,N)),1) # prob of 2 neurons firing in the same window is 0.2 \n",
    "            ising = Ising(N, avgs, corrs, lr=0.5) \n",
    "            start = time.time()\n",
    "            ising.gradient_ascent() # 500 steps \n",
    "            stop = time.time()\n",
    "            times[i,N-startN]=stop-start\n",
    "    \n",
    "    av_times = np.mean(times,0)\n",
    "    std_times = np.std(times,0)\n",
    "\n",
    "    plt.plot(Ns, av_times, \"k.\")\n",
    "    plt.plot(Ns, av_times+2*std_times/np.sqrt(reps), \"r_\")\n",
    "    plt.plot(Ns, av_times-2*std_times/np.sqrt(reps), \"r_\")\n",
    "    plt.title(\"Time for 100 steps of grad. ascent vs. system size\")\n",
    "    plt.xlabel(\"System size\")\n",
    "    plt.ylabel(\"Time (seconds)\")\n",
    "    plt.show()"
   ]
  },
  {
   "cell_type": "code",
   "execution_count": 17,
   "metadata": {},
   "outputs": [
    {
     "name": "stdout",
     "output_type": "stream",
     "text": [
      "Init model\n",
      "Starting grad ascent\n",
      "Stop grad ascent: 1.2862319946289062s\n",
      "Predicted averages:\n",
      "[0.49919931 0.49919931 0.49919931 0.49919931 0.49919931]\n",
      "Predicted correlations:\n",
      "[[0.         0.20039772 0.20039772 0.20039772 0.20039772]\n",
      " [0.         0.         0.20039772 0.20039772 0.20039772]\n",
      " [0.         0.         0.         0.20039772 0.20039772]\n",
      " [0.         0.         0.         0.         0.20039772]\n",
      " [0.         0.         0.         0.         0.        ]]\n",
      "P([0. 0. 0. 0. 0.])=7.302263160405469e-07\n"
     ]
    }
   ],
   "source": [
    "fit_example()"
   ]
  },
  {
   "cell_type": "code",
   "execution_count": 21,
   "metadata": {},
   "outputs": [
    {
     "name": "stdout",
     "output_type": "stream",
     "text": [
      "Repetitions:  10\n",
      "Repetitions:  20\n",
      "Repetitions:  30\n",
      "Repetitions:  40\n",
      "Repetitions:  50\n"
     ]
    },
    {
     "data": {
      "image/png": "[encoded data removed]",
      "text/plain": [
       "<Figure size 432x288 with 1 Axes>"
      ]
     },
     "metadata": {
      "needs_background": "light"
     },
     "output_type": "display_data"
    }
   ],
   "source": [
    "av_time_grad_ascent()"
   ]
  },
  {
   "cell_type": "markdown",
   "metadata": {},
   "source": [
    "## Test threewise dist"
   ]
  },
  {
   "cell_type": "code",
   "execution_count": 23,
   "metadata": {},
   "outputs": [],
   "source": [
    "from MaxEnt import ThreeWise "
   ]
  },
  {
   "cell_type": "code",
   "execution_count": 24,
   "metadata": {},
   "outputs": [
    {
     "name": "stdout",
     "output_type": "stream",
     "text": [
      "Correlation between 0,1,2\n",
      " 0.920532426867079\n",
      "Correlation between 0,1,3\n",
      " 0.8232659014923606\n",
      "Correlation between 0,2,3\n",
      " 0.8335528687031606\n",
      "Correlation between 1,2,3\n",
      " 0.8418426922603865\n"
     ]
    }
   ],
   "source": [
    "N = 4\n",
    "h = np.random.random_sample((N))\n",
    "J = np.triu( np.random.random_sample((N,N)), 1)\n",
    "K = np.zeros((N,N,N))\n",
    "\n",
    "alpha = 1\n",
    "for i in range(N-2):\n",
    "    for j in range(i+1,N-1):\n",
    "        for k in range(j+1, N):\n",
    "            K[i,j,k] = alpha \n",
    "            alpha /= 10\n",
    "ex = ThreeWise(N, h, J, K)\n",
    "\n",
    "#calc 3 wise correlations\n",
    "for i in range(N-2):\n",
    "    for j in range(i+1,N-1):\n",
    "        for k in range(j+1, N):\n",
    "            print(f\"Correlation between {i},{j},{k}\\n\", ex.expectation(lambda s: s[:,i]*s[:,j]*s[:,k]) )"
   ]
  }
 ],
 "metadata": {
  "kernelspec": {
   "display_name": "Python 3.9.2 64-bit ('.venv': venv)",
   "language": "python",
   "name": "python39264bitvenvvenv098b745301f24a4a9273629fd09e163f"
  },
  "language_info": {
   "codemirror_mode": {
    "name": "ipython",
    "version": 3
   },
   "file_extension": ".py",
   "mimetype": "text/x-python",
   "name": "python",
   "nbconvert_exporter": "python",
   "pygments_lexer": "ipython3",
   "version": "3.9.2"
  }
 },
 "nbformat": 4,
 "nbformat_minor": 2
}
