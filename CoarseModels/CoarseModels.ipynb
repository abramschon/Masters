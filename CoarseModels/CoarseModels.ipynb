{
 "cells": [
  {
   "cell_type": "markdown",
   "id": "51257f37",
   "metadata": {},
   "source": [
    "# Coarse models\n",
    "Here, we model the joint probability distribution over a set of binary neurons using 2 different simplistic models. We consider the maximum entropy distribution that reproduces the *probability that K cells spike*, the population count model, and distribution that reproduces the *mean probability of neurons spiking*, the independent model. "
   ]
  },
  {
   "cell_type": "markdown",
   "id": "dd7bec48",
   "metadata": {},
   "source": [
    "## Independent Model"
   ]
  },
  {
   "cell_type": "markdown",
   "id": "c7260cfb",
   "metadata": {},
   "source": [
    "### Set no. of neurons/spins"
   ]
  },
  {
   "cell_type": "code",
   "execution_count": 1,
   "id": "74acaba5",
   "metadata": {},
   "outputs": [
    {
     "data": {
      "text/html": [
       "<div><pre style=\"&#102;&#111;&#110;&#116;&#45;&#102;&#97;&#109;&#105;&#108;&#121;&#58;&#32;&#34;&#67;&#111;&#117;&#114;&#105;&#101;&#114;&#32;&#78;&#101;&#119;&#34;&#44;&#67;&#111;&#117;&#114;&#105;&#101;&#114;&#44;&#109;&#111;&#110;&#111;&#115;&#112;&#97;&#99;&#101;&#59;\">&#50;</pre></div>"
      ],
      "text/plain": [
       "2"
      ]
     },
     "execution_count": 1,
     "metadata": {
      "text/html": [],
      "text/plain": []
     },
     "output_type": "execute_result"
    }
   ],
   "source": [
    "NN = 2"
   ]
  },
  {
   "cell_type": "markdown",
   "id": "2af1a421",
   "metadata": {},
   "source": [
    "### Construct the Hamiltonian"
   ]
  },
  {
   "cell_type": "code",
   "execution_count": 3,
   "id": "815a95ac",
   "metadata": {},
   "outputs": [
    {
     "data": {
      "text/html": [
       "<div><img alt=\"Output\" src=\"data:image/png;base64,iVBORw0KGgoAAAANSUhEUgAAAKYAAAARCAIAAADYJUDtAAAAznpUWHRSYXcgcHJvZmlsZSB0eXBlIGV4aWYAAHjabU9bDsMgDPvnFDsCeeDAcWhHpd1gx19S2KZOs0TiOE6ANJ6PI90CTDlpsYoGZIc2bdyd1DwxM+V2xhMdq0dXPdEi1F0q3wbG0rerbmsR159FmSeRuMG56BpYi4SnTn3W2/Jzr/Xvoje0fp7+vxZjFJCpR+Vshua8JqeeUDgXw4EdcCPhzll3zwNmPgYLh/QYDPCwq3skiAv3+ILEIemei0eWGCVR53TqIsTb6QpPfOcFU2Bar0bp9MwAAAAJcEhZcwAACxMAAAsTAQCanBgAAAA8dEVYdFNvZnR3YXJlAENyZWF0ZWQgd2l0aCB0aGUgV29sZnJhbSBMYW5ndWFnZSA6IHd3dy53b2xmcmFtLmNvbVyipoUAAAAhdEVYdENyZWF0aW9uIFRpbWUAMjAyMTowNToyNSAxNDoxMTozMYkOc48AAAQFSURBVGiB7ZlPSDJPGMdnN1NMt4Qgwggl7Z8ERaBdCoIOIQRlF4UOBUaHoJPZoYOHTp0iCCLIwIJIAq2gTh0MMhJcMgLFlgwsMhFUSMzMdH+HDZGtX+7q6vu+5Pc0f56Z+cx35NnZFcJxHFT0mwT/aYCKyq3Kkf86VY781wmOx+MwDLtcLqJuNBo7OjpyIx4fH+12ezYAAPD6+np0dDQ1NTU7O0uazm632+32aDTKLGXZGApwA0VRlUolEokUCoXFYmGK5AcVyQDjOE66wZGqJpPJ4XA8Pz9nWwKBwN7e3tXV1c3NDWmg3+83m82Xl5eM7K38DHTdiMViGo1mcHDw4OBgZGRErVZ7PB5GSH5QkQwsKmuMjY1JpdJsVSqVms3mlZUVq9WaGwZB0MTEBItFaU6SfD7f9PQ0iqI1NTUDAwNLS0symazMDBSVS4IgCIZhMAwDAHp7ezc3N1EUJcjL5gZdhs+K1Wq9vr4GAFxcXBSASEVer7e1tbWqqgoAkEgkAoGARCLJ9i4sLLDZbI/HE4/HTSYT48mQJJvN1tLSIhKJvu2l5QbhNQDg5eUlFAq1t7dTAWDWDVoMn0d+eHjI4/EAAKFQqLq6mgo0XTU1NXk8HplM9v7+jmFYZ2dnbm9tba3T6fR6vUNDQ8vLy6UAyJXb7ebz+f935IW5odfr5XK5QqGgElwiN6gwfP46dnZ2HA6Hw+FYXFykvgAtIQgiFovdbjexQzabndu7trY2Pj6u0WiEQuH8/Hw4HC4Rhsvlstlst7e3KIrabLa7u7uvMQW4sbGxsb+/bzQaIQiiEl8KNygylPUljcViZTIZCIKIhJYrPp+/uroaDAbX19ePj491Ol2JGILB4MPDQzQaJQqRSKT4OXd3d3U6ncViIV3vfxazblBnKORykUwmcRxPpVLpdPrt7Q2CIA6Hk3dUIpHAMEwmkyWTSSKnZbeaTqf1ev3k5GR3d7dKpTo7Ozs9PS0FAwBAqVQCAGKxWF9fn1wupzLkZxmNxrm5ue3t7Z6enkgkAsOwQCDIO4pZN2gxsEhJgEpe6u/vR1GUKHO5XIFAQOW25fP5iAzGZrPFYrHP52trayO6Pj4+BAKBUqlMJpOZTIbL5W5tbZWCIavm5ua6urqv7XTdCAQCMzMzOI6r1WqiRSKRfPuwIIlBN+gysHg8Xu6rp1ar1Wq1P+M6nc68W/qqrq6ubBlBEARBslUOh2MwGAwGQzgcTqVSDQ0N2SsoswxZjY6OfttO1w2hUJjJZAoAYNANugyUnuX39/d+v59KJIZhT09P1Jcnqb6+vrGx8dsdlo0hr/51N/If+fDwsNvtPj8/zxuJ4/jJyQkEQaTvBsXrb2D4e0iKZIAq/5f/Nv0HXlRElPGMDroAAAAASUVORK5CYII=\"></div>"
      ],
      "text/plain": [
       "H[1] s[1] + H[2] s[2]"
      ]
     },
     "execution_count": 3,
     "metadata": {
      "text/html": [],
      "text/plain": []
     },
     "output_type": "execute_result"
    }
   ],
   "source": [
    "Hamiltonian = Sum[ H[i] s[i], {i, 1, NN}] // Expand"
   ]
  },
  {
   "cell_type": "markdown",
   "id": "7bb968a5",
   "metadata": {},
   "source": [
    "### Construct the partition function `Z`\n",
    "We chose to represent a neuron firing with a 1 and it being silent with a 0."
   ]
  },
  {
   "cell_type": "code",
   "execution_count": 4,
   "id": "4b507cb8",
   "metadata": {},
   "outputs": [
    {
     "data": {
      "text/html": [
       "<style>\n",
       "\t\t\t\t\t\t\t\t\t\t\t\t\t.grid-container {\n",
       "\t\t\t\t\t\t\t\t\t\t\t\t\t\tdisplay: inline-grid;\n",
       "\t\t\t\t\t\t\t\t\t\t\t\t\t\tgrid-template-columns: auto;\n",
       "\t\t\t\t\t\t\t\t\t\t\t\t\t}\n",
       "\t\t\t\t\t\t\t\t\t\t\t\t</style>\n",
       "\n",
       "\t\t\t\t\t\t\t\t\t\t\t\t<div><div class=\"grid-container\"><div class=\"grid-item\"><img alt=\"Output\" src=\"data:image/png;base64,iVBORw0KGgoAAAANSUhEUgAAAOsAAAARCAIAAACzYcz9AAAAz3pUWHRSYXcgcHJvZmlsZSB0eXBlIGV4aWYAAHjabU9bjgMhDPvnFHuEvHDgOExLpd6gx99kYLeaqpaIjXEClPl6PspPQpiKVW/oAAWsW5cRotHCYqZ+1hPz2Gd89QtvwSOs+j7A3P5x9R2LpX0MIllC84bQarthD1JZPo+1P3ZeRmtfB/3B2v/Tv+/VBRXsFtWE3NFDtxIyCFWoOh64ARFk3IXsFjzhHm3wTOjIxoRMv6ZngYZxzy9oLtYRXKOKZiurhWbVqKokx5nKTH7nF5owWuDab7xeAAAACXBIWXMAAAsTAAALEwEAmpwYAAAAPHRFWHRTb2Z0d2FyZQBDcmVhdGVkIHdpdGggdGhlIFdvbGZyYW0gTGFuZ3VhZ2UgOiB3d3cud29sZnJhbS5jb21coqaFAAAAIXRFWHRDcmVhdGlvbiBUaW1lADIwMjE6MDU6MjUgMTQ6MTM6MzBUAIuSAAADkklEQVRoge2aPywzYRzHn5aqJyq58ycMBovowEAiOdHF1MZqsBjMjVUiqUEYSMRuII2wiIigg6HEhKRS6WBRIWFopBVpE+6K9nmHvm/V89yfp3f39G3lPovm+9zv93z8PD1HakMIAQuLmsX+vwUsLAxhnWCL2sY6wRa1zY8TLIri7e0teRGW53K5QCDgdrsHBwc3NjbK3VKl/Obm5uvrq9yGTG3f398PDg6mpqb8fj+2xMJWZTsaKjxbg7Y6ZiuTo39Eo1GfzxcOh9FPyHx+ft7tdp+fnx8eHvI8HwqFUDmolAeDQa/X+/n5WVZDprbxeHxiYqK/v39kZARbYmGrsh0NFZ6tQVsdsyXz7xO8uLgYjUbJbci8o6Njf3+/8DoQCIyNjZXlrV6+vr5OvovoMd22wOrqquwPyXRb9e00qfBsC+i2VS9XssVye+nNuLm5mbxvY3kmk3l+fhYEYWtr6+zsbHh4OB6P0//i0Cx3uVzZbJa+IVNbTcy1NUiFZ8saJVss/z7B+XxethGWp1IpAADP8zMzM0tLSzzPJ5NJei2a8lwuR9+QqS0NJtoapMKzrQBKtqX53xN8cXFxdXXV3d2NXUrmLS0tAIB0Or29vb2yspJOp1tbW+mdNMuHhoY2Nzfv7+/pe7Kz1cRcW4NUeLasUbLF8vrCl2Qy6XQ66+rqsKvJnOM4juOur6+9Xi8A4OjoCPuuEokEhJDjOFktzXIIoSRJmUwGK1Rvy8hWE3NtNamq2Rq01UTJFs+LT8Rzc3N3d3fkgzOZT09Pezyet7e3x8fHrq6uYDBYXHp9fYUQtrW1ZbNZpSd3lXKE0M7Ozt7eHlZC05aRrSRJoiguLy8LgiCKoiRJTG1VtqvC2Rq01TFbMv9+Dm5oaEByn5Eg84WFBYfD0d7e3tPT4/P5Jicni0tNTU19fX2pVEr2/8qa5YV3VGNjI1ZC05aRrcfjgRDOzs5eXl5CCDs7O5naqmxXhbM1aKtjtmReX3xlt9tl//Qjc57nT09PX15enE6ny+UqXXI4HLu7uwMDA729vUreKuUAgI+PD5vNhoU0bRnZRiIRle1Mt1XZrgpna9BWx2xl8uLdOBKJjI+Px2Ix7KatlMvy8PAgCILf76e5mCQcDo+Ojj49Pelua9kq8TtsyRyULsdisZOTE7KdUk4SCoXW1tby+Xz5zgghdHx8nEgkDLa1bGX5HbZkbkPW54Mtapk/nJjLjKaT0/QAAAAASUVORK5CYII=\"></div><div class=\"grid-item\"><img alt=\"Output\" src=\"data:image/png;base64,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\"></div><div class=\"grid-item\"><img alt=\"Output\" src=\"data:image/png;base64,iVBORw0KGgoAAAANSUhEUgAAAOIAAAAUCAIAAAAfuXaEAAAAz3pUWHRSYXcgcHJvZmlsZSB0eXBlIGV4aWYAAHjabU/bDQMhDPtnio5AHjgwDnflpG7Q8ZsctNVVtURsjBMgjefjSLcAU05arKIB2aFNG3cXNU9MptzOemLwOqOrn0iX390q3wOM5W9X3zCZ68+gvG6QuMG1rMG2BglPn/rcbyvPvda/g97Q+nn6/70Yo4BMvSpnMzTXNbl0QuFcDAd2wIOEO2fdnQfMvA0WCenRGOBh1/RIEDfu8QWJRdKdi1eWaCVR1yTiVYR4O1ORie+8AFewWrTDOk31AAAACXBIWXMAAAsTAAALEwEAmpwYAAAAPHRFWHRTb2Z0d2FyZQBDcmVhdGVkIHdpdGggdGhlIFdvbGZyYW0gTGFuZ3VhZ2UgOiB3d3cud29sZnJhbS5jb21coqaFAAAAIXRFWHRDcmVhdGlvbiBUaW1lADIwMjE6MDU6MjUgMTQ6MTM6MzEjB7sEAAAFQUlEQVRoge1aSyw7Wxg/bYdGVb0iaImmaqGJRDzCqhIRwoIYxCORlERs2IiVxMJGSBorEasuRKgNXUm8IrpjwQKN0ohXqx6hOjqtFnMXkzu3t526M9Pp4z/ub3XmzPl+5/t93zevM4eHYRigBgRBUBTNzs4GAFxeXioUCoqGLDI7HI7U1FQej8fW1CwicvGJc0QhfXzqQzc3N6enpwEAPp+vvr6e6J+fn5+dnXU6nfjh1NRUXl6eTqcjBhiNxsHBQRRFw2E+Pz9Xq9U9PT0qlers7IwiM4Hb29vv72/qYhmA3fggCPLy8hK+V3EinHr6SIXTKNNQcLlcQ0NDEokEPxwZGRkYGPAfoFary8rKqN+2SZmlUunS0tL6+vrw8LBer6fLPD4+zuezIJYBmMXH5XLhuQ8TcSKcevpIhUO0Jt7Y2Ojr6/v56kxMTExISKBFS4VZLBaLxWIAwMnJSW1tLS3yu7u7rKwsui4xAIvxycnJubm5wTAsnDec+BFOPX2kwkOWKYqiW1tbeFsmk1VUVAAAKioqxsbGfD5fc3MzXSWsMK+srNzd3bW1tdGacXl52d8Ed2BtbU0kEs3NzdFXEBKsxIdAZWWl0WisqalhzBBvwimmL1h4yDIVCoUlJSV4Ozk5GW9kZmYWFRX5fD6q7rPKvLi4uLCwYDAY6N5g9vb2RkdHiUObzba8vGwymYgHMVtgJT4EYBiempoKp0zjSjj19AULD/nWIhAIFH8D/4gj2H+Yxmq11tXV6XQ6rVYb6qJhxry5udnb2+t0OhsaGrq6un5S+W+43W4+n+/PrFQq9Xq9RqOhTkIFbMWHgFwuf35+ZuxPXAmnlb5g4RAAwOv1arVanU6nUqlaW1s7OztFIlGwMQzDMAwDACAIslgspBPIZLLt7e2fnWDGXF9fz+AjDABwfX1dUFDAwHB3d1ehUJDakkYsEvEJJfns7KyoqEggEAAA3G63zWYrLCwMGBNXwummL2AwHwAwMzOzvr5eXV2t1+uTkpICvkP/E1KpdHZ2FkGQUAOMRuPFxQUe0+gzX19fy+VyulMDAE5PTx8fH0lP0YpYOCokEgnpspRMJjOZTF9fX263+/z8PD8/P3gMl4RDHo9nZ2dHKpU2NTXt7+9nZ2cfHBx8f39TX8Xo7u7+eYBarVar1RTZWGe+urqim62joyOHw2E2mwUCwfv7e35+vlKpJM7SjVg4KmQy2dXVVUZGRkB/SkqKXC4/PT3FMKy4uDgxMTHYlkvCIRRFhULhy8uL2+3GXwgmJyfj8zcPM3x+fgqFQlomdrv98fHx9fXVbreLRCLiOw9HNCPG4/FCrfJAEISXSKiHCZeEQxkZGQ6HIzc3FwDQ0dEBAHh4eOBSmcrlcpvN5t/z8fGBYZjP5/v6+vJ4PDweLyCdjY2NAAAEQaqqqiorKwMIoxmx29tb0jsi/qxXqVQfHx8mk0mlUgUXK6eEYxhmsVjKy8sBABqNBobh/v5+j8eDcQUnJycTExP+PfhKLYG0tDRSQ4PBYDabSU9FLWItLS2k/cfHx3jNYRjmdDpJ/eSScEC0rFar2Wz2er2RmDWGQBBkYGAgEsxRiFhbWxtjWy4J/2d5XyqVRuLuHXOIxeL7+/tIMEc6Yk9PT+Gsw3NJeGw2JUQZVVVVR0dHsfaCNgwGQ3t7ezgMnBH+K8q0q6trdXU11l7QhtFo9N8XxwCcEf4rylSpVN7c3MTaC3p4e3tLT0+HIHpb2ALAGeE8jNEfyD8Oh4eHpaWlsdp5yQBPT08ul4vZbyR/cEP4bynT//FH4y/szsX9d6h6nwAAAABJRU5ErkJggg==\"></div></div></div>"
      ],
      "text/plain": [
       "{{0, 0}, {0, 1}, {1, 0}, {1, 1}}\n",
       "{{s[1] -> 0, s[2] -> 0}, {s[1] -> 0, s[2] -> 1}, {s[1] -> 1, s[2] -> 0}, \n",
       " \n",
       ">   {s[1] -> 1, s[2] -> 1}}\n",
       " -H[1] - H[2]       H[1]        H[2]\n",
       "E             (1 + E    ) (1 + E    )"
      ]
     },
     "execution_count": 4,
     "metadata": {
      "text/html": [],
      "text/plain": []
     },
     "output_type": "execute_result"
    }
   ],
   "source": [
    "spinvals = (PadLeft[IntegerDigits[#, 2], NN] & /@ \n",
    "     Range[0, 2^NN - 1]) \n",
    "reps = Table[s[i] -> #[[i]], {i, NN}] & /@ spinvals\n",
    "Z = Total[(Exp[-Hamiltonian] /. reps)] // ExpToTrig // FullSimplify"
   ]
  },
  {
   "cell_type": "markdown",
   "id": "3de29887",
   "metadata": {},
   "source": [
    "### Construct the probability distribution `p`"
   ]
  },
  {
   "cell_type": "code",
   "execution_count": 26,
   "id": "661418b2",
   "metadata": {},
   "outputs": [
    {
     "data": {
      "text/html": [
       "<div><img alt=\"Output\" src=\"data:image/png;base64,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\"></div>"
      ],
      "text/plain": [
       " H[1] + H[2] - H[1] s[1] - H[2] s[2]\n",
       "E\n",
       "------------------------------------\n",
       "            H[1]        H[2]\n",
       "      (1 + E    ) (1 + E    )"
      ]
     },
     "execution_count": 26,
     "metadata": {
      "text/html": [],
      "text/plain": []
     },
     "output_type": "execute_result"
    }
   ],
   "source": [
    "pInd = Exp[-Hamiltonian]/Z "
   ]
  },
  {
   "cell_type": "markdown",
   "id": "384cd0ed",
   "metadata": {},
   "source": [
    "### Compute the expectations"
   ]
  },
  {
   "cell_type": "code",
   "execution_count": 27,
   "id": "4dc01024",
   "metadata": {},
   "outputs": [
    {
     "data": {
      "text/html": [
       "<div><img alt=\"Output\" src=\"data:image/png;base64,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\"></div>"
      ],
      "text/plain": [
       "     1          1\n",
       "{---------, ---------}\n",
       "      H[1]       H[2]\n",
       " 1 + E      1 + E"
      ]
     },
     "execution_count": 27,
     "metadata": {
      "text/html": [],
      "text/plain": []
     },
     "output_type": "execute_result"
    }
   ],
   "source": [
    "Averages = Table[ Total[s[i] pInd /. reps] // ExpToTrig // FullSimplify, {i,NN} ]"
   ]
  },
  {
   "cell_type": "markdown",
   "id": "2032949d",
   "metadata": {},
   "source": [
    "### Solve for `H` given observed expectations\n",
    "Let us say that each neuron `i` has an expected value `a[i]`. We can solve for `H[i]` in terms of each `a[i]`. "
   ]
  },
  {
   "cell_type": "code",
   "execution_count": 28,
   "id": "3aa6996d",
   "metadata": {},
   "outputs": [
    {
     "data": {
      "text/html": [
       "<div><img alt=\"Output\" src=\"data:image/png;base64,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\"></div>"
      ],
      "text/plain": [
       "                                    1 - a[1]\n",
       "{{H[1] -> ConditionalExpression[Log[--------], 0 < a[1] < 1 && 0 < a[2] < 1], \n",
       "                                      a[1]\n",
       " \n",
       "                                       1 - a[2]\n",
       ">    H[2] -> ConditionalExpression[Log[--------], 0 < a[1] < 1 && 0 < a[2] < 1]}}\n",
       "                                         a[2]"
      ]
     },
     "execution_count": 28,
     "metadata": {
      "text/html": [],
      "text/plain": []
     },
     "output_type": "execute_result"
    }
   ],
   "source": [
    "Solve[Averages[[#]] == a[#]& /@ Range[NN], H[#]& /@ Range[NN], Reals]"
   ]
  },
  {
   "cell_type": "markdown",
   "id": "f6da21c7",
   "metadata": {},
   "source": [
    "## Population Count Model\n",
    "The population count model is a bit simpler. It needs to reproduce the probability that `K` neurons fire, which is measured experimentally. All states where `K` neurons fire are assumed to be equally probable, thus we divide the experimentally measured probabilities `pK` among the `N` choose `K` states. Thus, we have a model of the form:"
   ]
  },
  {
   "cell_type": "code",
   "execution_count": 29,
   "id": "533060b4",
   "metadata": {},
   "outputs": [
    {
     "data": {
      "text/html": [
       "<div><img alt=\"Output\" src=\"data:image/png;base64,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\"></div>"
      ],
      "text/plain": [
       "    pK[s[1] + s[2]]\n",
       "------------------------\n",
       "Binomial[2, s[1] + s[2]]"
      ]
     },
     "execution_count": 29,
     "metadata": {
      "text/html": [],
      "text/plain": []
     },
     "output_type": "execute_result"
    }
   ],
   "source": [
    "pCount = pK[#]/ Binomial[NN, #] &[Sum[s[i],{i,NN}]]"
   ]
  }
 ],
 "metadata": {
  "kernelspec": {
   "display_name": "Wolfram Language 12.3",
   "language": "Wolfram Language",
   "name": "wolframlanguage12.3"
  },
  "language_info": {
   "codemirror_mode": "mathematica",
   "file_extension": ".m",
   "mimetype": "application/vnd.wolfram.m",
   "name": "Wolfram Language",
   "pygments_lexer": "mathematica",
   "version": "12.0"
  }
 },
 "nbformat": 4,
 "nbformat_minor": 5
}
