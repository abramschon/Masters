{
 "metadata": {
  "language_info": {
   "codemirror_mode": {
    "name": "ipython",
    "version": 3
   },
   "file_extension": ".py",
   "mimetype": "text/x-python",
   "name": "python",
   "nbconvert_exporter": "python",
   "pygments_lexer": "ipython3",
   "version": "3.9.2-final"
  },
  "orig_nbformat": 2,
  "kernelspec": {
   "name": "python39264bitvenvvenv098b745301f24a4a9273629fd09e163f",
   "display_name": "Python 3.9.2 64-bit ('.venv': venv)"
  }
 },
 "nbformat": 4,
 "nbformat_minor": 2,
 "cells": [
  {
   "source": [
    "# Determining the Ising model numerically\n",
    "For a good review of what this is all about, see [Inverse statistical problems: from the inverse Ising problem to data science](https://arxiv.org/abs/1702.01522). We want to solve for the variables $\\boldsymbol{h}\\in\\mathbb{R}^{N}$ and $\\boldsymbol{J}\\in\\mathbb{R}^{N\\times(N-1)/2}$ such that our Ising model reproduces observed averages $\\langle \\sigma_i \\rangle^D$ and correlations $\\langle \\sigma_i \\sigma_j \\rangle ^D$. We start by taking a naïve approach, using gradient ascent on the log-likelihood function:\n",
    "$$\n",
    "\\begin{aligned}\n",
    "L_{D}(\\boldsymbol{h}, \\boldsymbol{J}) &=\\frac{1}{M} \\ln p(\\mathrm{D} \\mid \\boldsymbol{J}, \\boldsymbol{h}) \\\\\n",
    "&=\\sum_{i<j} J_{i j}\\left\\langle\\sigma_{i} \\sigma_{j}\\right\\rangle^{D}+\\sum_{i} h_{i}\\left\\langle\\sigma_{i}\\right\\rangle^{D}-\\ln Z(\\boldsymbol{h}, \\boldsymbol{J})\n",
    "\\end{aligned}\n",
    "$$\n",
    "The partial derivatives of the log-likelihood function are:\n",
    "$$\n",
    "\\begin{aligned}\n",
    "\\frac{\\partial L_{D}}{\\partial h_i} =& \\langle \\sigma_i \\rangle^D - \\langle \\sigma_i \\rangle \\\\\n",
    "\\frac{\\partial L_{D}}{\\partial J_{ij}} =& \\langle \\sigma_i \\sigma_j  \\rangle^D - \\langle \\sigma_i \\sigma_j \\rangle\n",
    "\\end{aligned}\n",
    "$$\n",
    "and the gradient ascent update rule is:\n",
    "$$\n",
    "\\begin{aligned}\n",
    "h_i^{(t+1)} =& h_i^{(t)} + \\lambda \\frac{\\partial L_{D}}{\\partial h_i} \\\\\n",
    "J_{ij}^{(t+1)} =& J_{ij}^{(t)} + \\lambda \\frac{\\partial L_{D}}{\\partial J_{ij}} \n",
    "\\end{aligned}\n",
    "$$\n",
    "where $\\lambda$ is the learning rate."
   ],
   "cell_type": "markdown",
   "metadata": {}
  },
  {
   "cell_type": "code",
   "execution_count": 1,
   "metadata": {},
   "outputs": [],
   "source": [
    "import numpy as np\n",
    "import matplotlib.pyplot as plt"
   ]
  },
  {
   "cell_type": "code",
   "execution_count": 2,
   "metadata": {},
   "outputs": [],
   "source": [
    "class Ising:\n",
    "    \"\"\"\n",
    "    Represents an Ising model.\n",
    "    Variables:\n",
    "        N - no. spins\n",
    "        av_s - vector of expectations for each spin\n",
    "        av_ss - matrix of pairwise correlations\n",
    "        lr - learning rate\n",
    "        spin_vals - the values each spin takes on, typically [0,1] or [-1,1]\n",
    "        states - matrix of all possible states\n",
    "        h - vector of the local magnetic fields \n",
    "        J - matrix of the pairwise couplings \n",
    "        Z - the current value of the partition function\n",
    "    \"\"\"\n",
    "    def __init__(self, N, avgs, corrs, lr=0.1, spin_vals=[0,1]):\n",
    "        # set user input\n",
    "        self.N = N\n",
    "        self.avgs = avgs\n",
    "        self.corrs = corrs\n",
    "        self.lr = lr\n",
    "        self.spin_vals = spin_vals\n",
    "        # determine all states\n",
    "        self.states = np.array([self.to_binary(n) for n in range(2**N)]) \n",
    "        # randomly initialise h and J\n",
    "        self.h = np.random.random_sample((N))\n",
    "        self.J = np.triu( np.random.random_sample((N,N)), 1)\n",
    "        # work out the partition function Z\n",
    "        self.Z = self.calc_Z()\n",
    "    \n",
    "    # Methods for calculating probabilities and expectations\n",
    "    def expectation(self, f, ind, p):\n",
    "        \"\"\"\n",
    "        Returns the sum over all states of the function f, weighted by p. \n",
    "        Args:\n",
    "            f - a function of a subset of the spins\n",
    "            ind - indices of the spins which are involved in f\n",
    "            p - a function of the state, for instance the probability p of observing the state\n",
    "        \"\"\"\n",
    "        exp = 0\n",
    "        for s in self.states:\n",
    "            exp += f( [s[i] for i in ind] ) * p(s)\n",
    "        \n",
    "        return exp\n",
    "\n",
    "    def averages(self):\n",
    "        \"\"\"\n",
    "        Returns a vector of the predicted expected values\n",
    "        \"\"\"\n",
    "        averages = np.zeros(self.N)\n",
    "        for i in range(self.N):\n",
    "            averages[i] = self.expectation(lambda s: s[0], [i], self.p)\n",
    "        return averages\n",
    "    \n",
    "    def correlations(self):\n",
    "        \"\"\"\n",
    "        Returns a matrix of the predicted correlations values.\n",
    "        We also predict the auto-correlations, though this model is not trained on them.\n",
    "        \"\"\"\n",
    "        correlations = np.zeros((self.N,self.N))\n",
    "        for i in range(self.N):\n",
    "            for j in range(i,self.N):\n",
    "                correlations[i,j] = self.expectation(lambda s: s[0]*s[1], [i,j], self.p)\n",
    "        return correlations\n",
    "\n",
    "    def p(self, s):\n",
    "        \"\"\"\n",
    "        Returns the normalized probability of the state s given the model parameters \n",
    "        Args:\n",
    "            s - np.array of the state, e.g. np.array([0,0,1]), here the third neuron fires\n",
    "        \"\"\"\n",
    "        return np.exp(-self.H(s)) / self.Z\n",
    "\n",
    "    def p_unnormalized(self, s):\n",
    "        \"\"\"\n",
    "        Returns the unnormalized probability (not divided Z) of the state s given the model parameters \n",
    "        Args:\n",
    "            s - np.array of the state\n",
    "        \"\"\"\n",
    "        return np.exp(-self.H(s))\n",
    "\n",
    "    def H(self, s):\n",
    "        \"\"\"\n",
    "        Return the hamiltonian H(s) of the state s\n",
    "        Args:\n",
    "            s - np.array of the state\n",
    "        \"\"\"\n",
    "        return -self.h.dot(s) - s@self.J@s \n",
    "            \n",
    "    def calc_Z(self):\n",
    "        \"\"\" \n",
    "        Calculates the partition function Z based on the current h and J.\n",
    "        \"\"\"\n",
    "        # (the lambda function just returns 1 since this is just a sum of p over all states) \n",
    "        Z = self.expectation(lambda args: 1, [], self.p_unnormalized) \n",
    "        return Z \n",
    "    \n",
    "    def to_binary(self, n):\n",
    "        \"\"\"\n",
    "        Returns a binary rep of the int n as an array of size N, e.g. Assuming N = 5, 3 -> np.array([0,0,0,1,1]) \n",
    "        \"\"\"\n",
    "        b = np.zeros(self.N)\n",
    "        for i in range(self.N):\n",
    "            if n % 2 == 1: b[self.N-1-i]=1 # index N-1-i otherwise numbers are reversed\n",
    "            n//=2\n",
    "            if n==0: break\n",
    "        return b\n",
    "\n",
    "    # Methods for gradient ascent\n",
    "    def gradient_ascent(self):\n",
    "        \"\"\"\n",
    "        Performs gradient ascent on the log-likelihood and updates h and J\n",
    "        \"\"\"\n",
    "        steps = 100\n",
    "        for n in range(steps): #update this condition to check accuracy\n",
    "            # work out corrections to h\n",
    "            h_new = self.h\n",
    "            for i in range(self.N):\n",
    "                dLdhi = self.avgs[i] - self.expectation( lambda s: s[0], [i], self.p )\n",
    "                h_new[i] += self.lr * dLdhi \n",
    "\n",
    "            # work out corrections to J\n",
    "            J_new = self.J\n",
    "            for i in range(self.N-1):\n",
    "                for j in range(i+1,self.N):\n",
    "                    dLdJij = self.corrs[i,j] - self.expectation( lambda s: s[0]*s[1], [i,j], self.p )\n",
    "                    J_new[i,j] += self.lr * dLdJij \n",
    "\n",
    "            # perform the update\n",
    "            self.h = h_new\n",
    "            self.J = J_new\n",
    "            self.Z = self.calc_Z()\n",
    "    "
   ]
  },
  {
   "cell_type": "code",
   "execution_count": 35,
   "metadata": {},
   "outputs": [
    {
     "output_type": "stream",
     "name": "stdout",
     "text": [
      "0 1, 0 2, 0 3, \n1 2, 1 3, \n2 3, \n"
     ]
    }
   ],
   "source": [
    "for i in range(3):\n",
    "    for j in range(i+1,4):\n",
    "        print(i,j,end=\", \")\n",
    "    print()"
   ]
  },
  {
   "source": [
    "## Create an Ising model\n",
    "We define all averages to be 0.5, and all pairwise correlations to be 0.2. Since we use the convention $\\sigma \\in \\{0,1\\}$, the auto-correlations should be 0.5 as well."
   ],
   "cell_type": "markdown",
   "metadata": {}
  },
  {
   "cell_type": "code",
   "execution_count": 15,
   "metadata": {},
   "outputs": [
    {
     "output_type": "stream",
     "name": "stdout",
     "text": [
      "[0.5 0.5 0.5 0.5 0.5 0.5 0.5]\n[[0.  0.2 0.2 0.2 0.2 0.2 0.2]\n [0.  0.  0.2 0.2 0.2 0.2 0.2]\n [0.  0.  0.  0.2 0.2 0.2 0.2]\n [0.  0.  0.  0.  0.2 0.2 0.2]\n [0.  0.  0.  0.  0.  0.2 0.2]\n [0.  0.  0.  0.  0.  0.  0.2]\n [0.  0.  0.  0.  0.  0.  0. ]]\n"
     ]
    }
   ],
   "source": [
    "N = 7\n",
    "avgs = 0.5*np.ones(N) # prob of every neuron firing in a window is 0.5\n",
    "corrs = 0.2*np.triu(np.ones((N,N)),1) # prob of 2 neurons firing in the same window is 0.2 \n",
    "print(avgs,corrs, sep=\"\\n\")"
   ]
  },
  {
   "cell_type": "code",
   "execution_count": 16,
   "metadata": {},
   "outputs": [],
   "source": [
    "# create the model\n",
    "ising = Ising(N, avgs, corrs, lr=0.5)"
   ]
  },
  {
   "source": [
    "### Train the model using gradient ascent\n",
    "Currently, calling `gradient_ascent` performs 100 steps of gradient ascent on the ising model. "
   ],
   "cell_type": "markdown",
   "metadata": {}
  },
  {
   "cell_type": "code",
   "execution_count": 17,
   "metadata": {},
   "outputs": [],
   "source": [
    "import time"
   ]
  },
  {
   "cell_type": "code",
   "execution_count": 18,
   "metadata": {},
   "outputs": [
    {
     "output_type": "stream",
     "name": "stdout",
     "text": [
      "13.759306907653809\n"
     ]
    }
   ],
   "source": [
    "start = time.time()\n",
    "ising.gradient_ascent() # 100 steps \n",
    "stop = time.time()\n",
    "print(stop-start)"
   ]
  },
  {
   "source": [
    "### Compare predicted expectations and correlations to the actual ones"
   ],
   "cell_type": "markdown",
   "metadata": {}
  },
  {
   "cell_type": "code",
   "execution_count": 19,
   "metadata": {},
   "outputs": [
    {
     "output_type": "stream",
     "name": "stdout",
     "text": [
      "Predicted averages:\n[0.47377505 0.47120583 0.46801606 0.4664079  0.4648241  0.46081373\n 0.46151122]\nPredicted correlations:\n[[0.47377505 0.19937899 0.20039231 0.19889564 0.20040438 0.19997161\n  0.1987776 ]\n [0.         0.47120583 0.20057219 0.19946738 0.20086496 0.19975157\n  0.20111312]\n [0.         0.         0.46801606 0.20165324 0.19937522 0.2019905\n  0.20098528]\n [0.         0.         0.         0.4664079  0.20214168 0.20149857\n  0.20172355]\n [0.         0.         0.         0.         0.4648241  0.20303457\n  0.19980251]\n [0.         0.         0.         0.         0.         0.46081373\n  0.20307895]\n [0.         0.         0.         0.         0.         0.\n  0.46151122]]\n"
     ]
    }
   ],
   "source": [
    "pred_avgs = ising.averages()\n",
    "pred_corrs = ising.correlations()\n",
    "print(\"Predicted averages:\", pred_avgs, \"Predicted correlations:\", pred_corrs,sep=\"\\n\")"
   ]
  },
  {
   "cell_type": "code",
   "execution_count": 125,
   "metadata": {},
   "outputs": [],
   "source": [
    "# function to flatten the correlation matrix and get rid of everything below the diagonal\n",
    "def flatten_corr(corr):\n",
    "    N = len(corr)\n",
    "    flat_corr = np.zeros(N*(N-1)//2)\n",
    "    k = 0\n",
    "    for i in range(N-1):\n",
    "        for j in range(i+1,N):\n",
    "            flat_corr[k] = corr[i,j]\n",
    "            k+=1\n",
    "    return flat_corr"
   ]
  },
  {
   "cell_type": "code",
   "execution_count": 126,
   "metadata": {},
   "outputs": [
    {
     "output_type": "display_data",
     "data": {
      "text/plain": "<Figure size 720x360 with 2 Axes>",
      "image/svg+xml": "<?xml version=\"1.0\" encoding=\"utf-8\" standalone=\"no\"?>\n<!DOCTYPE svg PUBLIC \"-//W3C//DTD SVG 1.1//EN\"\n  \"http://www.w3.org/Graphics/SVG/1.1/DTD/svg11.dtd\">\n<svg height=\"331.674375pt\" version=\"1.1\" viewBox=\"0 0 637.216387 331.674375\" width=\"637.216387pt\" xmlns=\"http://www.w3.org/2000/svg\" xmlns:xlink=\"http://www.w3.org/1999/xlink\">\n <metadata>\n  <rdf:RDF xmlns:cc=\"http://creativecommons.org/ns#\" xmlns:dc=\"http://purl.org/dc/elements/1.1/\" xmlns:rdf=\"http://www.w3.org/1999/02/22-rdf-syntax-ns#\">\n   <cc:Work>\n    <dc:type rdf:resource=\"http://purl.org/dc/dcmitype/StillImage\"/>\n    <dc:date>2021-06-02T21:15:24.311517</dc:date>\n    <dc:format>image/svg+xml</dc:format>\n    <dc:creator>\n     <cc:Agent>\n      <dc:title>Matplotlib v3.4.1, https://matplotlib.org/</dc:title>\n     </cc:Agent>\n    </dc:creator>\n   </cc:Work>\n  </rdf:RDF>\n </metadata>\n <defs>\n  <style type=\"text/css\">*{stroke-linecap:butt;stroke-linejoin:round;}</style>\n </defs>\n <g id=\"figure_1\">\n  <g id=\"patch_1\">\n   <path d=\"M 0 331.674375 \nL 637.216387 331.674375 \nL 637.216387 0 \nL 0 0 \nz\n\" style=\"fill:none;\"/>\n  </g>\n  <g id=\"axes_1\">\n   <g id=\"patch_2\">\n    <path d=\"M 69.23125 294.118125 \nL 322.867614 294.118125 \nL 322.867614 22.318125 \nL 69.23125 22.318125 \nz\n\" style=\"fill:#ffffff;\"/>\n   </g>\n   <g id=\"matplotlib.axis_1\">\n    <g id=\"xtick_1\">\n     <g id=\"line2d_1\">\n      <defs>\n       <path d=\"M 0 0 \nL 0 3.5 \n\" id=\"md8c3b33faa\" style=\"stroke:#000000;stroke-width:0.8;\"/>\n      </defs>\n      <g>\n       <use style=\"stroke:#000000;stroke-width:0.8;\" x=\"103.818027\" xlink:href=\"#md8c3b33faa\" y=\"294.118125\"/>\n      </g>\n     </g>\n     <g id=\"text_1\">\n      <!-- 0.48 -->\n      <g transform=\"translate(92.685214 308.716563)scale(0.1 -0.1)\">\n       <defs>\n        <path d=\"M 2034 4250 \nQ 1547 4250 1301 3770 \nQ 1056 3291 1056 2328 \nQ 1056 1369 1301 889 \nQ 1547 409 2034 409 \nQ 2525 409 2770 889 \nQ 3016 1369 3016 2328 \nQ 3016 3291 2770 3770 \nQ 2525 4250 2034 4250 \nz\nM 2034 4750 \nQ 2819 4750 3233 4129 \nQ 3647 3509 3647 2328 \nQ 3647 1150 3233 529 \nQ 2819 -91 2034 -91 \nQ 1250 -91 836 529 \nQ 422 1150 422 2328 \nQ 422 3509 836 4129 \nQ 1250 4750 2034 4750 \nz\n\" id=\"DejaVuSans-30\" transform=\"scale(0.015625)\"/>\n        <path d=\"M 684 794 \nL 1344 794 \nL 1344 0 \nL 684 0 \nL 684 794 \nz\n\" id=\"DejaVuSans-2e\" transform=\"scale(0.015625)\"/>\n        <path d=\"M 2419 4116 \nL 825 1625 \nL 2419 1625 \nL 2419 4116 \nz\nM 2253 4666 \nL 3047 4666 \nL 3047 1625 \nL 3713 1625 \nL 3713 1100 \nL 3047 1100 \nL 3047 0 \nL 2419 0 \nL 2419 1100 \nL 313 1100 \nL 313 1709 \nL 2253 4666 \nz\n\" id=\"DejaVuSans-34\" transform=\"scale(0.015625)\"/>\n        <path d=\"M 2034 2216 \nQ 1584 2216 1326 1975 \nQ 1069 1734 1069 1313 \nQ 1069 891 1326 650 \nQ 1584 409 2034 409 \nQ 2484 409 2743 651 \nQ 3003 894 3003 1313 \nQ 3003 1734 2745 1975 \nQ 2488 2216 2034 2216 \nz\nM 1403 2484 \nQ 997 2584 770 2862 \nQ 544 3141 544 3541 \nQ 544 4100 942 4425 \nQ 1341 4750 2034 4750 \nQ 2731 4750 3128 4425 \nQ 3525 4100 3525 3541 \nQ 3525 3141 3298 2862 \nQ 3072 2584 2669 2484 \nQ 3125 2378 3379 2068 \nQ 3634 1759 3634 1313 \nQ 3634 634 3220 271 \nQ 2806 -91 2034 -91 \nQ 1263 -91 848 271 \nQ 434 634 434 1313 \nQ 434 1759 690 2068 \nQ 947 2378 1403 2484 \nz\nM 1172 3481 \nQ 1172 3119 1398 2916 \nQ 1625 2713 2034 2713 \nQ 2441 2713 2670 2916 \nQ 2900 3119 2900 3481 \nQ 2900 3844 2670 4047 \nQ 2441 4250 2034 4250 \nQ 1625 4250 1398 4047 \nQ 1172 3844 1172 3481 \nz\n\" id=\"DejaVuSans-38\" transform=\"scale(0.015625)\"/>\n       </defs>\n       <use xlink:href=\"#DejaVuSans-30\"/>\n       <use x=\"63.623047\" xlink:href=\"#DejaVuSans-2e\"/>\n       <use x=\"95.410156\" xlink:href=\"#DejaVuSans-34\"/>\n       <use x=\"159.033203\" xlink:href=\"#DejaVuSans-38\"/>\n      </g>\n     </g>\n    </g>\n    <g id=\"xtick_2\">\n     <g id=\"line2d_2\">\n      <g>\n       <use style=\"stroke:#000000;stroke-width:0.8;\" x=\"149.933729\" xlink:href=\"#md8c3b33faa\" y=\"294.118125\"/>\n      </g>\n     </g>\n     <g id=\"text_2\">\n      <!-- 0.49 -->\n      <g transform=\"translate(138.800917 308.716563)scale(0.1 -0.1)\">\n       <defs>\n        <path d=\"M 703 97 \nL 703 672 \nQ 941 559 1184 500 \nQ 1428 441 1663 441 \nQ 2288 441 2617 861 \nQ 2947 1281 2994 2138 \nQ 2813 1869 2534 1725 \nQ 2256 1581 1919 1581 \nQ 1219 1581 811 2004 \nQ 403 2428 403 3163 \nQ 403 3881 828 4315 \nQ 1253 4750 1959 4750 \nQ 2769 4750 3195 4129 \nQ 3622 3509 3622 2328 \nQ 3622 1225 3098 567 \nQ 2575 -91 1691 -91 \nQ 1453 -91 1209 -44 \nQ 966 3 703 97 \nz\nM 1959 2075 \nQ 2384 2075 2632 2365 \nQ 2881 2656 2881 3163 \nQ 2881 3666 2632 3958 \nQ 2384 4250 1959 4250 \nQ 1534 4250 1286 3958 \nQ 1038 3666 1038 3163 \nQ 1038 2656 1286 2365 \nQ 1534 2075 1959 2075 \nz\n\" id=\"DejaVuSans-39\" transform=\"scale(0.015625)\"/>\n       </defs>\n       <use xlink:href=\"#DejaVuSans-30\"/>\n       <use x=\"63.623047\" xlink:href=\"#DejaVuSans-2e\"/>\n       <use x=\"95.410156\" xlink:href=\"#DejaVuSans-34\"/>\n       <use x=\"159.033203\" xlink:href=\"#DejaVuSans-39\"/>\n      </g>\n     </g>\n    </g>\n    <g id=\"xtick_3\">\n     <g id=\"line2d_3\">\n      <g>\n       <use style=\"stroke:#000000;stroke-width:0.8;\" x=\"196.049432\" xlink:href=\"#md8c3b33faa\" y=\"294.118125\"/>\n      </g>\n     </g>\n     <g id=\"text_3\">\n      <!-- 0.50 -->\n      <g transform=\"translate(184.916619 308.716563)scale(0.1 -0.1)\">\n       <defs>\n        <path d=\"M 691 4666 \nL 3169 4666 \nL 3169 4134 \nL 1269 4134 \nL 1269 2991 \nQ 1406 3038 1543 3061 \nQ 1681 3084 1819 3084 \nQ 2600 3084 3056 2656 \nQ 3513 2228 3513 1497 \nQ 3513 744 3044 326 \nQ 2575 -91 1722 -91 \nQ 1428 -91 1123 -41 \nQ 819 9 494 109 \nL 494 744 \nQ 775 591 1075 516 \nQ 1375 441 1709 441 \nQ 2250 441 2565 725 \nQ 2881 1009 2881 1497 \nQ 2881 1984 2565 2268 \nQ 2250 2553 1709 2553 \nQ 1456 2553 1204 2497 \nQ 953 2441 691 2322 \nL 691 4666 \nz\n\" id=\"DejaVuSans-35\" transform=\"scale(0.015625)\"/>\n       </defs>\n       <use xlink:href=\"#DejaVuSans-30\"/>\n       <use x=\"63.623047\" xlink:href=\"#DejaVuSans-2e\"/>\n       <use x=\"95.410156\" xlink:href=\"#DejaVuSans-35\"/>\n       <use x=\"159.033203\" xlink:href=\"#DejaVuSans-30\"/>\n      </g>\n     </g>\n    </g>\n    <g id=\"xtick_4\">\n     <g id=\"line2d_4\">\n      <g>\n       <use style=\"stroke:#000000;stroke-width:0.8;\" x=\"242.165134\" xlink:href=\"#md8c3b33faa\" y=\"294.118125\"/>\n      </g>\n     </g>\n     <g id=\"text_4\">\n      <!-- 0.51 -->\n      <g transform=\"translate(231.032322 308.716563)scale(0.1 -0.1)\">\n       <defs>\n        <path d=\"M 794 531 \nL 1825 531 \nL 1825 4091 \nL 703 3866 \nL 703 4441 \nL 1819 4666 \nL 2450 4666 \nL 2450 531 \nL 3481 531 \nL 3481 0 \nL 794 0 \nL 794 531 \nz\n\" id=\"DejaVuSans-31\" transform=\"scale(0.015625)\"/>\n       </defs>\n       <use xlink:href=\"#DejaVuSans-30\"/>\n       <use x=\"63.623047\" xlink:href=\"#DejaVuSans-2e\"/>\n       <use x=\"95.410156\" xlink:href=\"#DejaVuSans-35\"/>\n       <use x=\"159.033203\" xlink:href=\"#DejaVuSans-31\"/>\n      </g>\n     </g>\n    </g>\n    <g id=\"xtick_5\">\n     <g id=\"line2d_5\">\n      <g>\n       <use style=\"stroke:#000000;stroke-width:0.8;\" x=\"288.280837\" xlink:href=\"#md8c3b33faa\" y=\"294.118125\"/>\n      </g>\n     </g>\n     <g id=\"text_5\">\n      <!-- 0.52 -->\n      <g transform=\"translate(277.148024 308.716563)scale(0.1 -0.1)\">\n       <defs>\n        <path d=\"M 1228 531 \nL 3431 531 \nL 3431 0 \nL 469 0 \nL 469 531 \nQ 828 903 1448 1529 \nQ 2069 2156 2228 2338 \nQ 2531 2678 2651 2914 \nQ 2772 3150 2772 3378 \nQ 2772 3750 2511 3984 \nQ 2250 4219 1831 4219 \nQ 1534 4219 1204 4116 \nQ 875 4013 500 3803 \nL 500 4441 \nQ 881 4594 1212 4672 \nQ 1544 4750 1819 4750 \nQ 2544 4750 2975 4387 \nQ 3406 4025 3406 3419 \nQ 3406 3131 3298 2873 \nQ 3191 2616 2906 2266 \nQ 2828 2175 2409 1742 \nQ 1991 1309 1228 531 \nz\n\" id=\"DejaVuSans-32\" transform=\"scale(0.015625)\"/>\n       </defs>\n       <use xlink:href=\"#DejaVuSans-30\"/>\n       <use x=\"63.623047\" xlink:href=\"#DejaVuSans-2e\"/>\n       <use x=\"95.410156\" xlink:href=\"#DejaVuSans-35\"/>\n       <use x=\"159.033203\" xlink:href=\"#DejaVuSans-32\"/>\n      </g>\n     </g>\n    </g>\n    <g id=\"text_6\">\n     <!-- Actual -->\n     <g transform=\"translate(180.385369 322.394687)scale(0.1 -0.1)\">\n      <defs>\n       <path d=\"M 2188 4044 \nL 1331 1722 \nL 3047 1722 \nL 2188 4044 \nz\nM 1831 4666 \nL 2547 4666 \nL 4325 0 \nL 3669 0 \nL 3244 1197 \nL 1141 1197 \nL 716 0 \nL 50 0 \nL 1831 4666 \nz\n\" id=\"DejaVuSans-41\" transform=\"scale(0.015625)\"/>\n       <path d=\"M 3122 3366 \nL 3122 2828 \nQ 2878 2963 2633 3030 \nQ 2388 3097 2138 3097 \nQ 1578 3097 1268 2742 \nQ 959 2388 959 1747 \nQ 959 1106 1268 751 \nQ 1578 397 2138 397 \nQ 2388 397 2633 464 \nQ 2878 531 3122 666 \nL 3122 134 \nQ 2881 22 2623 -34 \nQ 2366 -91 2075 -91 \nQ 1284 -91 818 406 \nQ 353 903 353 1747 \nQ 353 2603 823 3093 \nQ 1294 3584 2113 3584 \nQ 2378 3584 2631 3529 \nQ 2884 3475 3122 3366 \nz\n\" id=\"DejaVuSans-63\" transform=\"scale(0.015625)\"/>\n       <path d=\"M 1172 4494 \nL 1172 3500 \nL 2356 3500 \nL 2356 3053 \nL 1172 3053 \nL 1172 1153 \nQ 1172 725 1289 603 \nQ 1406 481 1766 481 \nL 2356 481 \nL 2356 0 \nL 1766 0 \nQ 1100 0 847 248 \nQ 594 497 594 1153 \nL 594 3053 \nL 172 3053 \nL 172 3500 \nL 594 3500 \nL 594 4494 \nL 1172 4494 \nz\n\" id=\"DejaVuSans-74\" transform=\"scale(0.015625)\"/>\n       <path d=\"M 544 1381 \nL 544 3500 \nL 1119 3500 \nL 1119 1403 \nQ 1119 906 1312 657 \nQ 1506 409 1894 409 \nQ 2359 409 2629 706 \nQ 2900 1003 2900 1516 \nL 2900 3500 \nL 3475 3500 \nL 3475 0 \nL 2900 0 \nL 2900 538 \nQ 2691 219 2414 64 \nQ 2138 -91 1772 -91 \nQ 1169 -91 856 284 \nQ 544 659 544 1381 \nz\nM 1991 3584 \nL 1991 3584 \nz\n\" id=\"DejaVuSans-75\" transform=\"scale(0.015625)\"/>\n       <path d=\"M 2194 1759 \nQ 1497 1759 1228 1600 \nQ 959 1441 959 1056 \nQ 959 750 1161 570 \nQ 1363 391 1709 391 \nQ 2188 391 2477 730 \nQ 2766 1069 2766 1631 \nL 2766 1759 \nL 2194 1759 \nz\nM 3341 1997 \nL 3341 0 \nL 2766 0 \nL 2766 531 \nQ 2569 213 2275 61 \nQ 1981 -91 1556 -91 \nQ 1019 -91 701 211 \nQ 384 513 384 1019 \nQ 384 1609 779 1909 \nQ 1175 2209 1959 2209 \nL 2766 2209 \nL 2766 2266 \nQ 2766 2663 2505 2880 \nQ 2244 3097 1772 3097 \nQ 1472 3097 1187 3025 \nQ 903 2953 641 2809 \nL 641 3341 \nQ 956 3463 1253 3523 \nQ 1550 3584 1831 3584 \nQ 2591 3584 2966 3190 \nQ 3341 2797 3341 1997 \nz\n\" id=\"DejaVuSans-61\" transform=\"scale(0.015625)\"/>\n       <path d=\"M 603 4863 \nL 1178 4863 \nL 1178 0 \nL 603 0 \nL 603 4863 \nz\n\" id=\"DejaVuSans-6c\" transform=\"scale(0.015625)\"/>\n      </defs>\n      <use xlink:href=\"#DejaVuSans-41\"/>\n      <use x=\"66.658203\" xlink:href=\"#DejaVuSans-63\"/>\n      <use x=\"121.638672\" xlink:href=\"#DejaVuSans-74\"/>\n      <use x=\"160.847656\" xlink:href=\"#DejaVuSans-75\"/>\n      <use x=\"224.226562\" xlink:href=\"#DejaVuSans-61\"/>\n      <use x=\"285.505859\" xlink:href=\"#DejaVuSans-6c\"/>\n     </g>\n    </g>\n   </g>\n   <g id=\"matplotlib.axis_2\">\n    <g id=\"ytick_1\">\n     <g id=\"line2d_6\">\n      <defs>\n       <path d=\"M 0 0 \nL -3.5 0 \n\" id=\"m2c15eb1fda\" style=\"stroke:#000000;stroke-width:0.8;\"/>\n      </defs>\n      <g>\n       <use style=\"stroke:#000000;stroke-width:0.8;\" x=\"69.23125\" xlink:href=\"#m2c15eb1fda\" y=\"284.186259\"/>\n      </g>\n     </g>\n     <g id=\"text_7\">\n      <!-- 0.49425 -->\n      <g transform=\"translate(20.878125 287.985477)scale(0.1 -0.1)\">\n       <use xlink:href=\"#DejaVuSans-30\"/>\n       <use x=\"63.623047\" xlink:href=\"#DejaVuSans-2e\"/>\n       <use x=\"95.410156\" xlink:href=\"#DejaVuSans-34\"/>\n       <use x=\"159.033203\" xlink:href=\"#DejaVuSans-39\"/>\n       <use x=\"222.65625\" xlink:href=\"#DejaVuSans-34\"/>\n       <use x=\"286.279297\" xlink:href=\"#DejaVuSans-32\"/>\n       <use x=\"349.902344\" xlink:href=\"#DejaVuSans-35\"/>\n      </g>\n     </g>\n    </g>\n    <g id=\"ytick_2\">\n     <g id=\"line2d_7\">\n      <g>\n       <use style=\"stroke:#000000;stroke-width:0.8;\" x=\"69.23125\" xlink:href=\"#m2c15eb1fda\" y=\"248.424909\"/>\n      </g>\n     </g>\n     <g id=\"text_8\">\n      <!-- 0.49450 -->\n      <g transform=\"translate(20.878125 252.224128)scale(0.1 -0.1)\">\n       <use xlink:href=\"#DejaVuSans-30\"/>\n       <use x=\"63.623047\" xlink:href=\"#DejaVuSans-2e\"/>\n       <use x=\"95.410156\" xlink:href=\"#DejaVuSans-34\"/>\n       <use x=\"159.033203\" xlink:href=\"#DejaVuSans-39\"/>\n       <use x=\"222.65625\" xlink:href=\"#DejaVuSans-34\"/>\n       <use x=\"286.279297\" xlink:href=\"#DejaVuSans-35\"/>\n       <use x=\"349.902344\" xlink:href=\"#DejaVuSans-30\"/>\n      </g>\n     </g>\n    </g>\n    <g id=\"ytick_3\">\n     <g id=\"line2d_8\">\n      <g>\n       <use style=\"stroke:#000000;stroke-width:0.8;\" x=\"69.23125\" xlink:href=\"#m2c15eb1fda\" y=\"212.66356\"/>\n      </g>\n     </g>\n     <g id=\"text_9\">\n      <!-- 0.49475 -->\n      <g transform=\"translate(20.878125 216.462779)scale(0.1 -0.1)\">\n       <defs>\n        <path d=\"M 525 4666 \nL 3525 4666 \nL 3525 4397 \nL 1831 0 \nL 1172 0 \nL 2766 4134 \nL 525 4134 \nL 525 4666 \nz\n\" id=\"DejaVuSans-37\" transform=\"scale(0.015625)\"/>\n       </defs>\n       <use xlink:href=\"#DejaVuSans-30\"/>\n       <use x=\"63.623047\" xlink:href=\"#DejaVuSans-2e\"/>\n       <use x=\"95.410156\" xlink:href=\"#DejaVuSans-34\"/>\n       <use x=\"159.033203\" xlink:href=\"#DejaVuSans-39\"/>\n       <use x=\"222.65625\" xlink:href=\"#DejaVuSans-34\"/>\n       <use x=\"286.279297\" xlink:href=\"#DejaVuSans-37\"/>\n       <use x=\"349.902344\" xlink:href=\"#DejaVuSans-35\"/>\n      </g>\n     </g>\n    </g>\n    <g id=\"ytick_4\">\n     <g id=\"line2d_9\">\n      <g>\n       <use style=\"stroke:#000000;stroke-width:0.8;\" x=\"69.23125\" xlink:href=\"#m2c15eb1fda\" y=\"176.902211\"/>\n      </g>\n     </g>\n     <g id=\"text_10\">\n      <!-- 0.49500 -->\n      <g transform=\"translate(20.878125 180.70143)scale(0.1 -0.1)\">\n       <use xlink:href=\"#DejaVuSans-30\"/>\n       <use x=\"63.623047\" xlink:href=\"#DejaVuSans-2e\"/>\n       <use x=\"95.410156\" xlink:href=\"#DejaVuSans-34\"/>\n       <use x=\"159.033203\" xlink:href=\"#DejaVuSans-39\"/>\n       <use x=\"222.65625\" xlink:href=\"#DejaVuSans-35\"/>\n       <use x=\"286.279297\" xlink:href=\"#DejaVuSans-30\"/>\n       <use x=\"349.902344\" xlink:href=\"#DejaVuSans-30\"/>\n      </g>\n     </g>\n    </g>\n    <g id=\"ytick_5\">\n     <g id=\"line2d_10\">\n      <g>\n       <use style=\"stroke:#000000;stroke-width:0.8;\" x=\"69.23125\" xlink:href=\"#m2c15eb1fda\" y=\"141.140862\"/>\n      </g>\n     </g>\n     <g id=\"text_11\">\n      <!-- 0.49525 -->\n      <g transform=\"translate(20.878125 144.94008)scale(0.1 -0.1)\">\n       <use xlink:href=\"#DejaVuSans-30\"/>\n       <use x=\"63.623047\" xlink:href=\"#DejaVuSans-2e\"/>\n       <use x=\"95.410156\" xlink:href=\"#DejaVuSans-34\"/>\n       <use x=\"159.033203\" xlink:href=\"#DejaVuSans-39\"/>\n       <use x=\"222.65625\" xlink:href=\"#DejaVuSans-35\"/>\n       <use x=\"286.279297\" xlink:href=\"#DejaVuSans-32\"/>\n       <use x=\"349.902344\" xlink:href=\"#DejaVuSans-35\"/>\n      </g>\n     </g>\n    </g>\n    <g id=\"ytick_6\">\n     <g id=\"line2d_11\">\n      <g>\n       <use style=\"stroke:#000000;stroke-width:0.8;\" x=\"69.23125\" xlink:href=\"#m2c15eb1fda\" y=\"105.379512\"/>\n      </g>\n     </g>\n     <g id=\"text_12\">\n      <!-- 0.49550 -->\n      <g transform=\"translate(20.878125 109.178731)scale(0.1 -0.1)\">\n       <use xlink:href=\"#DejaVuSans-30\"/>\n       <use x=\"63.623047\" xlink:href=\"#DejaVuSans-2e\"/>\n       <use x=\"95.410156\" xlink:href=\"#DejaVuSans-34\"/>\n       <use x=\"159.033203\" xlink:href=\"#DejaVuSans-39\"/>\n       <use x=\"222.65625\" xlink:href=\"#DejaVuSans-35\"/>\n       <use x=\"286.279297\" xlink:href=\"#DejaVuSans-35\"/>\n       <use x=\"349.902344\" xlink:href=\"#DejaVuSans-30\"/>\n      </g>\n     </g>\n    </g>\n    <g id=\"ytick_7\">\n     <g id=\"line2d_12\">\n      <g>\n       <use style=\"stroke:#000000;stroke-width:0.8;\" x=\"69.23125\" xlink:href=\"#m2c15eb1fda\" y=\"69.618163\"/>\n      </g>\n     </g>\n     <g id=\"text_13\">\n      <!-- 0.49575 -->\n      <g transform=\"translate(20.878125 73.417382)scale(0.1 -0.1)\">\n       <use xlink:href=\"#DejaVuSans-30\"/>\n       <use x=\"63.623047\" xlink:href=\"#DejaVuSans-2e\"/>\n       <use x=\"95.410156\" xlink:href=\"#DejaVuSans-34\"/>\n       <use x=\"159.033203\" xlink:href=\"#DejaVuSans-39\"/>\n       <use x=\"222.65625\" xlink:href=\"#DejaVuSans-35\"/>\n       <use x=\"286.279297\" xlink:href=\"#DejaVuSans-37\"/>\n       <use x=\"349.902344\" xlink:href=\"#DejaVuSans-35\"/>\n      </g>\n     </g>\n    </g>\n    <g id=\"ytick_8\">\n     <g id=\"line2d_13\">\n      <g>\n       <use style=\"stroke:#000000;stroke-width:0.8;\" x=\"69.23125\" xlink:href=\"#m2c15eb1fda\" y=\"33.856814\"/>\n      </g>\n     </g>\n     <g id=\"text_14\">\n      <!-- 0.49600 -->\n      <g transform=\"translate(20.878125 37.656032)scale(0.1 -0.1)\">\n       <defs>\n        <path d=\"M 2113 2584 \nQ 1688 2584 1439 2293 \nQ 1191 2003 1191 1497 \nQ 1191 994 1439 701 \nQ 1688 409 2113 409 \nQ 2538 409 2786 701 \nQ 3034 994 3034 1497 \nQ 3034 2003 2786 2293 \nQ 2538 2584 2113 2584 \nz\nM 3366 4563 \nL 3366 3988 \nQ 3128 4100 2886 4159 \nQ 2644 4219 2406 4219 \nQ 1781 4219 1451 3797 \nQ 1122 3375 1075 2522 \nQ 1259 2794 1537 2939 \nQ 1816 3084 2150 3084 \nQ 2853 3084 3261 2657 \nQ 3669 2231 3669 1497 \nQ 3669 778 3244 343 \nQ 2819 -91 2113 -91 \nQ 1303 -91 875 529 \nQ 447 1150 447 2328 \nQ 447 3434 972 4092 \nQ 1497 4750 2381 4750 \nQ 2619 4750 2861 4703 \nQ 3103 4656 3366 4563 \nz\n\" id=\"DejaVuSans-36\" transform=\"scale(0.015625)\"/>\n       </defs>\n       <use xlink:href=\"#DejaVuSans-30\"/>\n       <use x=\"63.623047\" xlink:href=\"#DejaVuSans-2e\"/>\n       <use x=\"95.410156\" xlink:href=\"#DejaVuSans-34\"/>\n       <use x=\"159.033203\" xlink:href=\"#DejaVuSans-39\"/>\n       <use x=\"222.65625\" xlink:href=\"#DejaVuSans-36\"/>\n       <use x=\"286.279297\" xlink:href=\"#DejaVuSans-30\"/>\n       <use x=\"349.902344\" xlink:href=\"#DejaVuSans-30\"/>\n      </g>\n     </g>\n    </g>\n    <g id=\"text_15\">\n     <!-- Predicted -->\n     <g transform=\"translate(14.798438 181.688438)rotate(-90)scale(0.1 -0.1)\">\n      <defs>\n       <path d=\"M 1259 4147 \nL 1259 2394 \nL 2053 2394 \nQ 2494 2394 2734 2622 \nQ 2975 2850 2975 3272 \nQ 2975 3691 2734 3919 \nQ 2494 4147 2053 4147 \nL 1259 4147 \nz\nM 628 4666 \nL 2053 4666 \nQ 2838 4666 3239 4311 \nQ 3641 3956 3641 3272 \nQ 3641 2581 3239 2228 \nQ 2838 1875 2053 1875 \nL 1259 1875 \nL 1259 0 \nL 628 0 \nL 628 4666 \nz\n\" id=\"DejaVuSans-50\" transform=\"scale(0.015625)\"/>\n       <path d=\"M 2631 2963 \nQ 2534 3019 2420 3045 \nQ 2306 3072 2169 3072 \nQ 1681 3072 1420 2755 \nQ 1159 2438 1159 1844 \nL 1159 0 \nL 581 0 \nL 581 3500 \nL 1159 3500 \nL 1159 2956 \nQ 1341 3275 1631 3429 \nQ 1922 3584 2338 3584 \nQ 2397 3584 2469 3576 \nQ 2541 3569 2628 3553 \nL 2631 2963 \nz\n\" id=\"DejaVuSans-72\" transform=\"scale(0.015625)\"/>\n       <path d=\"M 3597 1894 \nL 3597 1613 \nL 953 1613 \nQ 991 1019 1311 708 \nQ 1631 397 2203 397 \nQ 2534 397 2845 478 \nQ 3156 559 3463 722 \nL 3463 178 \nQ 3153 47 2828 -22 \nQ 2503 -91 2169 -91 \nQ 1331 -91 842 396 \nQ 353 884 353 1716 \nQ 353 2575 817 3079 \nQ 1281 3584 2069 3584 \nQ 2775 3584 3186 3129 \nQ 3597 2675 3597 1894 \nz\nM 3022 2063 \nQ 3016 2534 2758 2815 \nQ 2500 3097 2075 3097 \nQ 1594 3097 1305 2825 \nQ 1016 2553 972 2059 \nL 3022 2063 \nz\n\" id=\"DejaVuSans-65\" transform=\"scale(0.015625)\"/>\n       <path d=\"M 2906 2969 \nL 2906 4863 \nL 3481 4863 \nL 3481 0 \nL 2906 0 \nL 2906 525 \nQ 2725 213 2448 61 \nQ 2172 -91 1784 -91 \nQ 1150 -91 751 415 \nQ 353 922 353 1747 \nQ 353 2572 751 3078 \nQ 1150 3584 1784 3584 \nQ 2172 3584 2448 3432 \nQ 2725 3281 2906 2969 \nz\nM 947 1747 \nQ 947 1113 1208 752 \nQ 1469 391 1925 391 \nQ 2381 391 2643 752 \nQ 2906 1113 2906 1747 \nQ 2906 2381 2643 2742 \nQ 2381 3103 1925 3103 \nQ 1469 3103 1208 2742 \nQ 947 2381 947 1747 \nz\n\" id=\"DejaVuSans-64\" transform=\"scale(0.015625)\"/>\n       <path d=\"M 603 3500 \nL 1178 3500 \nL 1178 0 \nL 603 0 \nL 603 3500 \nz\nM 603 4863 \nL 1178 4863 \nL 1178 4134 \nL 603 4134 \nL 603 4863 \nz\n\" id=\"DejaVuSans-69\" transform=\"scale(0.015625)\"/>\n      </defs>\n      <use xlink:href=\"#DejaVuSans-50\"/>\n      <use x=\"58.552734\" xlink:href=\"#DejaVuSans-72\"/>\n      <use x=\"97.416016\" xlink:href=\"#DejaVuSans-65\"/>\n      <use x=\"158.939453\" xlink:href=\"#DejaVuSans-64\"/>\n      <use x=\"222.416016\" xlink:href=\"#DejaVuSans-69\"/>\n      <use x=\"250.199219\" xlink:href=\"#DejaVuSans-63\"/>\n      <use x=\"305.179688\" xlink:href=\"#DejaVuSans-74\"/>\n      <use x=\"344.388672\" xlink:href=\"#DejaVuSans-65\"/>\n      <use x=\"405.912109\" xlink:href=\"#DejaVuSans-64\"/>\n     </g>\n    </g>\n   </g>\n   <g id=\"line2d_14\">\n    <defs>\n     <path d=\"M 0 1.5 \nC 0.397805 1.5 0.77937 1.341951 1.06066 1.06066 \nC 1.341951 0.77937 1.5 0.397805 1.5 0 \nC 1.5 -0.397805 1.341951 -0.77937 1.06066 -1.06066 \nC 0.77937 -1.341951 0.397805 -1.5 0 -1.5 \nC -0.397805 -1.5 -0.77937 -1.341951 -1.06066 -1.06066 \nC -1.341951 -0.77937 -1.5 -0.397805 -1.5 0 \nC -1.5 0.397805 -1.341951 0.77937 -1.06066 1.06066 \nC -0.77937 1.341951 -0.397805 1.5 0 1.5 \nz\n\" id=\"m0258a0ef2f\" style=\"stroke:#1f77b4;\"/>\n    </defs>\n    <g clip-path=\"url(#p56bf94588e)\">\n     <use style=\"fill:#1f77b4;stroke:#1f77b4;\" x=\"196.049432\" xlink:href=\"#m0258a0ef2f\" y=\"34.67267\"/>\n     <use style=\"fill:#1f77b4;stroke:#1f77b4;\" x=\"196.049432\" xlink:href=\"#m0258a0ef2f\" y=\"95.783848\"/>\n     <use style=\"fill:#1f77b4;stroke:#1f77b4;\" x=\"196.049432\" xlink:href=\"#m0258a0ef2f\" y=\"157.283385\"/>\n     <use style=\"fill:#1f77b4;stroke:#1f77b4;\" x=\"196.049432\" xlink:href=\"#m0258a0ef2f\" y=\"219.221365\"/>\n     <use style=\"fill:#1f77b4;stroke:#1f77b4;\" x=\"196.049432\" xlink:href=\"#m0258a0ef2f\" y=\"281.76358\"/>\n    </g>\n   </g>\n   <g id=\"patch_3\">\n    <path d=\"M 69.23125 294.118125 \nL 69.23125 22.318125 \n\" style=\"fill:none;stroke:#000000;stroke-linecap:square;stroke-linejoin:miter;stroke-width:0.8;\"/>\n   </g>\n   <g id=\"patch_4\">\n    <path d=\"M 322.867614 294.118125 \nL 322.867614 22.318125 \n\" style=\"fill:none;stroke:#000000;stroke-linecap:square;stroke-linejoin:miter;stroke-width:0.8;\"/>\n   </g>\n   <g id=\"patch_5\">\n    <path d=\"M 69.23125 294.118125 \nL 322.867614 294.118125 \n\" style=\"fill:none;stroke:#000000;stroke-linecap:square;stroke-linejoin:miter;stroke-width:0.8;\"/>\n   </g>\n   <g id=\"patch_6\">\n    <path d=\"M 69.23125 22.318125 \nL 322.867614 22.318125 \n\" style=\"fill:none;stroke:#000000;stroke-linecap:square;stroke-linejoin:miter;stroke-width:0.8;\"/>\n   </g>\n   <g id=\"text_16\">\n    <!-- Averages -->\n    <g transform=\"translate(168.284432 16.318125)scale(0.12 -0.12)\">\n     <defs>\n      <path d=\"M 191 3500 \nL 800 3500 \nL 1894 563 \nL 2988 3500 \nL 3597 3500 \nL 2284 0 \nL 1503 0 \nL 191 3500 \nz\n\" id=\"DejaVuSans-76\" transform=\"scale(0.015625)\"/>\n      <path d=\"M 2906 1791 \nQ 2906 2416 2648 2759 \nQ 2391 3103 1925 3103 \nQ 1463 3103 1205 2759 \nQ 947 2416 947 1791 \nQ 947 1169 1205 825 \nQ 1463 481 1925 481 \nQ 2391 481 2648 825 \nQ 2906 1169 2906 1791 \nz\nM 3481 434 \nQ 3481 -459 3084 -895 \nQ 2688 -1331 1869 -1331 \nQ 1566 -1331 1297 -1286 \nQ 1028 -1241 775 -1147 \nL 775 -588 \nQ 1028 -725 1275 -790 \nQ 1522 -856 1778 -856 \nQ 2344 -856 2625 -561 \nQ 2906 -266 2906 331 \nL 2906 616 \nQ 2728 306 2450 153 \nQ 2172 0 1784 0 \nQ 1141 0 747 490 \nQ 353 981 353 1791 \nQ 353 2603 747 3093 \nQ 1141 3584 1784 3584 \nQ 2172 3584 2450 3431 \nQ 2728 3278 2906 2969 \nL 2906 3500 \nL 3481 3500 \nL 3481 434 \nz\n\" id=\"DejaVuSans-67\" transform=\"scale(0.015625)\"/>\n      <path d=\"M 2834 3397 \nL 2834 2853 \nQ 2591 2978 2328 3040 \nQ 2066 3103 1784 3103 \nQ 1356 3103 1142 2972 \nQ 928 2841 928 2578 \nQ 928 2378 1081 2264 \nQ 1234 2150 1697 2047 \nL 1894 2003 \nQ 2506 1872 2764 1633 \nQ 3022 1394 3022 966 \nQ 3022 478 2636 193 \nQ 2250 -91 1575 -91 \nQ 1294 -91 989 -36 \nQ 684 19 347 128 \nL 347 722 \nQ 666 556 975 473 \nQ 1284 391 1588 391 \nQ 1994 391 2212 530 \nQ 2431 669 2431 922 \nQ 2431 1156 2273 1281 \nQ 2116 1406 1581 1522 \nL 1381 1569 \nQ 847 1681 609 1914 \nQ 372 2147 372 2553 \nQ 372 3047 722 3315 \nQ 1072 3584 1716 3584 \nQ 2034 3584 2315 3537 \nQ 2597 3491 2834 3397 \nz\n\" id=\"DejaVuSans-73\" transform=\"scale(0.015625)\"/>\n     </defs>\n     <use xlink:href=\"#DejaVuSans-41\"/>\n     <use x=\"62.533203\" xlink:href=\"#DejaVuSans-76\"/>\n     <use x=\"121.712891\" xlink:href=\"#DejaVuSans-65\"/>\n     <use x=\"183.236328\" xlink:href=\"#DejaVuSans-72\"/>\n     <use x=\"224.349609\" xlink:href=\"#DejaVuSans-61\"/>\n     <use x=\"285.628906\" xlink:href=\"#DejaVuSans-67\"/>\n     <use x=\"349.105469\" xlink:href=\"#DejaVuSans-65\"/>\n     <use x=\"410.628906\" xlink:href=\"#DejaVuSans-73\"/>\n    </g>\n   </g>\n  </g>\n  <g id=\"axes_2\">\n   <g id=\"patch_7\">\n    <path d=\"M 373.594886 294.118125 \nL 627.23125 294.118125 \nL 627.23125 22.318125 \nL 373.594886 22.318125 \nz\n\" style=\"fill:#ffffff;\"/>\n   </g>\n   <g id=\"matplotlib.axis_3\">\n    <g id=\"xtick_6\">\n     <g id=\"line2d_15\">\n      <g>\n       <use style=\"stroke:#000000;stroke-width:0.8;\" x=\"385.123812\" xlink:href=\"#md8c3b33faa\" y=\"294.118125\"/>\n      </g>\n     </g>\n     <g id=\"text_17\">\n      <!-- 0.190 -->\n      <g transform=\"translate(370.809749 308.716563)scale(0.1 -0.1)\">\n       <use xlink:href=\"#DejaVuSans-30\"/>\n       <use x=\"63.623047\" xlink:href=\"#DejaVuSans-2e\"/>\n       <use x=\"95.410156\" xlink:href=\"#DejaVuSans-31\"/>\n       <use x=\"159.033203\" xlink:href=\"#DejaVuSans-39\"/>\n       <use x=\"222.65625\" xlink:href=\"#DejaVuSans-30\"/>\n      </g>\n     </g>\n    </g>\n    <g id=\"xtick_7\">\n     <g id=\"line2d_16\">\n      <g>\n       <use style=\"stroke:#000000;stroke-width:0.8;\" x=\"442.76844\" xlink:href=\"#md8c3b33faa\" y=\"294.118125\"/>\n      </g>\n     </g>\n     <g id=\"text_18\">\n      <!-- 0.195 -->\n      <g transform=\"translate(428.454378 308.716563)scale(0.1 -0.1)\">\n       <use xlink:href=\"#DejaVuSans-30\"/>\n       <use x=\"63.623047\" xlink:href=\"#DejaVuSans-2e\"/>\n       <use x=\"95.410156\" xlink:href=\"#DejaVuSans-31\"/>\n       <use x=\"159.033203\" xlink:href=\"#DejaVuSans-39\"/>\n       <use x=\"222.65625\" xlink:href=\"#DejaVuSans-35\"/>\n      </g>\n     </g>\n    </g>\n    <g id=\"xtick_8\">\n     <g id=\"line2d_17\">\n      <g>\n       <use style=\"stroke:#000000;stroke-width:0.8;\" x=\"500.413068\" xlink:href=\"#md8c3b33faa\" y=\"294.118125\"/>\n      </g>\n     </g>\n     <g id=\"text_19\">\n      <!-- 0.200 -->\n      <g transform=\"translate(486.099006 308.716563)scale(0.1 -0.1)\">\n       <use xlink:href=\"#DejaVuSans-30\"/>\n       <use x=\"63.623047\" xlink:href=\"#DejaVuSans-2e\"/>\n       <use x=\"95.410156\" xlink:href=\"#DejaVuSans-32\"/>\n       <use x=\"159.033203\" xlink:href=\"#DejaVuSans-30\"/>\n       <use x=\"222.65625\" xlink:href=\"#DejaVuSans-30\"/>\n      </g>\n     </g>\n    </g>\n    <g id=\"xtick_9\">\n     <g id=\"line2d_18\">\n      <g>\n       <use style=\"stroke:#000000;stroke-width:0.8;\" x=\"558.057696\" xlink:href=\"#md8c3b33faa\" y=\"294.118125\"/>\n      </g>\n     </g>\n     <g id=\"text_20\">\n      <!-- 0.205 -->\n      <g transform=\"translate(543.743634 308.716563)scale(0.1 -0.1)\">\n       <use xlink:href=\"#DejaVuSans-30\"/>\n       <use x=\"63.623047\" xlink:href=\"#DejaVuSans-2e\"/>\n       <use x=\"95.410156\" xlink:href=\"#DejaVuSans-32\"/>\n       <use x=\"159.033203\" xlink:href=\"#DejaVuSans-30\"/>\n       <use x=\"222.65625\" xlink:href=\"#DejaVuSans-35\"/>\n      </g>\n     </g>\n    </g>\n    <g id=\"xtick_10\">\n     <g id=\"line2d_19\">\n      <g>\n       <use style=\"stroke:#000000;stroke-width:0.8;\" x=\"615.702324\" xlink:href=\"#md8c3b33faa\" y=\"294.118125\"/>\n      </g>\n     </g>\n     <g id=\"text_21\">\n      <!-- 0.210 -->\n      <g transform=\"translate(601.388262 308.716563)scale(0.1 -0.1)\">\n       <use xlink:href=\"#DejaVuSans-30\"/>\n       <use x=\"63.623047\" xlink:href=\"#DejaVuSans-2e\"/>\n       <use x=\"95.410156\" xlink:href=\"#DejaVuSans-32\"/>\n       <use x=\"159.033203\" xlink:href=\"#DejaVuSans-31\"/>\n       <use x=\"222.65625\" xlink:href=\"#DejaVuSans-30\"/>\n      </g>\n     </g>\n    </g>\n    <g id=\"text_22\">\n     <!-- Actual -->\n     <g transform=\"translate(484.749006 322.394687)scale(0.1 -0.1)\">\n      <use xlink:href=\"#DejaVuSans-41\"/>\n      <use x=\"66.658203\" xlink:href=\"#DejaVuSans-63\"/>\n      <use x=\"121.638672\" xlink:href=\"#DejaVuSans-74\"/>\n      <use x=\"160.847656\" xlink:href=\"#DejaVuSans-75\"/>\n      <use x=\"224.226562\" xlink:href=\"#DejaVuSans-61\"/>\n      <use x=\"285.505859\" xlink:href=\"#DejaVuSans-6c\"/>\n     </g>\n    </g>\n   </g>\n   <g id=\"matplotlib.axis_4\">\n    <g id=\"ytick_9\">\n     <g id=\"line2d_20\">\n      <g>\n       <use style=\"stroke:#000000;stroke-width:0.8;\" x=\"373.594886\" xlink:href=\"#m2c15eb1fda\" y=\"275.182384\"/>\n      </g>\n     </g>\n     <g id=\"text_23\">\n      <!-- 0.2008 -->\n      <g transform=\"translate(331.604261 278.981603)scale(0.1 -0.1)\">\n       <use xlink:href=\"#DejaVuSans-30\"/>\n       <use x=\"63.623047\" xlink:href=\"#DejaVuSans-2e\"/>\n       <use x=\"95.410156\" xlink:href=\"#DejaVuSans-32\"/>\n       <use x=\"159.033203\" xlink:href=\"#DejaVuSans-30\"/>\n       <use x=\"222.65625\" xlink:href=\"#DejaVuSans-30\"/>\n       <use x=\"286.279297\" xlink:href=\"#DejaVuSans-38\"/>\n      </g>\n     </g>\n    </g>\n    <g id=\"ytick_10\">\n     <g id=\"line2d_21\">\n      <g>\n       <use style=\"stroke:#000000;stroke-width:0.8;\" x=\"373.594886\" xlink:href=\"#m2c15eb1fda\" y=\"217.173925\"/>\n      </g>\n     </g>\n     <g id=\"text_24\">\n      <!-- 0.2009 -->\n      <g transform=\"translate(331.604261 220.973144)scale(0.1 -0.1)\">\n       <use xlink:href=\"#DejaVuSans-30\"/>\n       <use x=\"63.623047\" xlink:href=\"#DejaVuSans-2e\"/>\n       <use x=\"95.410156\" xlink:href=\"#DejaVuSans-32\"/>\n       <use x=\"159.033203\" xlink:href=\"#DejaVuSans-30\"/>\n       <use x=\"222.65625\" xlink:href=\"#DejaVuSans-30\"/>\n       <use x=\"286.279297\" xlink:href=\"#DejaVuSans-39\"/>\n      </g>\n     </g>\n    </g>\n    <g id=\"ytick_11\">\n     <g id=\"line2d_22\">\n      <g>\n       <use style=\"stroke:#000000;stroke-width:0.8;\" x=\"373.594886\" xlink:href=\"#m2c15eb1fda\" y=\"159.165465\"/>\n      </g>\n     </g>\n     <g id=\"text_25\">\n      <!-- 0.2010 -->\n      <g transform=\"translate(331.604261 162.964684)scale(0.1 -0.1)\">\n       <use xlink:href=\"#DejaVuSans-30\"/>\n       <use x=\"63.623047\" xlink:href=\"#DejaVuSans-2e\"/>\n       <use x=\"95.410156\" xlink:href=\"#DejaVuSans-32\"/>\n       <use x=\"159.033203\" xlink:href=\"#DejaVuSans-30\"/>\n       <use x=\"222.65625\" xlink:href=\"#DejaVuSans-31\"/>\n       <use x=\"286.279297\" xlink:href=\"#DejaVuSans-30\"/>\n      </g>\n     </g>\n    </g>\n    <g id=\"ytick_12\">\n     <g id=\"line2d_23\">\n      <g>\n       <use style=\"stroke:#000000;stroke-width:0.8;\" x=\"373.594886\" xlink:href=\"#m2c15eb1fda\" y=\"101.157005\"/>\n      </g>\n     </g>\n     <g id=\"text_26\">\n      <!-- 0.2011 -->\n      <g transform=\"translate(331.604261 104.956224)scale(0.1 -0.1)\">\n       <use xlink:href=\"#DejaVuSans-30\"/>\n       <use x=\"63.623047\" xlink:href=\"#DejaVuSans-2e\"/>\n       <use x=\"95.410156\" xlink:href=\"#DejaVuSans-32\"/>\n       <use x=\"159.033203\" xlink:href=\"#DejaVuSans-30\"/>\n       <use x=\"222.65625\" xlink:href=\"#DejaVuSans-31\"/>\n       <use x=\"286.279297\" xlink:href=\"#DejaVuSans-31\"/>\n      </g>\n     </g>\n    </g>\n    <g id=\"ytick_13\">\n     <g id=\"line2d_24\">\n      <g>\n       <use style=\"stroke:#000000;stroke-width:0.8;\" x=\"373.594886\" xlink:href=\"#m2c15eb1fda\" y=\"43.148546\"/>\n      </g>\n     </g>\n     <g id=\"text_27\">\n      <!-- 0.2012 -->\n      <g transform=\"translate(331.604261 46.947764)scale(0.1 -0.1)\">\n       <use xlink:href=\"#DejaVuSans-30\"/>\n       <use x=\"63.623047\" xlink:href=\"#DejaVuSans-2e\"/>\n       <use x=\"95.410156\" xlink:href=\"#DejaVuSans-32\"/>\n       <use x=\"159.033203\" xlink:href=\"#DejaVuSans-30\"/>\n       <use x=\"222.65625\" xlink:href=\"#DejaVuSans-31\"/>\n       <use x=\"286.279297\" xlink:href=\"#DejaVuSans-32\"/>\n      </g>\n     </g>\n    </g>\n    <g id=\"text_28\">\n     <!-- Predicted -->\n     <g transform=\"translate(325.524574 181.688438)rotate(-90)scale(0.1 -0.1)\">\n      <use xlink:href=\"#DejaVuSans-50\"/>\n      <use x=\"58.552734\" xlink:href=\"#DejaVuSans-72\"/>\n      <use x=\"97.416016\" xlink:href=\"#DejaVuSans-65\"/>\n      <use x=\"158.939453\" xlink:href=\"#DejaVuSans-64\"/>\n      <use x=\"222.416016\" xlink:href=\"#DejaVuSans-69\"/>\n      <use x=\"250.199219\" xlink:href=\"#DejaVuSans-63\"/>\n      <use x=\"305.179688\" xlink:href=\"#DejaVuSans-74\"/>\n      <use x=\"344.388672\" xlink:href=\"#DejaVuSans-65\"/>\n      <use x=\"405.912109\" xlink:href=\"#DejaVuSans-64\"/>\n     </g>\n    </g>\n   </g>\n   <g id=\"line2d_25\">\n    <g clip-path=\"url(#p8768eeade1)\">\n     <use style=\"fill:#1f77b4;stroke:#1f77b4;\" x=\"500.413068\" xlink:href=\"#m0258a0ef2f\" y=\"281.76358\"/>\n     <use style=\"fill:#1f77b4;stroke:#1f77b4;\" x=\"500.413068\" xlink:href=\"#m0258a0ef2f\" y=\"243.613242\"/>\n     <use style=\"fill:#1f77b4;stroke:#1f77b4;\" x=\"500.413068\" xlink:href=\"#m0258a0ef2f\" y=\"204.839328\"/>\n     <use style=\"fill:#1f77b4;stroke:#1f77b4;\" x=\"500.413068\" xlink:href=\"#m0258a0ef2f\" y=\"165.148475\"/>\n     <use style=\"fill:#1f77b4;stroke:#1f77b4;\" x=\"500.413068\" xlink:href=\"#m0258a0ef2f\" y=\"199.064259\"/>\n     <use style=\"fill:#1f77b4;stroke:#1f77b4;\" x=\"500.413068\" xlink:href=\"#m0258a0ef2f\" y=\"159.579441\"/>\n     <use style=\"fill:#1f77b4;stroke:#1f77b4;\" x=\"500.413068\" xlink:href=\"#m0258a0ef2f\" y=\"119.162988\"/>\n     <use style=\"fill:#1f77b4;stroke:#1f77b4;\" x=\"500.413068\" xlink:href=\"#m0258a0ef2f\" y=\"116.692595\"/>\n     <use style=\"fill:#1f77b4;stroke:#1f77b4;\" x=\"500.413068\" xlink:href=\"#m0258a0ef2f\" y=\"75.59015\"/>\n     <use style=\"fill:#1f77b4;stroke:#1f77b4;\" x=\"500.413068\" xlink:href=\"#m0258a0ef2f\" y=\"34.67267\"/>\n    </g>\n   </g>\n   <g id=\"patch_8\">\n    <path d=\"M 373.594886 294.118125 \nL 373.594886 22.318125 \n\" style=\"fill:none;stroke:#000000;stroke-linecap:square;stroke-linejoin:miter;stroke-width:0.8;\"/>\n   </g>\n   <g id=\"patch_9\">\n    <path d=\"M 627.23125 294.118125 \nL 627.23125 22.318125 \n\" style=\"fill:none;stroke:#000000;stroke-linecap:square;stroke-linejoin:miter;stroke-width:0.8;\"/>\n   </g>\n   <g id=\"patch_10\">\n    <path d=\"M 373.594886 294.118125 \nL 627.23125 294.118125 \n\" style=\"fill:none;stroke:#000000;stroke-linecap:square;stroke-linejoin:miter;stroke-width:0.8;\"/>\n   </g>\n   <g id=\"patch_11\">\n    <path d=\"M 373.594886 22.318125 \nL 627.23125 22.318125 \n\" style=\"fill:none;stroke:#000000;stroke-linecap:square;stroke-linejoin:miter;stroke-width:0.8;\"/>\n   </g>\n   <g id=\"text_29\">\n    <!-- Correlations -->\n    <g transform=\"translate(464.204943 16.318125)scale(0.12 -0.12)\">\n     <defs>\n      <path d=\"M 4122 4306 \nL 4122 3641 \nQ 3803 3938 3442 4084 \nQ 3081 4231 2675 4231 \nQ 1875 4231 1450 3742 \nQ 1025 3253 1025 2328 \nQ 1025 1406 1450 917 \nQ 1875 428 2675 428 \nQ 3081 428 3442 575 \nQ 3803 722 4122 1019 \nL 4122 359 \nQ 3791 134 3420 21 \nQ 3050 -91 2638 -91 \nQ 1578 -91 968 557 \nQ 359 1206 359 2328 \nQ 359 3453 968 4101 \nQ 1578 4750 2638 4750 \nQ 3056 4750 3426 4639 \nQ 3797 4528 4122 4306 \nz\n\" id=\"DejaVuSans-43\" transform=\"scale(0.015625)\"/>\n      <path d=\"M 1959 3097 \nQ 1497 3097 1228 2736 \nQ 959 2375 959 1747 \nQ 959 1119 1226 758 \nQ 1494 397 1959 397 \nQ 2419 397 2687 759 \nQ 2956 1122 2956 1747 \nQ 2956 2369 2687 2733 \nQ 2419 3097 1959 3097 \nz\nM 1959 3584 \nQ 2709 3584 3137 3096 \nQ 3566 2609 3566 1747 \nQ 3566 888 3137 398 \nQ 2709 -91 1959 -91 \nQ 1206 -91 779 398 \nQ 353 888 353 1747 \nQ 353 2609 779 3096 \nQ 1206 3584 1959 3584 \nz\n\" id=\"DejaVuSans-6f\" transform=\"scale(0.015625)\"/>\n      <path d=\"M 3513 2113 \nL 3513 0 \nL 2938 0 \nL 2938 2094 \nQ 2938 2591 2744 2837 \nQ 2550 3084 2163 3084 \nQ 1697 3084 1428 2787 \nQ 1159 2491 1159 1978 \nL 1159 0 \nL 581 0 \nL 581 3500 \nL 1159 3500 \nL 1159 2956 \nQ 1366 3272 1645 3428 \nQ 1925 3584 2291 3584 \nQ 2894 3584 3203 3211 \nQ 3513 2838 3513 2113 \nz\n\" id=\"DejaVuSans-6e\" transform=\"scale(0.015625)\"/>\n     </defs>\n     <use xlink:href=\"#DejaVuSans-43\"/>\n     <use x=\"69.824219\" xlink:href=\"#DejaVuSans-6f\"/>\n     <use x=\"131.005859\" xlink:href=\"#DejaVuSans-72\"/>\n     <use x=\"170.369141\" xlink:href=\"#DejaVuSans-72\"/>\n     <use x=\"209.232422\" xlink:href=\"#DejaVuSans-65\"/>\n     <use x=\"270.755859\" xlink:href=\"#DejaVuSans-6c\"/>\n     <use x=\"298.539062\" xlink:href=\"#DejaVuSans-61\"/>\n     <use x=\"359.818359\" xlink:href=\"#DejaVuSans-74\"/>\n     <use x=\"399.027344\" xlink:href=\"#DejaVuSans-69\"/>\n     <use x=\"426.810547\" xlink:href=\"#DejaVuSans-6f\"/>\n     <use x=\"487.992188\" xlink:href=\"#DejaVuSans-6e\"/>\n     <use x=\"551.371094\" xlink:href=\"#DejaVuSans-73\"/>\n    </g>\n   </g>\n  </g>\n </g>\n <defs>\n  <clipPath id=\"p56bf94588e\">\n   <rect height=\"271.8\" width=\"253.636364\" x=\"69.23125\" y=\"22.318125\"/>\n  </clipPath>\n  <clipPath id=\"p8768eeade1\">\n   <rect height=\"271.8\" width=\"253.636364\" x=\"373.594886\" y=\"22.318125\"/>\n  </clipPath>\n </defs>\n</svg>\n",
      "image/png": "[encoded data removed]"
     },
     "metadata": {
      "needs_background": "light"
     }
    }
   ],
   "source": [
    "fig, axes = plt.subplots(1,2,figsize=(10,5)) \n",
    "axes[0].plot(avgs, pred_avgs,\".\")\n",
    "axes[0].set_title('Averages')  \n",
    "axes[0].set_xlabel('Actual')  \n",
    "axes[0].set_ylabel('Predicted')  \n",
    "axes[1].plot(flatten_corr(corrs),flatten_corr(pred_corrs),\".\")\n",
    "axes[1].set_title('Correlations') \n",
    "axes[1].set_xlabel('Actual')  \n",
    "axes[1].set_ylabel('Predicted')  \n",
    "fig.show()"
   ]
  },
  {
   "cell_type": "code",
   "execution_count": null,
   "metadata": {},
   "outputs": [],
   "source": []
  }
 ]
}