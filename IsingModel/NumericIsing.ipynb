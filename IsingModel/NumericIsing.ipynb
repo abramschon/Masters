{
 "cells": [
  {
   "cell_type": "markdown",
   "metadata": {},
   "source": [
    "# Determining the Ising model numerically\n",
    "For a good review of what this is all about, see [Inverse statistical problems: from the inverse Ising problem to data science](https://arxiv.org/abs/1702.01522). We want to solve for the variables $\\boldsymbol{h}\\in\\mathbb{R}^{N}$ and $\\boldsymbol{J}\\in\\mathbb{R}^{N\\times(N-1)/2}$ such that our Ising model reproduces observed averages $\\langle \\sigma_i \\rangle^D$ and correlations $\\langle \\sigma_i \\sigma_j \\rangle ^D$. We start by taking a naïve approach, using gradient ascent on the log-likelihood function:\n",
    "$$\n",
    "\\begin{aligned}\n",
    "L_{D}(\\boldsymbol{h}, \\boldsymbol{J}) &=\\frac{1}{M} \\ln p(\\mathrm{D} \\mid \\boldsymbol{J}, \\boldsymbol{h}) \\\\\n",
    "&=\\sum_{i<j} J_{i j}\\left\\langle\\sigma_{i} \\sigma_{j}\\right\\rangle^{D}+\\sum_{i} h_{i}\\left\\langle\\sigma_{i}\\right\\rangle^{D}-\\ln Z(\\boldsymbol{h}, \\boldsymbol{J})\n",
    "\\end{aligned}\n",
    "$$\n",
    "The partial derivatives of the log-likelihood function are:\n",
    "$$\n",
    "\\begin{aligned}\n",
    "\\frac{\\partial L_{D}}{\\partial h_i} =& \\langle \\sigma_i \\rangle^D - \\langle \\sigma_i \\rangle \\\\\n",
    "\\frac{\\partial L_{D}}{\\partial J_{ij}} =& \\langle \\sigma_i \\sigma_j  \\rangle^D - \\langle \\sigma_i \\sigma_j \\rangle\n",
    "\\end{aligned}\n",
    "$$\n",
    "and the gradient ascent update rule is:\n",
    "$$\n",
    "\\begin{aligned}\n",
    "h_i^{(t+1)} =& h_i^{(t)} + \\lambda \\frac{\\partial L_{D}}{\\partial h_i} \\\\\n",
    "J_{ij}^{(t+1)} =& J_{ij}^{(t)} + \\lambda \\frac{\\partial L_{D}}{\\partial J_{ij}} \n",
    "\\end{aligned}\n",
    "$$\n",
    "where $\\lambda$ is the learning rate."
   ]
  },
  {
   "cell_type": "code",
   "execution_count": 1,
   "metadata": {},
   "outputs": [],
   "source": [
    "import numpy as np\n",
    "import matplotlib.pyplot as plt\n",
    "from MaxEnt import Ising"
   ]
  },
  {
   "cell_type": "markdown",
   "metadata": {},
   "source": [
    "## Create an Ising model\n",
    "We define all averages to be 0.5, and all pairwise correlations to be 0.2. Since we use the convention $\\sigma \\in \\{0,1\\}$, the auto-correlations should be 0.5 as well."
   ]
  },
  {
   "cell_type": "code",
   "execution_count": 7,
   "metadata": {},
   "outputs": [
    {
     "name": "stdout",
     "output_type": "stream",
     "text": [
      "[0.5 0.5 0.5 0.5 0.5 0.5 0.5 0.5 0.5 0.5]\n",
      "[[0.  0.2 0.2 0.2 0.2 0.2 0.2 0.2 0.2 0.2]\n",
      " [0.  0.  0.2 0.2 0.2 0.2 0.2 0.2 0.2 0.2]\n",
      " [0.  0.  0.  0.2 0.2 0.2 0.2 0.2 0.2 0.2]\n",
      " [0.  0.  0.  0.  0.2 0.2 0.2 0.2 0.2 0.2]\n",
      " [0.  0.  0.  0.  0.  0.2 0.2 0.2 0.2 0.2]\n",
      " [0.  0.  0.  0.  0.  0.  0.2 0.2 0.2 0.2]\n",
      " [0.  0.  0.  0.  0.  0.  0.  0.2 0.2 0.2]\n",
      " [0.  0.  0.  0.  0.  0.  0.  0.  0.2 0.2]\n",
      " [0.  0.  0.  0.  0.  0.  0.  0.  0.  0.2]\n",
      " [0.  0.  0.  0.  0.  0.  0.  0.  0.  0. ]]\n"
     ]
    }
   ],
   "source": [
    "N = 10\n",
    "avgs = 0.5*np.ones(N) # prob of every neuron firing in a window is 0.5\n",
    "corrs = 0.2*np.triu(np.ones((N,N)),1) # prob of 2 neurons firing in the same window is 0.2 \n",
    "print(avgs,corrs, sep=\"\\n\")"
   ]
  },
  {
   "cell_type": "code",
   "execution_count": 8,
   "metadata": {},
   "outputs": [],
   "source": [
    "# create the model\n",
    "ising = Ising(N, avgs, corrs, lr=0.05)"
   ]
  },
  {
   "cell_type": "markdown",
   "metadata": {},
   "source": [
    "### Train the model using gradient ascent\n",
    "Currently, calling `gradient_ascent` performs 500 steps of gradient ascent on the ising model. "
   ]
  },
  {
   "cell_type": "code",
   "execution_count": 9,
   "metadata": {},
   "outputs": [],
   "source": [
    "import time"
   ]
  },
  {
   "cell_type": "code",
   "execution_count": 10,
   "metadata": {},
   "outputs": [],
   "source": [
    "ising.lr = 0.1"
   ]
  },
  {
   "cell_type": "code",
   "execution_count": 11,
   "metadata": {},
   "outputs": [
    {
     "name": "stdout",
     "output_type": "stream",
     "text": [
      "3.175230026245117\n",
      "[-1.5887411  -1.71129859 -1.8091907  -1.69328329 -1.58576486 -1.86287956\n",
      " -1.62078565 -1.8314274  -1.67067025 -1.6536258 ] [[0.         0.42329502 0.42293695 0.39815445 0.37711297 0.43141049\n",
      "  0.3821334  0.44608874 0.39314649 0.38504457]\n",
      " [0.         0.         0.47167455 0.44079213 0.39965612 0.46464353\n",
      "  0.40365092 0.46809994 0.41850513 0.41887957]\n",
      " [0.         0.         0.         0.46166283 0.4212321  0.50087262\n",
      "  0.43701369 0.50043262 0.45162095 0.44136155]\n",
      " [0.         0.         0.         0.         0.38396168 0.4606361\n",
      "  0.42325525 0.45293918 0.41846879 0.43259447]\n",
      " [0.         0.         0.         0.         0.         0.46077716\n",
      "  0.38976957 0.43908642 0.39259305 0.38907116]\n",
      " [0.         0.         0.         0.         0.         0.\n",
      "  0.45840678 0.50508778 0.47110822 0.46534707]\n",
      " [0.         0.         0.         0.         0.         0.\n",
      "  0.         0.42744192 0.41723086 0.38575191]\n",
      " [0.         0.         0.         0.         0.         0.\n",
      "  0.         0.         0.45254804 0.46242694]\n",
      " [0.         0.         0.         0.         0.         0.\n",
      "  0.         0.         0.         0.41113531]\n",
      " [0.         0.         0.         0.         0.         0.\n",
      "  0.         0.         0.         0.        ]]\n"
     ]
    }
   ],
   "source": [
    "start = time.time()\n",
    "ising.gradient_ascent() # 500 steps \n",
    "stop = time.time()\n",
    "print(stop-start)\n",
    "print(ising.h, ising.J)"
   ]
  },
  {
   "cell_type": "markdown",
   "metadata": {},
   "source": [
    "### Compare predicted expectations and correlations to the actual ones"
   ]
  },
  {
   "cell_type": "code",
   "execution_count": 12,
   "metadata": {},
   "outputs": [
    {
     "name": "stdout",
     "output_type": "stream",
     "text": [
      "Predicted averages:\n",
      "[0.46856301 0.47012803 0.47139562 0.46989876 0.46851708 0.47212487\n",
      " 0.46897159 0.47170012 0.46960153 0.46937392]\n",
      "Predicted correlations:\n",
      "[[0.         0.20605055 0.2074466  0.20753389 0.20750321 0.2076001\n",
      "  0.20762892 0.2061374  0.20756254 0.20789451]\n",
      " [0.         0.         0.20587476 0.20633828 0.20763525 0.2071493\n",
      "  0.20786486 0.20645708 0.20755624 0.2072946 ]\n",
      " [0.         0.         0.         0.20630659 0.20751809 0.2061187\n",
      "  0.20693778 0.20566922 0.20666771 0.20713993]\n",
      " [0.         0.         0.         0.         0.20846914 0.2071578\n",
      "  0.2062503  0.20723876 0.2073066  0.20607898]\n",
      " [0.         0.         0.         0.         0.         0.20551395\n",
      "  0.2070739  0.20658515 0.20757315 0.20757781]\n",
      " [0.         0.         0.         0.         0.         0.\n",
      "  0.20620639 0.2061679  0.20607982 0.20622192]\n",
      " [0.         0.         0.         0.         0.         0.\n",
      "  0.         0.20791565 0.20636214 0.20829872]\n",
      " [0.         0.         0.         0.         0.         0.\n",
      "  0.         0.         0.20691969 0.20597736]\n",
      " [0.         0.         0.         0.         0.         0.\n",
      "  0.         0.         0.         0.20724894]\n",
      " [0.         0.         0.         0.         0.         0.\n",
      "  0.         0.         0.         0.        ]]\n"
     ]
    }
   ],
   "source": [
    "pred_avgs = ising.averages()\n",
    "pred_corrs = ising.correlations()\n",
    "print(\"Predicted averages:\", pred_avgs, \"Predicted correlations:\", pred_corrs,sep=\"\\n\")"
   ]
  },
  {
   "cell_type": "code",
   "execution_count": 13,
   "metadata": {},
   "outputs": [],
   "source": [
    "# function to flatten the correlation matrix and get rid of everything below the diagonal\n",
    "def flatten_corr(corr):\n",
    "    N = len(corr)\n",
    "    flat_corr = np.zeros(N*(N-1)//2)\n",
    "    k = 0\n",
    "    for i in range(N-1):\n",
    "        for j in range(i+1,N):\n",
    "            flat_corr[k] = corr[i,j]\n",
    "            k+=1\n",
    "    return flat_corr"
   ]
  },
  {
   "cell_type": "code",
   "execution_count": 14,
   "metadata": {},
   "outputs": [
    {
     "data": {
      "image/png": "[encoded data removed]",
      "text/plain": [
       "<Figure size 720x360 with 2 Axes>"
      ]
     },
     "metadata": {
      "needs_background": "light"
     },
     "output_type": "display_data"
    }
   ],
   "source": [
    "fig, axes = plt.subplots(1,2,figsize=(10,5)) \n",
    "axes[0].plot(avgs, pred_avgs,\".\")\n",
    "axes[0].set_title('Averages')  \n",
    "axes[0].set_xlabel('Actual')  \n",
    "axes[0].set_ylabel('Predicted')  \n",
    "axes[1].plot(flatten_corr(corrs),flatten_corr(pred_corrs),\".\")\n",
    "axes[1].set_title('Correlations') \n",
    "axes[1].set_xlabel('Actual')  \n",
    "axes[1].set_ylabel('Predicted')  \n",
    "plt.show()"
   ]
  },
  {
   "cell_type": "markdown",
   "metadata": {},
   "source": [
    "## Do Ising models with the same constraints have the same parameters\n",
    "I want to test whether Ising models have the same parameters if they have the same constraints, even if they have different initial paramters"
   ]
  },
  {
   "cell_type": "code",
   "execution_count": 18,
   "metadata": {},
   "outputs": [],
   "source": [
    "N = 5\n",
    "true_dist = Ising(N, np.zeros(N), np.zeros((N,N)), lr=0)"
   ]
  },
  {
   "cell_type": "code",
   "execution_count": 19,
   "metadata": {},
   "outputs": [
    {
     "name": "stdout",
     "output_type": "stream",
     "text": [
      "[0.31974454 0.24766345 0.24755745 0.26216771 0.16121494] \n",
      " [[0.         0.0766355  0.0675858  0.06508387 0.03262103]\n",
      " [0.         0.         0.03888368 0.06875879 0.02232166]\n",
      " [0.         0.         0.         0.05394155 0.02515372]\n",
      " [0.         0.         0.         0.         0.02466001]\n",
      " [0.         0.         0.         0.         0.        ]]\n"
     ]
    }
   ],
   "source": [
    "avgs = true_dist.averages()\n",
    "corrs = true_dist.correlations()\n",
    "print(avgs,\"\\n\",corrs)"
   ]
  },
  {
   "cell_type": "code",
   "execution_count": 20,
   "metadata": {},
   "outputs": [
    {
     "data": {
      "text/plain": [
       "True"
      ]
     },
     "execution_count": 20,
     "metadata": {},
     "output_type": "execute_result"
    }
   ],
   "source": [
    "ising = Ising(N, avgs, corrs, lr=0.05)\n",
    "ising.pert_init()"
   ]
  },
  {
   "cell_type": "code",
   "execution_count": 41,
   "metadata": {},
   "outputs": [
    {
     "name": "stdout",
     "output_type": "stream",
     "text": [
      "0.1526191234588623\n"
     ]
    }
   ],
   "source": [
    "start = time.time()\n",
    "ising.gradient_ascent() # 500 steps \n",
    "stop = time.time()\n",
    "print(stop-start)"
   ]
  },
  {
   "cell_type": "code",
   "execution_count": 42,
   "metadata": {},
   "outputs": [
    {
     "name": "stdout",
     "output_type": "stream",
     "text": [
      "Predicted averages:\n",
      "[0.31949249 0.24737594 0.24724948 0.26189093 0.16074459]\n",
      "Predicted correlations:\n",
      "[[0.         0.07687329 0.06785175 0.06529243 0.03309726]\n",
      " [0.         0.         0.03916756 0.06901698 0.02288135]\n",
      " [0.         0.         0.         0.05422653 0.02579499]\n",
      " [0.         0.         0.         0.         0.0252067 ]\n",
      " [0.         0.         0.         0.         0.        ]]\n"
     ]
    }
   ],
   "source": [
    "pred_avgs = ising.averages()\n",
    "pred_corrs = ising.correlations()\n",
    "print(\"Predicted averages:\", pred_avgs, \"Predicted correlations:\", pred_corrs,sep=\"\\n\")"
   ]
  },
  {
   "cell_type": "code",
   "execution_count": 43,
   "metadata": {},
   "outputs": [],
   "source": [
    "def plot_y_x(ax):\n",
    "    lims = [\n",
    "        np.min([ax.get_xlim(), ax.get_ylim()]),  # min of both axes\n",
    "        np.max([ax.get_xlim(), ax.get_ylim()]),  # max of both axes\n",
    "    ]\n",
    "    ax.plot(lims, lims, 'k-', alpha=0.5, zorder=0) # zorder puts the line at the back\n",
    "    ax.set_aspect('equal')\n",
    "    ax.set_xlim(lims)\n",
    "    ax.set_ylim(lims)"
   ]
  },
  {
   "cell_type": "code",
   "execution_count": 44,
   "metadata": {},
   "outputs": [
    {
     "data": {
      "image/png": "[encoded data removed]",
      "text/plain": [
       "<Figure size 720x360 with 2 Axes>"
      ]
     },
     "metadata": {
      "needs_background": "light"
     },
     "output_type": "display_data"
    }
   ],
   "source": [
    "fig, axes = plt.subplots(1,2,figsize=(10,5)) \n",
    "axes[0].plot(ising.h, true_dist.h,\".\")\n",
    "axes[0].set_title('Local fields h')  \n",
    "axes[0].set_xlabel('Model 1')  \n",
    "axes[0].set_ylabel('Model 2')  \n",
    "plot_y_x(axes[0])\n",
    "axes[1].plot(flatten_corr(ising.J),flatten_corr(true_dist.J),\".\")\n",
    "axes[1].set_title('Interactions J') \n",
    "axes[1].set_xlabel('Model 1')  \n",
    "axes[1].set_ylabel('Model 2')  \n",
    "plot_y_x(axes[1])\n",
    "plt.show()"
   ]
  },
  {
   "cell_type": "markdown",
   "metadata": {},
   "source": [
    "## Are the local fields in a pairwise model the same as the local fields in an independent model?\n",
    "Naively, one might assume the pairwise model has the same local fields as the independent model, and the interaction parameters correct for the discrepencies of the independent model. We show that they in fact have different local fields. "
   ]
  },
  {
   "cell_type": "code",
   "execution_count": 326,
   "metadata": {},
   "outputs": [],
   "source": [
    "from MaxEnt import Independent"
   ]
  },
  {
   "cell_type": "code",
   "execution_count": 327,
   "metadata": {},
   "outputs": [],
   "source": [
    "ind = Independent(N, avgs)"
   ]
  },
  {
   "cell_type": "code",
   "execution_count": 329,
   "metadata": {},
   "outputs": [
    {
     "data": {
      "image/png": "[encoded data removed]",
      "text/plain": [
       "<Figure size 720x360 with 1 Axes>"
      ]
     },
     "metadata": {
      "needs_background": "light"
     },
     "output_type": "display_data"
    }
   ],
   "source": [
    "fig, ax = plt.subplots(figsize=(10,5)) \n",
    "ax.plot(ind.h, true_dist.h,\".\")\n",
    "ax.set_title('Local fields h')  \n",
    "ax.set_xlabel('Independent model')  \n",
    "ax.set_ylabel('Pairwise model')  \n",
    "plot_y_x(ax)"
   ]
  },
  {
   "cell_type": "markdown",
   "metadata": {},
   "source": [
    "## Exploring concavity of the Lagrangian\n",
    "If we find the parameters such that our pairwise model reproduces the desired correlations, are we at a maximum of the Lagrangian?\n",
    "We start by investigating frustration in a toy situation where 3 cells have opposing interaction parameters and look at whether we can find multiple low energy states."
   ]
  },
  {
   "cell_type": "code",
   "execution_count": 13,
   "metadata": {},
   "outputs": [
    {
     "name": "stdout",
     "output_type": "stream",
     "text": [
      "0 0 0 | 0\n",
      "0 0 1 | 0\n",
      "0 1 0 | 0\n",
      "0 1 1 | -1\n",
      "1 0 0 | 0\n",
      "1 0 1 | 1\n",
      "1 1 0 | -1\n",
      "1 1 1 | -1\n"
     ]
    }
   ],
   "source": [
    "#      A\n",
    "#    -   -\n",
    "#   B  +  C\n",
    "J_ab = -1\n",
    "J_ac = 1\n",
    "J_bc = -1\n",
    "\n",
    "def sum_interactions(a,b,c):\n",
    "    return J_ab*a*b + J_ac*a*c + J_bc*b*c\n",
    "\n",
    "s = [0,1]\n",
    "\n",
    "for a in s:\n",
    "    for b in s:\n",
    "        for c in s:\n",
    "            print(a,b,c,\"|\",sum_interactions(a,b,c))"
   ]
  },
  {
   "cell_type": "code",
   "execution_count": null,
   "metadata": {},
   "outputs": [],
   "source": []
  }
 ],
 "metadata": {
  "kernelspec": {
   "display_name": "Python 3",
   "language": "python",
   "name": "python3"
  },
  "language_info": {
   "codemirror_mode": {
    "name": "ipython",
    "version": 3
   },
   "file_extension": ".py",
   "mimetype": "text/x-python",
   "name": "python",
   "nbconvert_exporter": "python",
   "pygments_lexer": "ipython3",
   "version": "3.9.7"
  }
 },
 "nbformat": 4,
 "nbformat_minor": 2
}
