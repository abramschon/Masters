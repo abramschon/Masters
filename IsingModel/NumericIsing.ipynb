{
 "cells": [
  {
   "cell_type": "markdown",
   "metadata": {},
   "source": [
    "# Determining the Ising model numerically\n",
    "For a good review of what this is all about, see [Inverse statistical problems: from the inverse Ising problem to data science](https://arxiv.org/abs/1702.01522). We want to solve for the variables $\\boldsymbol{h}\\in\\mathbb{R}^{N}$ and $\\boldsymbol{J}\\in\\mathbb{R}^{N\\times(N-1)/2}$ such that our Ising model reproduces observed averages $\\langle \\sigma_i \\rangle^D$ and correlations $\\langle \\sigma_i \\sigma_j \\rangle ^D$. We start by taking a naïve approach, using gradient ascent on the log-likelihood function:\n",
    "$$\n",
    "\\begin{aligned}\n",
    "L_{D}(\\boldsymbol{h}, \\boldsymbol{J}) &=\\frac{1}{M} \\ln p(\\mathrm{D} \\mid \\boldsymbol{J}, \\boldsymbol{h}) \\\\\n",
    "&=\\sum_{i<j} J_{i j}\\left\\langle\\sigma_{i} \\sigma_{j}\\right\\rangle^{D}+\\sum_{i} h_{i}\\left\\langle\\sigma_{i}\\right\\rangle^{D}-\\ln Z(\\boldsymbol{h}, \\boldsymbol{J})\n",
    "\\end{aligned}\n",
    "$$\n",
    "The partial derivatives of the log-likelihood function are:\n",
    "$$\n",
    "\\begin{aligned}\n",
    "\\frac{\\partial L_{D}}{\\partial h_i} =& \\langle \\sigma_i \\rangle^D - \\langle \\sigma_i \\rangle \\\\\n",
    "\\frac{\\partial L_{D}}{\\partial J_{ij}} =& \\langle \\sigma_i \\sigma_j  \\rangle^D - \\langle \\sigma_i \\sigma_j \\rangle\n",
    "\\end{aligned}\n",
    "$$\n",
    "and the gradient ascent update rule is:\n",
    "$$\n",
    "\\begin{aligned}\n",
    "h_i^{(t+1)} =& h_i^{(t)} + \\lambda \\frac{\\partial L_{D}}{\\partial h_i} \\\\\n",
    "J_{ij}^{(t+1)} =& J_{ij}^{(t)} + \\lambda \\frac{\\partial L_{D}}{\\partial J_{ij}} \n",
    "\\end{aligned}\n",
    "$$\n",
    "where $\\lambda$ is the learning rate."
   ]
  },
  {
   "cell_type": "code",
   "execution_count": 1,
   "metadata": {},
   "outputs": [],
   "source": [
    "import numpy as np\n",
    "import matplotlib.pyplot as plt\n",
    "from MaxEnt import Ising"
   ]
  },
  {
   "cell_type": "markdown",
   "metadata": {},
   "source": [
    "## Create an Ising model\n",
    "We define all averages to be 0.5, and all pairwise correlations to be 0.2. Since we use the convention $\\sigma \\in \\{0,1\\}$, the auto-correlations should be 0.5 as well."
   ]
  },
  {
   "cell_type": "code",
   "execution_count": 2,
   "metadata": {},
   "outputs": [
    {
     "name": "stdout",
     "output_type": "stream",
     "text": [
      "[0.5 0.5 0.5 0.5 0.5 0.5 0.5]\n",
      "[[0.  0.2 0.2 0.2 0.2 0.2 0.2]\n",
      " [0.  0.  0.2 0.2 0.2 0.2 0.2]\n",
      " [0.  0.  0.  0.2 0.2 0.2 0.2]\n",
      " [0.  0.  0.  0.  0.2 0.2 0.2]\n",
      " [0.  0.  0.  0.  0.  0.2 0.2]\n",
      " [0.  0.  0.  0.  0.  0.  0.2]\n",
      " [0.  0.  0.  0.  0.  0.  0. ]]\n"
     ]
    }
   ],
   "source": [
    "N = 7\n",
    "avgs = 0.5*np.ones(N) # prob of every neuron firing in a window is 0.5\n",
    "corrs = 0.2*np.triu(np.ones((N,N)),1) # prob of 2 neurons firing in the same window is 0.2 \n",
    "print(avgs,corrs, sep=\"\\n\")"
   ]
  },
  {
   "cell_type": "code",
   "execution_count": 67,
   "metadata": {},
   "outputs": [],
   "source": [
    "# create the model\n",
    "ising = Ising(N, avgs, corrs, lr=0.05)"
   ]
  },
  {
   "cell_type": "markdown",
   "metadata": {},
   "source": [
    "### Train the model using gradient ascent\n",
    "Currently, calling `gradient_ascent` performs 500 steps of gradient ascent on the ising model. "
   ]
  },
  {
   "cell_type": "code",
   "execution_count": 46,
   "metadata": {},
   "outputs": [],
   "source": [
    "import time"
   ]
  },
  {
   "cell_type": "code",
   "execution_count": 206,
   "metadata": {},
   "outputs": [
    {
     "name": "stdout",
     "output_type": "stream",
     "text": [
      "0.0381009578704834\n"
     ]
    }
   ],
   "source": [
    "start = time.time()\n",
    "ising.gradient_ascent() # 500 steps \n",
    "stop = time.time()\n",
    "print(stop-start)"
   ]
  },
  {
   "cell_type": "markdown",
   "metadata": {},
   "source": [
    "### Compare predicted expectations and correlations to the actual ones"
   ]
  },
  {
   "cell_type": "code",
   "execution_count": 207,
   "metadata": {},
   "outputs": [
    {
     "name": "stdout",
     "output_type": "stream",
     "text": [
      "Predicted averages:\n",
      "[0.48928564 0.48928564 0.48928564 0.48928564 0.48928564 0.48928564\n",
      " 0.48928564]\n",
      "Predicted correlations:\n",
      "[[0.         0.20357146 0.20357146 0.20357146 0.20357146 0.20357146\n",
      "  0.20357146]\n",
      " [0.         0.         0.20357146 0.20357146 0.20357146 0.20357146\n",
      "  0.20357146]\n",
      " [0.         0.         0.         0.20357146 0.20357146 0.20357146\n",
      "  0.20357146]\n",
      " [0.         0.         0.         0.         0.20357146 0.20357146\n",
      "  0.20357146]\n",
      " [0.         0.         0.         0.         0.         0.20357146\n",
      "  0.20357146]\n",
      " [0.         0.         0.         0.         0.         0.\n",
      "  0.20357146]\n",
      " [0.         0.         0.         0.         0.         0.\n",
      "  0.        ]]\n"
     ]
    }
   ],
   "source": [
    "pred_avgs = ising.averages()\n",
    "pred_corrs = ising.correlations()\n",
    "print(\"Predicted averages:\", pred_avgs, \"Predicted correlations:\", pred_corrs,sep=\"\\n\")"
   ]
  },
  {
   "cell_type": "code",
   "execution_count": 81,
   "metadata": {},
   "outputs": [],
   "source": [
    "# function to flatten the correlation matrix and get rid of everything below the diagonal\n",
    "def flatten_corr(corr):\n",
    "    N = len(corr)\n",
    "    flat_corr = np.zeros(N*(N-1)//2)\n",
    "    k = 0\n",
    "    for i in range(N-1):\n",
    "        for j in range(i+1,N):\n",
    "            flat_corr[k] = corr[i,j]\n",
    "            k+=1\n",
    "    return flat_corr"
   ]
  },
  {
   "cell_type": "code",
   "execution_count": 9,
   "metadata": {},
   "outputs": [
    {
     "data": {
      "image/png": "[encoded data removed]",
      "text/plain": [
       "<Figure size 720x360 with 2 Axes>"
      ]
     },
     "metadata": {
      "needs_background": "light"
     },
     "output_type": "display_data"
    }
   ],
   "source": [
    "fig, axes = plt.subplots(1,2,figsize=(10,5)) \n",
    "axes[0].plot(avgs, pred_avgs,\".\")\n",
    "axes[0].set_title('Averages')  \n",
    "axes[0].set_xlabel('Actual')  \n",
    "axes[0].set_ylabel('Predicted')  \n",
    "axes[1].plot(flatten_corr(corrs),flatten_corr(pred_corrs),\".\")\n",
    "axes[1].set_title('Correlations') \n",
    "axes[1].set_xlabel('Actual')  \n",
    "axes[1].set_ylabel('Predicted')  \n",
    "plt.show()"
   ]
  },
  {
   "cell_type": "code",
   "execution_count": null,
   "metadata": {},
   "outputs": [],
   "source": []
  }
 ],
 "metadata": {
  "kernelspec": {
   "display_name": "Python 3.9.2 64-bit ('.venv': venv)",
   "language": "python",
   "name": "python39264bitvenvvenv098b745301f24a4a9273629fd09e163f"
  },
  "language_info": {
   "codemirror_mode": {
    "name": "ipython",
    "version": 3
   },
   "file_extension": ".py",
   "mimetype": "text/x-python",
   "name": "python",
   "nbconvert_exporter": "python",
   "pygments_lexer": "ipython3",
   "version": "3.9.2"
  }
 },
 "nbformat": 4,
 "nbformat_minor": 2
}
