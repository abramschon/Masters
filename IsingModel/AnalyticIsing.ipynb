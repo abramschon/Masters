{
 "cells": [
  {
   "cell_type": "markdown",
   "id": "2e2e16f0",
   "metadata": {},
   "source": [
    "# Analytic Ising Model\n",
    "We try analytically solve the inverse Ising problem using the Wolfram language. As we go along, I will explain aspects of the Wolfram language that were not obvious to me."
   ]
  },
  {
   "cell_type": "markdown",
   "id": "9f8cb304",
   "metadata": {},
   "source": [
    "### Set no. of neurons/spins:"
   ]
  },
  {
   "cell_type": "code",
   "execution_count": null,
   "id": "1fe236f2",
   "metadata": {},
   "outputs": [],
   "source": [
    "NN = 2"
   ]
  },
  {
   "cell_type": "markdown",
   "id": "cac2a754",
   "metadata": {},
   "source": [
    "### Construct the Hamiltonian"
   ]
  },
  {
   "cell_type": "code",
   "execution_count": 2,
   "id": "0da5451d",
   "metadata": {},
   "outputs": [
    {
     "data": {
      "text/html": [
       "<div><img alt=\"Output\" src=\"data:image/png;base64,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\"></div>"
      ],
      "text/plain": [
       "H[1] s[1] + H[2] s[2] + J[1, 2] s[1] s[2]"
      ]
     },
     "execution_count": 2,
     "metadata": {
      "text/html": [],
      "text/plain": []
     },
     "output_type": "execute_result"
    }
   ],
   "source": [
    "Hamiltonian =  Sum[J[i, j] s[i] s[j], {j, 1, NN}, {i, 1,j-1}] + \n",
    "    Sum[ H[i] s[i], {i, 1, NN}] // Expand"
   ]
  },
  {
   "cell_type": "markdown",
   "id": "91489963",
   "metadata": {},
   "source": [
    "In Wolfram, named functions take the form `Function[ args ]`. An important concept is that of [iterators](https://www.wolfram.com/language/fast-introduction-for-programmers/en/iterators/). For instance, the function `Sum[ i, {i,1,5,2} ]` will sum over the variable `i` from `1` to `5` incrementing by `2` each time. "
   ]
  },
  {
   "cell_type": "code",
   "execution_count": 4,
   "id": "f8b5f1a2",
   "metadata": {},
   "outputs": [
    {
     "data": {
      "text/html": [
       "<div><pre style=\"&#102;&#111;&#110;&#116;&#45;&#102;&#97;&#109;&#105;&#108;&#121;&#58;&#32;&#34;&#67;&#111;&#117;&#114;&#105;&#101;&#114;&#32;&#78;&#101;&#119;&#34;&#44;&#67;&#111;&#117;&#114;&#105;&#101;&#114;&#44;&#109;&#111;&#110;&#111;&#115;&#112;&#97;&#99;&#101;&#59;\">&#57;</pre></div>"
      ],
      "text/plain": [
       "9"
      ]
     },
     "execution_count": 4,
     "metadata": {
      "text/html": [],
      "text/plain": []
     },
     "output_type": "execute_result"
    }
   ],
   "source": [
    "Sum[i,{i,1,5,2}]"
   ]
  },
  {
   "cell_type": "markdown",
   "id": "5fd5c33d",
   "metadata": {},
   "source": [
    "### Construct the partition function `Z`\n",
    "We can choose to represent whether the neuron is silent or fires as either {0,1}, or as {-1,1}. "
   ]
  },
  {
   "cell_type": "code",
   "execution_count": 14,
   "id": "290b7c3a",
   "metadata": {},
   "outputs": [
    {
     "data": {
      "text/html": [
       "<style>\n",
       "\t\t\t\t\t\t\t\t\t\t\t\t\t.grid-container {\n",
       "\t\t\t\t\t\t\t\t\t\t\t\t\t\tdisplay: inline-grid;\n",
       "\t\t\t\t\t\t\t\t\t\t\t\t\t\tgrid-template-columns: auto;\n",
       "\t\t\t\t\t\t\t\t\t\t\t\t\t}\n",
       "\t\t\t\t\t\t\t\t\t\t\t\t</style>\n",
       "\n",
       "\t\t\t\t\t\t\t\t\t\t\t\t<div><div class=\"grid-container\"><div class=\"grid-item\"><img alt=\"Output\" src=\"data:image/png;base64,iVBORw0KGgoAAAANSUhEUgAAAQ8AAAARCAIAAABM5r42AAAAzHpUWHRSYXcgcHJvZmlsZSB0eXBlIGV4aWYAAHjadU/bDQMhDPtnio5AHjgwDtfjpG7Q8ZscVNVVrSViY5ygpPF8HOkWYMpJi1U0IDu0aePuouaJyZTbWSeOpejqJ1qCulvl84Cx/O3qGyZz/RqUeQqJH1yLroY1SHj61Od9W3nutf4c9Ia+16I/dzFGAZl6Vc5maK5rcumEwrkYDtwBDxJ2znp3HjDzNlgkpEdjgIdd0yNB3NhjBYlD0p2LV5ZoJdHTkdMx3s5UOLHOC1OPWrVe2UzHAAAACXBIWXMAAAsTAAALEwEAmpwYAAAAPHRFWHRTb2Z0d2FyZQBDcmVhdGVkIHdpdGggdGhlIFdvbGZyYW0gTGFuZ3VhZ2UgOiB3d3cud29sZnJhbS5jb21coqaFAAAAIXRFWHRDcmVhdGlvbiBUaW1lADIwMjE6MDU6MjUgMTQ6MDM6MjfuHwbAAAAC50lEQVRoge2bP0/yUBTGb0GopJDIB2AREwc7uJiQwMJoYhjgCxBHPgALozO7gzuDk4mDQ50cGG4DKQlLBx2IYGSgYeCvcN8BX6htb3Np4Vqb+1ugT3vOuc85OQMEOIQQYDAYBAR++wAMxp+BbQuDQQrbFgaDlB/bMh6PVVU1P4TTzYxGo4eHh2KxWCqVdnNAgsztdvvr68tlfmoeKRvxzUTot92sb7al2Wzm8/lOp2OIwemWdLvdWq3WaDRarRaRCWJsMkMIr66u3IyHpkfKRnwzEfptt9DRf25ubhqNBjKB022oVqvpdHqrEJeZ7+7uJElynJa+R8pGfDMRym036AH92sRiMfNS4nRPEY1Gp9Op43DveGRGVlA2gjutQd9sy3K5tEyE073GYrFwHOspj8wI+A0juNPq9YPVS71el2W5UqkYHrXUm82mpmnry0QicXJyspMTO858cXFRLpfPzs6Oj4+3LUrZoz07N+IS70xkr+BOa9C/t6Xf7/M8HwwGDVks9Y+Pj8/Pz/WlIAiEZ+r1epFI5OjoCPeA48yRSGQymQyHw20rAuoe7dm5EXv+0ETs2VPbDfr3tuRyOQjh6+trMpnUP22pX15e4qpOp1OE0Hw+XywWk8mE4zie51e3NE1LJpOCILy/v4fDYctwZ5kBAC8vL9fX1+fn5/oQkor0PVI24puJ0G+7WT9Y3wiHw8jqN2M43ZJMJiPL8ur9atcHg8HqUhAEURQhhKqqiqJImJAkMwAAIXR4eGgIIa9I0yNlI76ZCP22m/XNp/xAIGD5tQBOtwRCqP8CTn+gUCh0f38fj8dPT08JsxFmBgDMZjOO4wwh5BVpeqRsxDcTod92C30dDyEsFAqKoqCf4PRteXt7S6VSpVLJZR4zkiRls9lOp+O4okc8Ujbim4nsqe1mHehvK4ry/PxsTofTt+Lx8fH29na5XLrMY+bp6anX67ms6AWPlI34ZiJ7artZ5xD7fwuDQcY/eTvZDV+wM80AAAAASUVORK5CYII=\"></div><div class=\"grid-item\"><img alt=\"Output\" src=\"data:image/png;base64,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\"></div><div class=\"grid-item\"><img alt=\"Output\" src=\"data:image/png;base64,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\"></div></div></div>"
      ],
      "text/plain": [
       "{{-1, -1}, {-1, 1}, {1, -1}, {1, 1}}\n",
       "{{s[1] -> -1, s[2] -> -1}, {s[1] -> -1, s[2] -> 1}, {s[1] -> 1, s[2] -> -1}, \n",
       " \n",
       ">   {s[1] -> 1, s[2] -> 1}}\n",
       "4 Cosh[H[1]] Cosh[H[2]] Cosh[J[1, 2]] - 4 Sinh[H[1]] Sinh[H[2]] Sinh[J[1, 2]]"
      ]
     },
     "execution_count": 14,
     "metadata": {
      "text/html": [],
      "text/plain": []
     },
     "output_type": "execute_result"
    }
   ],
   "source": [
    "spinvals = (PadLeft[IntegerDigits[#, 2], NN] & /@ \n",
    "     Range[0, 2^NN - 1]) /. {0 -> -1}\n",
    "reps = Table[s[i] -> #[[i]], {i, NN}] & /@ spinvals\n",
    "Z = Total[(Exp[-Hamiltonian] /. reps)] // ExpToTrig // FullSimplify"
   ]
  },
  {
   "cell_type": "markdown",
   "id": "34b55e56",
   "metadata": {},
   "source": [
    "One can define lambda functions, called *pure functions* by writing a function in terms of `#`s and ending it with a `&`. To then apply the function over multiple expressions, one can map it using `\\@`. For instance, below we construct the pure function that squares its argument `#^2&`, and then we apply to a list of containing the lists `{0,1}` and `{2,3}`. "
   ]
  },
  {
   "cell_type": "code",
   "execution_count": 8,
   "id": "1cc460c5",
   "metadata": {},
   "outputs": [
    {
     "data": {
      "text/html": [
       "<div><pre style=\"&#102;&#111;&#110;&#116;&#45;&#102;&#97;&#109;&#105;&#108;&#121;&#58;&#32;&#34;&#67;&#111;&#117;&#114;&#105;&#101;&#114;&#32;&#78;&#101;&#119;&#34;&#44;&#67;&#111;&#117;&#114;&#105;&#101;&#114;&#44;&#109;&#111;&#110;&#111;&#115;&#112;&#97;&#99;&#101;&#59;\">&#123;&#123;&#48;&#44;&#32;&#49;&#125;&#44;&#32;&#123;&#52;&#44;&#32;&#57;&#125;&#125;</pre></div>"
      ],
      "text/plain": [
       "{{0, 1}, {4, 9}}"
      ]
     },
     "execution_count": 8,
     "metadata": {
      "text/html": [],
      "text/plain": []
     },
     "output_type": "execute_result"
    }
   ],
   "source": [
    "#^2& /@ {{0,1},{2,3}}"
   ]
  },
  {
   "cell_type": "markdown",
   "id": "cec09ad6",
   "metadata": {},
   "source": [
    "Once we have an expression, for instance `x + y + z`, we can replace symbols with other ones. `/.` means *replace everywhere*. Below, we show how we can use it to replace `x` with `2` and `y` with `3`. It sort of copies the expression into the curly brackets and implements the suggested replacements."
   ]
  },
  {
   "cell_type": "code",
   "execution_count": 9,
   "id": "2704e80d",
   "metadata": {},
   "outputs": [
    {
     "data": {
      "text/html": [
       "<style>\n",
       "\t\t\t\t\t\t\t\t\t\t\t\t\t.grid-container {\n",
       "\t\t\t\t\t\t\t\t\t\t\t\t\t\tdisplay: inline-grid;\n",
       "\t\t\t\t\t\t\t\t\t\t\t\t\t\tgrid-template-columns: auto;\n",
       "\t\t\t\t\t\t\t\t\t\t\t\t\t}\n",
       "\t\t\t\t\t\t\t\t\t\t\t\t</style>\n",
       "\n",
       "\t\t\t\t\t\t\t\t\t\t\t\t<div><div class=\"grid-container\"><div class=\"grid-item\"><img alt=\"Output\" src=\"data:image/png;base64,iVBORw0KGgoAAAANSUhEUgAAAB4AAAARCAIAAABFBIsgAAAAznpUWHRSYXcgcHJvZmlsZSB0eXBlIGV4aWYAAHjabU9BjgMhDLvzin0CScCB5zAtlfqDff46hW411Vga2wlOGNL8fT7ST0Alp1K9oQOZKL10HTQtLyyV3F+8irnP5NxP8g4MturnAHtAjnPfsVTb16Ksy1jcQG9lD+xFpqsvY9XHzuto7XLRG6X9//p1ba6oEC/kotkdnb4lWgqq5up44AYwKLhrLjfqhDvH4JGwEYMBnX5OzwRj4x5PsPjEBrWS1XgfWekDwdDjlYpMPOcPUidatbFQumwAAAAJcEhZcwAACxMAAAsTAQCanBgAAAA8dEVYdFNvZnR3YXJlAENyZWF0ZWQgd2l0aCB0aGUgV29sZnJhbSBMYW5ndWFnZSA6IHd3dy53b2xmcmFtLmNvbVyipoUAAAAhdEVYdENyZWF0aW9uIFRpbWUAMjAyMTowNToyNCAyMjozMzozNsU+JCAAAAGNSURBVDiN1ZQxi8JAEIXHJSBiFwRFUEmwkIidtf9ACxGVYCGmFsQg2NnaWdgFeytFrMRGsBTBKmBARIVAQDBaBMM1c0XuvCOmOU8LX7X7Zudjd3Z2XYgIrxF5Efdt0RQADAaDTqdzs6rVaqFQeA56vV4jYrPZtKx4PP5/7hda1/VEIpFOpx+m1Gq16XR6m4bD4clk4kJEQRBkWWYYxu12ZzKZbDbrmD+bzViWjUQi9yFZlo/HIwAsl8tGo9Hr9QRBAERst9s8z0uSVCqVKIqSJAmd1O12F4uFY8iSqqrBYLBer1tTl+3J5PN5TdPm8/lvc7Vanc/n4XDIcVwsFguFQtFo1Lbx6/WaSqX8fv94PCaEwH3zJZNJwzBspqZph8NB13VrcDqdbAsQsVwum6bZ7/ctLgDAdrvN5XL7/R4RN5sNwzCiKP61IK1Wi6ZpRVE+voWIcLlcKpWKx+Px+XyEkGKxaBiGY/5oNFIU5d7f7Xa2QxBCfmptmqaqqoFAwOv1OnXHI7Jf4xP1nt/TJ1KpQPS+ljrGAAAAAElFTkSuQmCC\"></div><div class=\"grid-item\"><img alt=\"Output\" src=\"data:image/png;base64,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\"></div></div></div>"
      ],
      "text/plain": [
       "5 + z\n",
       "{{2 + y + z, 3 + x + z}, 3 + x + z}"
      ]
     },
     "execution_count": 9,
     "metadata": {
      "text/html": [],
      "text/plain": []
     },
     "output_type": "execute_result"
    }
   ],
   "source": [
    "x + y + z /. {x->2, y->3}\n",
    "x + y + z /. {{{x->2}, {y->3}}, {y->3}}"
   ]
  },
  {
   "cell_type": "markdown",
   "id": "5b60cbcb",
   "metadata": {},
   "source": [
    "### Construct the probability distributionn `p`."
   ]
  },
  {
   "cell_type": "code",
   "execution_count": 17,
   "id": "5254e6c3",
   "metadata": {},
   "outputs": [
    {
     "data": {
      "text/html": [
       "<div><img alt=\"Output\" src=\"data:image/png;base64,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\"></div>"
      ],
      "text/plain": [
       "                 -(H[1] s[1]) - H[2] s[2] - J[1, 2] s[1] s[2]\n",
       "                E\n",
       "-----------------------------------------------------------------------------\n",
       "4 Cosh[H[1]] Cosh[H[2]] Cosh[J[1, 2]] - 4 Sinh[H[1]] Sinh[H[2]] Sinh[J[1, 2]]"
      ]
     },
     "execution_count": 17,
     "metadata": {
      "text/html": [],
      "text/plain": []
     },
     "output_type": "execute_result"
    }
   ],
   "source": [
    "p = Exp[-Hamiltonian]/Z "
   ]
  },
  {
   "cell_type": "markdown",
   "id": "0b849d44",
   "metadata": {},
   "source": [
    "We can evaluate this expression at a particular configuration as follows (assuming we have 2 neurons):"
   ]
  },
  {
   "cell_type": "code",
   "execution_count": 18,
   "id": "68322e6a",
   "metadata": {},
   "outputs": [
    {
     "data": {
      "text/html": [
       "<div><img alt=\"Output\" src=\"data:image/png;base64,iVBORw0KGgoAAAANSUhEUgAAAl0AAAAnCAIAAAC6xmryAAAA0HpUWHRSYXcgcHJvZmlsZSB0eXBlIGV4aWYAAHjadU9bbgQhDPvnFD1CXjhwHGaHlXqDPf4mA6tqqtYSsTFOUMp8fT/LV0KYilVv6AAFrFuXEaLRwmKmftUL9STZ7s0v4kvwCKv+PGBu/7j7jsXSfg3a80nzh9Bqu2EPUlk+j3U/dl5Ga38O+sA+a/E/d3VBBbtFNSF39NCthAxCFaqOJx5ABBmnkD2CJ9yjDZ4JHdmYkOn39CzQMM5cQfOwjuAaVTRbWe1yNKpqk+NKpZPrvAFjOVrC4WCdlAAAAAlwSFlzAAALEwAACxMBAJqcGAAAADx0RVh0U29mdHdhcmUAQ3JlYXRlZCB3aXRoIHRoZSBXb2xmcmFtIExhbmd1YWdlIDogd3d3LndvbGZyYW0uY29tXKKmhQAAACF0RVh0Q3JlYXRpb24gVGltZQAyMDIxOjA1OjI1IDE0OjAzOjM4Z7sqEAAADNZJREFUeJzt3X9UUvf/B/A36LBJTkPTAnbSShcc6WzN0taO2drJM89+ZK1jtjT3Q+u41unUXB1bndXOzuaWtp2ZeYpBuXDMSavOoXPmXJ8zR2WbM3WDFYrDDFDbQQYpCCHfP2jI95JwRQUuvh5/wfu+7/u+eXrfvLmXe4Vks9kQAAAAABBCCJH93QEA/M9gMPT399sfd3d3+6VlnU430Q+pCoVCKpVKpVK1Wu19F73dOgDBCuZFAFBDQ0NZWRlCyGKxrFu3zlFeXV1dWVmp1+vtTz/55BMmk8nj8RwVmpqatm/fPjw8PJmW5XJ5enr6li1b2Gz2zZs3cbaMEPruu+9OnDhRWlr6wQcf4O8zhtdbByBYhfq7AwAErqGhob179zqe7tmzZ2RkxLlCenr6X3/95cWRlnPLdDq9traWyWRWVVUJhUL7JIen5f379yOEGhsb6+rq8PcZw+utAxCsYF4EACGEfvjhh9dff310dNRNHQqF8sgjj0x5y7Nnz549ezZC6M8//3zuuefcNPX555/v3r17Qlv32Gf8WwdghoB5EQCEEEpJSSktLbVYLC+//LLXjQwPD//444/2xwwGIyUlBX/L33777Z07dzZu3Oim5ba2tgsXLjhatpuSozr3WwdgRoF5EQCEEIqOjk5MTLRYLJNpJCwsjMPh2B9TqVT8LZ89e7ampub8+fMkEslNy9evX+dwOPaWh4aG2tvbn3nmGZlMFhkZOaF+8ni8lJSUpUuX4tw6ADMKzItgZjGbzUePHuXxeGw2Ozs7OycnJzw83DEfuJkYVCrVtm3blEolhUIRi8Uikci1TkhIyMKFC51L8LTc0NCQl5eXmpqamZnJYDCEQuF4LbNYLEf7JpNp//79o6OjarVaLBZPqM9ffvkli8Wqra3FuXUAZhSYF8HMUlFRcenSpbS0tJMnT168eLGwsFAgEGzYsGHDhg0IodDQ0K6uroeuyGAwGhsbJ7o5PC2vW7cO57nQvLw8x+Po6OimpqbBwcGoqKjxJt3x+nzw4MFbt25NdOsAzBBwnwaYQUwm008//USn07Oysq5fvx4XF/frr7+6uSKGTqdXVlYaDIbxKjQ1NXV2doaEhEy0J1PV8pw5czCToseWVSqVUCgsKipy06zXrwuAIECCj4pg5tBqtfn5+SaTKTc397HHHrMXvvrqq/C9GgDAAc6jghmERqPpdLr58+cjhDZt2oQQ6u/vh0kRAOAMjhfBzKJQKHJycn7//feCggK9Xh8VFVVVVRUWFubvfgEAAgXMi2AmUqvV9+7dS0hI8OI+fQBAcIN5EQAAABgD16MCAAAAY2BeBAAAAMbAvAgAAACMgXkRAAAAGPPg/sXBwUGj0ejfrgAAAAD+QqPRZs2ahRzz4h9//PH333/7tUsAAACA36xevTo+Ph7BfRoAAACAM/h+EQAAABjjzbyo0Wju37/v3fZqa2s/++wz79YNWBAIho8DsTnxbqNBQKvVarVa1/L6+vpdu3a5+c0Qu+DbDyEQDN8HQtyB+ZB5saSkxP4vlTFsNltFRQWNRmMwGJGRkSUlJR6jdNXR0XH16tXxlvb29kokkhs3btifDg0Nkclkx1Mul7tkyRI39RFCw8PDFy5cKCgoKC4uxjQukUgkEsng4CDOco8IEUhLS0t2dvaCBQtWrFiB+SndIAgEIXTu3Dmyk48//th9fTd7CB6+zBNjvIHZ29ublpYWHR0dExOTlJTU0NDgvLSxsVEgEAwNDblvPJgGJiEC8eWO5PtAEMEHJnZe5PP5J06caGlpca16/PjxI0eOcLlco9EokUioVOqU/xDB6dOnm5ubNRqN/anrBw3MU0x9hJBarf7mm29aW1s7OjowK/b09AiFwmvXruEpxyPwAzEYDJs3b87IyPj+++9ffPHFnJwcmUzmWDEIAkEIvfLKK4b/pKenW61W9/XH20Pw8HGeztwMzPfee89qtd6+fVuv1+/bt29gYMB5aXV19cDAQERExGS2TqyBGfiB+HhH8n0giOgD0/lQt6Ojg0ajlZeXx8fH21zExMSUlZW5ll+7di01NTU8PDw5OfnixYv2wvv377/99tuxsbFUKjU1NVUoFNrL9+3bt3HjxtLSUiaT+fTTT4tEIuemjhw50tnZ6Xhq/23V1tZW+9NTp04lJSW5qe9QXl6+atUq13KhUCgWi/GXu0eIQKxWq+Mxk8k8c+YMnhdOlEAw1qxZ8+GHH+KpP94e4pEv83RwPzDXrFmTm5uLKWxtbWX9x/mVHjt27NNPPz1w4AAm3mAamIQIxJc7ku8Dce0AsQbm2PHivXv3Nm3a9NFHH2HOANj19fX9888/WVlZmHKNRpOZmbl8+fLm5uYtW7ZkZ2e3tbUhhOrr67/++muxWHzr1q3i4mLnm0BEIlFfX19dXR2Lxdq1a5fHzwLnzp3j8/l8Pv/KlSseK0+tmzdvOj7mGI1GhULhWESUQMjkB39ivV4/MDDwxBNPeFzFjcAMxJemNk883A9MhFBhYaFQKHz++ecvX77sKFy4cGFVVVVVVdXWrVvlcrmjvK+v7+DBgxqNxjXe4BiYiCCB+GxgIv8F4ktTm+fY7xIXFhYuXbp0x44dly5dcq3X39+PEIqJicGU19bWxsbGfvHFF2QymcPhXL58+dSpU8ePH4+IiDAYDE1NTW+++WZ+fr7zKhkZGV999RVCKC4u7uzZs11dXYsXL3bTxfPnz1OpVITQwMCAj38ViMFgyGQyNpttNpvlcjmLxXIsIlwgJSUly5cvX7FiBc76DxWYgfjFlOSJh/uBiRDKzc2NjY09dOjQ2rVrV65cWVNTs3jx4sjIyIyMDISQ/VDG2cqVKx8ab3AMTES0QKZ7YCL/BeIXU5LngzmWz+cLhUIWi1VRUSESif7999+Kigrni5eYTCZCSK1WY9bv6uricDiOufqpp57q7OxECGVlZfH5fC6XGxcXt379eufvRaKiouwP7HdQevwauaamprm5ubm5ubS0dBKv1BsRERHx8fFSqdS+q1EoFMciYgVSXV1dV1fH5XIn+YVfYAbiYPPVZW9TlSdC6MaNG/9z0tXV5bzU48C0W7t27ZUrV37++WedTvfQa3OcjRdvcAxMO6IE4oOBaeeXQBwINzAfvFtRKJT8/HylUtne3t7T02M2m9vb281ms6NedHQ0k8msr6/HrD9//nznt8I7d+7Q6XT7423btslksqtXr4aFhWVlZXm83ikwhYaGjo6OkkikkJAQ53ICBSIQCPbu3SsSicY7ETchgRaI8/8vlMvl9g/sXtNoNDqdzn2dqc2zr6/vthPMnOdxYCKEHLfEpKenl5WVtbW1YSoEpfH2Q0ScQHwzMJGfAiH0wHwwL7722mtn/rNnz565c+eeOXNm3rx5zlUPHDhw7NgxgUBgMplaWlpWrVqlUqleeumllpYWoVCIEJJIJCKRaP369QghHo8nEAisVuuyZct27tx59+7d7u7uSfYVj5GREZPJZLFYrFaryWQaGRmZTGtGo1Eul7PZ7ISEBJlMhrmkihCBcLnct956i8/nP/nkk1qt1uO+5V6gBWKz2dLS0o4ePWowGE6fPq1Wq5ctW+Z+FTd7iE6nW7RoUWJiopt3janNEyH0wgsvbHOCOf/jcWBqtdrExMTKykqtVtvb28vj8ZKSklwPF/zOZwOTKIH4bGD6JRCiD8xQz1X+s337dr1eX1xcnJeXFx4evnPnznnz5jEYjJMnT+7YseONN96w2Wzvv/++/V1v7ty5hw8fLioqioiIGBwcfPfddzkcDkKIRCI5Tql5hDkWxnNo/OyzzzrOyD366KNRUVGTuW9MoVDYT0pQKJT4+HiFQpGUlORYGviBqNXqoqIim82Wk5NjL1m0aBHmTN2EBGAg5eXlW7duLSkpCQkJ2b179+rVq92v4mYPoVKpycnJv/32m1wuT05Odl13yvOcPBqNdvjw4UOHDr3zzjsIoSVLlggEAucKZDLZeT8ZL96gGZiECMSXA9NfgRB7YE70ctjR0dHbt29bLBbMNbJKpdJsNmMqG43G7u5uk8mEs3H3F/tOvv50XEYPgWD4JRCVSvXQRiYaiFKpnDNnjms/cZqm+zTwuHv3bn9//zQ1TsT9EALB8EsgBB2YE/4/cCQS6fHHHw8N/X8HmmQyecGCBa6XYM2aNSshISEsLAx/+93d3T09PdNRXy6Xq1Qq/OU4QSAYfgmETqeP1wj+QJRK5ebNm3Nzc727unKa8sQpJiYmNjZ2+ton3H4IgWD4JRCCDszA+r/hmZmZUqn0l19+mfL6NptNLBaTSCQ2m42nPEBAIBjTFwhCSCqVFhQUVFZWetExguaJE+yHGBAIRpANTPidKQAAAGBMYB0vAgAAAP4F8yIAAAAw5v8Axsp/qW/FJGYAAAAASUVORK5CYII=\"></div>"
      ],
      "text/plain": [
       "                            H[1] - H[2] + J[1, 2]\n",
       "                           E\n",
       "-----------------------------------------------------------------------------\n",
       "4 Cosh[H[1]] Cosh[H[2]] Cosh[J[1, 2]] - 4 Sinh[H[1]] Sinh[H[2]] Sinh[J[1, 2]]"
      ]
     },
     "execution_count": 18,
     "metadata": {
      "text/html": [],
      "text/plain": []
     },
     "output_type": "execute_result"
    }
   ],
   "source": [
    "p /. {s[1]-> -1, s[2]->1}"
   ]
  },
  {
   "cell_type": "markdown",
   "id": "3df36e9a",
   "metadata": {},
   "source": [
    "### Compute the expectations and correlations\n",
    "When we represent the neuron states as `{-1,1}`, the auto-correlations are 1 since we either have `1*1` times a probability, or `-1*-1=1` times a probability, and all the probabilities sum to 1. On the other hand, when we represent the neuron states as `{0,1}`, the auto-correlations are equal to the expectations since the product of a neuron with itself takes on the same values as just the neuron by itself.   "
   ]
  },
  {
   "cell_type": "code",
   "execution_count": 19,
   "id": "1a262805",
   "metadata": {},
   "outputs": [
    {
     "data": {
      "text/html": [
       "<div><img alt=\"Output\" src=\"data:image/png;base64,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\"></div>"
      ],
      "text/plain": [
       " -(Cosh[H[2]] Cosh[J[1, 2]]) + Coth[H[1]] Sinh[H[2]] Sinh[J[1, 2]]\n",
       "{-----------------------------------------------------------------, \n",
       "  Cosh[H[2]] Cosh[J[1, 2]] Coth[H[1]] - Sinh[H[2]] Sinh[J[1, 2]]\n",
       " \n",
       "    -(Cosh[H[1]] Cosh[J[1, 2]]) + Coth[H[2]] Sinh[H[1]] Sinh[J[1, 2]]\n",
       ">   -----------------------------------------------------------------}\n",
       "     Cosh[H[1]] Cosh[J[1, 2]] Coth[H[2]] - Sinh[H[1]] Sinh[J[1, 2]]"
      ]
     },
     "execution_count": 19,
     "metadata": {
      "text/html": [],
      "text/plain": []
     },
     "output_type": "execute_result"
    }
   ],
   "source": [
    "Averages = Table[ Total[s[i] p /. reps] // ExpToTrig // FullSimplify, {i,NN} ]"
   ]
  },
  {
   "cell_type": "markdown",
   "id": "5299f869",
   "metadata": {},
   "source": [
    "Note, we only work out the upper triangle of the correlation matrix. (Could I even leave out the diagonal?)"
   ]
  },
  {
   "cell_type": "code",
   "execution_count": 20,
   "id": "5789ed36",
   "metadata": {},
   "outputs": [
    {
     "data": {
      "text/html": [
       "<div><img alt=\"Output\" src=\"data:image/png;base64,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\"></div>"
      ],
      "text/plain": [
       "\n",
       "\n",
       "1\n",
       " \n",
       "     Cosh[J[1, 2]] - Coth[H[1]] Coth[H[2]] Sinh[J[1, 2]]\n",
       "     ---------------------------------------------------\n",
       ">    Cosh[J[1, 2]] Coth[H[1]] Coth[H[2]] - Sinh[J[1, 2]]\n",
       "\n",
       "\n",
       "\n",
       "0\n",
       " \n",
       "\n",
       "\n",
       ">    1"
      ]
     },
     "execution_count": 20,
     "metadata": {
      "text/html": [],
      "text/plain": []
     },
     "output_type": "execute_result"
    }
   ],
   "source": [
    "(CorrMatrix = \n",
    "  Table[Total[s[i] s[j] p /. reps] // ExpToTrig // FullSimplify, {i, \n",
    "    NN}, {j, i, NN}]) // PadLeft // MatrixForm"
   ]
  },
  {
   "cell_type": "markdown",
   "id": "aa5c64e3",
   "metadata": {},
   "source": [
    "## Solve for `H` and `J` given observed expectations and correlations\n",
    "\n",
    "Let us say that we observe the expectations of 2 neurons, as well as their correlation. Can we find the `H` and `J` that gives us an Ising model that reproduces these statistics?"
   ]
  },
  {
   "cell_type": "markdown",
   "id": "ec4a5663",
   "metadata": {},
   "source": [
    "If we try analytically for expected values `a[1]` and `a[2]`, and correlation `b`, this takes forever. "
   ]
  },
  {
   "cell_type": "code",
   "execution_count": null,
   "id": "d8c9875f",
   "metadata": {},
   "outputs": [],
   "source": [
    "Solve[{Averages[[1]]==a[1],Averages[[2]]==a[2], CorrMatrix[[1,2]]==b}]"
   ]
  },
  {
   "cell_type": "markdown",
   "id": "55f93b98",
   "metadata": {},
   "source": [
    "On the other hand, we can find values for `H` and `J` numerically. Let us say neuron 1 has an expected value of 0.1, neuron 2 has an expected value of 0.9 and their correlation is 0.1 (every time neuron 1 fires, so does neuron 2)"
   ]
  },
  {
   "cell_type": "code",
   "execution_count": null,
   "id": "ac988a13",
   "metadata": {},
   "outputs": [],
   "source": [
    "g = NSolve[{Averages[[1]]==0.1, Averages[[2]]==0.9, CorrMatrix[[1,2]]==0.05}, {H[1], H[2], J[1,2]}]"
   ]
  },
  {
   "cell_type": "markdown",
   "id": "b45dc5dd",
   "metadata": {},
   "source": [
    "Plug in `H` and `J` and check expectations and correlations are reproduced."
   ]
  },
  {
   "cell_type": "code",
   "execution_count": 10,
   "id": "1ec47475",
   "metadata": {},
   "outputs": [
    {
     "data": {
      "text/html": [
       "<div><pre style=\"&#102;&#111;&#110;&#116;&#45;&#102;&#97;&#109;&#105;&#108;&#121;&#58;&#32;&#34;&#67;&#111;&#117;&#114;&#105;&#101;&#114;&#32;&#78;&#101;&#119;&#34;&#44;&#67;&#111;&#117;&#114;&#105;&#101;&#114;&#44;&#109;&#111;&#110;&#111;&#115;&#112;&#97;&#99;&#101;&#59;\">&#123;&#123;&#48;&#46;&#49;&#125;&#44;&#32;&#123;&#48;&#46;&#57;&#125;&#125;</pre></div>"
      ],
      "text/plain": [
       "{{0.1}, {0.9}}"
      ]
     },
     "execution_count": 10,
     "metadata": {
      "text/html": [],
      "text/plain": []
     },
     "output_type": "execute_result"
    }
   ],
   "source": [
    "Table[ Total[s[i] p /. g /. reps], {i,NN} ]"
   ]
  },
  {
   "cell_type": "code",
   "execution_count": 11,
   "id": "88a0fe6f",
   "metadata": {},
   "outputs": [
    {
     "data": {
      "text/html": [
       "<div><pre style=\"&#102;&#111;&#110;&#116;&#45;&#102;&#97;&#109;&#105;&#108;&#121;&#58;&#32;&#34;&#67;&#111;&#117;&#114;&#105;&#101;&#114;&#32;&#78;&#101;&#119;&#34;&#44;&#67;&#111;&#117;&#114;&#105;&#101;&#114;&#44;&#109;&#111;&#110;&#111;&#115;&#112;&#97;&#99;&#101;&#59;\">&#123;&#48;&#46;&#48;&#53;&#125;</pre></div>"
      ],
      "text/plain": [
       "{0.05}"
      ]
     },
     "execution_count": 11,
     "metadata": {
      "text/html": [],
      "text/plain": []
     },
     "output_type": "execute_result"
    }
   ],
   "source": [
    "Total[s[1] s[2] p /. g /. reps]"
   ]
  },
  {
   "cell_type": "code",
   "execution_count": 13,
   "id": "a26bee56",
   "metadata": {},
   "outputs": [
    {
     "data": {
      "text/html": [
       "<div><pre style=\"&#102;&#111;&#110;&#116;&#45;&#102;&#97;&#109;&#105;&#108;&#121;&#58;&#32;&#34;&#67;&#111;&#117;&#114;&#105;&#101;&#114;&#32;&#78;&#101;&#119;&#34;&#44;&#67;&#111;&#117;&#114;&#105;&#101;&#114;&#44;&#109;&#111;&#110;&#111;&#115;&#112;&#97;&#99;&#101;&#59;\">&#123;&#48;&#46;&#57;&#125;</pre></div>"
      ],
      "text/plain": [
       "{0.9}"
      ]
     },
     "execution_count": 13,
     "metadata": {
      "text/html": [],
      "text/plain": []
     },
     "output_type": "execute_result"
    }
   ],
   "source": [
    "Total[s[1] s[1] p /. g /. reps]\n",
    "Total[s[2] s[2] p /. g /. reps]"
   ]
  }
 ],
 "metadata": {
  "kernelspec": {
   "display_name": "Wolfram Language 12.3",
   "language": "Wolfram Language",
   "name": "wolframlanguage12.3"
  },
  "language_info": {
   "codemirror_mode": "mathematica",
   "file_extension": ".m",
   "mimetype": "application/vnd.wolfram.m",
   "name": "Wolfram Language",
   "pygments_lexer": "mathematica",
   "version": "12.0"
  }
 },
 "nbformat": 4,
 "nbformat_minor": 5
}
