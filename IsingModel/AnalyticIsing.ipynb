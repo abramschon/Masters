{
 "cells": [
  {
   "cell_type": "markdown",
   "id": "2e2e16f0",
   "metadata": {},
   "source": [
    "# Analytic Ising Model\n",
    "We try analytically solve the inverse Ising problem using the Wolfram language. As we go along, I will explain aspects of the Wolfram language that were not obvious to me."
   ]
  },
  {
   "cell_type": "markdown",
   "id": "9f8cb304",
   "metadata": {},
   "source": [
    "### Set no. of neurons/spins:"
   ]
  },
  {
   "cell_type": "code",
   "execution_count": 16,
   "id": "1fe236f2",
   "metadata": {},
   "outputs": [
    {
     "data": {
      "text/html": [
       "<div><pre style=\"&#102;&#111;&#110;&#116;&#45;&#102;&#97;&#109;&#105;&#108;&#121;&#58;&#32;&#34;&#67;&#111;&#117;&#114;&#105;&#101;&#114;&#32;&#78;&#101;&#119;&#34;&#44;&#67;&#111;&#117;&#114;&#105;&#101;&#114;&#44;&#109;&#111;&#110;&#111;&#115;&#112;&#97;&#99;&#101;&#59;\">&#50;</pre></div>"
      ],
      "text/plain": [
       "2"
      ]
     },
     "execution_count": 16,
     "metadata": {
      "text/html": [],
      "text/plain": []
     },
     "output_type": "execute_result"
    }
   ],
   "source": [
    "NN = 2"
   ]
  },
  {
   "cell_type": "markdown",
   "id": "cac2a754",
   "metadata": {},
   "source": [
    "### Construct the Hamiltonian"
   ]
  },
  {
   "cell_type": "code",
   "execution_count": 17,
   "id": "0da5451d",
   "metadata": {},
   "outputs": [
    {
     "data": {
      "text/html": [
       "<div><img alt=\"Output\" src=\"data:image/png;base64,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\"></div>"
      ],
      "text/plain": [
       "H[1] s[1] + H[2] s[2] + J[1, 2] s[1] s[2]"
      ]
     },
     "execution_count": 17,
     "metadata": {
      "text/html": [],
      "text/plain": []
     },
     "output_type": "execute_result"
    }
   ],
   "source": [
    "Hamiltonian =  Sum[J[i, j] s[i] s[j], {j, 1, NN}, {i, 1,j-1}] + \n",
    "    Sum[ H[i] s[i], {i, 1, NN}] // Expand"
   ]
  },
  {
   "cell_type": "markdown",
   "id": "c64ccbc9",
   "metadata": {},
   "source": [
    "For comparison's sake, we also construct a hamiltonian that includes coefficients for the interactions of neurons with themselves. "
   ]
  },
  {
   "cell_type": "code",
   "execution_count": 18,
   "id": "832356b3",
   "metadata": {},
   "outputs": [
    {
     "data": {
      "text/html": [
       "<div><img alt=\"Output\" src=\"data:image/png;base64,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\"></div>"
      ],
      "text/plain": [
       "                     2                                            2\n",
       "H[1] s[1] + L[1] s[1]  + H[2] s[2] + J[1, 2] s[1] s[2] + L[2] s[2]"
      ]
     },
     "execution_count": 18,
     "metadata": {
      "text/html": [],
      "text/plain": []
     },
     "output_type": "execute_result"
    }
   ],
   "source": [
    "AutoHamiltonian =  Sum[ L[i] s[i] s[i], {i, 1, NN}]  +\n",
    "    Sum[J[i, j] s[i] s[j], {j, 1, NN}, {i, 1,j-1}] + \n",
    "    Sum[ H[i] s[i], {i, 1, NN}] // Expand"
   ]
  },
  {
   "cell_type": "markdown",
   "id": "91489963",
   "metadata": {},
   "source": [
    "In Wolfram, named functions take the form `Function[ args ]`. An important concept is that of [iterators](https://www.wolfram.com/language/fast-introduction-for-programmers/en/iterators/). For instance, the function `Sum[ i, {i,1,5,2} ]` will sum over the variable `i` from `1` to `5` incrementing by `2` each time. "
   ]
  },
  {
   "cell_type": "code",
   "execution_count": 19,
   "id": "f8b5f1a2",
   "metadata": {},
   "outputs": [
    {
     "data": {
      "text/html": [
       "<div><pre style=\"&#102;&#111;&#110;&#116;&#45;&#102;&#97;&#109;&#105;&#108;&#121;&#58;&#32;&#34;&#67;&#111;&#117;&#114;&#105;&#101;&#114;&#32;&#78;&#101;&#119;&#34;&#44;&#67;&#111;&#117;&#114;&#105;&#101;&#114;&#44;&#109;&#111;&#110;&#111;&#115;&#112;&#97;&#99;&#101;&#59;\">&#57;</pre></div>"
      ],
      "text/plain": [
       "9"
      ]
     },
     "execution_count": 19,
     "metadata": {
      "text/html": [],
      "text/plain": []
     },
     "output_type": "execute_result"
    }
   ],
   "source": [
    "Sum[i,{i,1,5,2}]"
   ]
  },
  {
   "cell_type": "markdown",
   "id": "5fd5c33d",
   "metadata": {},
   "source": [
    "### Construct the partition function `Z`\n",
    "We can choose to represent whether the neuron is silent or fires as either {0,1}, or as {-1,1}. "
   ]
  },
  {
   "cell_type": "code",
   "execution_count": 20,
   "id": "290b7c3a",
   "metadata": {},
   "outputs": [
    {
     "data": {
      "text/html": [
       "<style>\n",
       "\t\t\t\t\t\t\t\t\t\t\t\t\t.grid-container {\n",
       "\t\t\t\t\t\t\t\t\t\t\t\t\t\tdisplay: inline-grid;\n",
       "\t\t\t\t\t\t\t\t\t\t\t\t\t\tgrid-template-columns: auto;\n",
       "\t\t\t\t\t\t\t\t\t\t\t\t\t}\n",
       "\t\t\t\t\t\t\t\t\t\t\t\t</style>\n",
       "\n",
       "\t\t\t\t\t\t\t\t\t\t\t\t<div><div class=\"grid-container\"><div class=\"grid-item\"><img alt=\"Output\" src=\"data:image/png;base64,iVBORw0KGgoAAAANSUhEUgAAAOsAAAARCAIAAACzYcz9AAAAznpUWHRSYXcgcHJvZmlsZSB0eXBlIGV4aWYAAHjabU9bjgMhDPvnFHuEvHDgOExLpd6gx99kYLeaqpaIjXEClPl6PspPQpiKVW/oAAWsW5cRotHCYqZ+1hPz2Gd89QtvwSOs+j7A3P5x9R2LpX0MIllC84bQarthD1JZPo+1P3ZeRmtfB/3B2v/Tv+/VBRXsFtWE3NFDtxIyCFWoOh64ARFk3IXsFjzhHm3wTOjIxoRMv6ZngYZxzy9oLtYRXKOqcrRycGo6q8lxpjKT3/kFmd5a3+wpPwsAAAAJcEhZcwAACxMAAAsTAQCanBgAAAA8dEVYdFNvZnR3YXJlAENyZWF0ZWQgd2l0aCB0aGUgV29sZnJhbSBMYW5ndWFnZSA6IHd3dy53b2xmcmFtLmNvbVyipoUAAAAhdEVYdENyZWF0aW9uIFRpbWUAMjAyMTowNTozMSAxMzozMDozNDba8jEAAAOSSURBVGiB7Zo/LDNhHMeflqonKrnzJwwGi+jAQCI50cXUxmqwGMyNVSKpQRhIxG4gjbCIiKCDocSEpFLpYFEhYWikFWkT7or2eYe+b9Xz3J+nd/f0beU+i+b73O/3fPw8PUdqQwgBC4uaxf6/BSwsDGGdYIvaxjrBFrXNjxMsiuLt7S15EZbncrlAIOB2uwcHBzc2NsrdUqX85ubm6+ur3IZMbd/f3w8ODqampvx+P7bEwlZlOxoqPFuDtjpmK5Ojf0SjUZ/PFw6H0U/IfH5+3u12n5+fHx4e8jwfCoVQOaiUB4NBr9f7+flZVkOmtvF4fGJior+/f2RkBFtiYauyHQ0Vnq1BWx2zJfPvE7y4uBiNRsltyLyjo2N/f7/wOhAIjI2NleWtXr6+vk6+i+gx3bbA6uqq7A/JdFv17TSp8GwL6LZVL1eyxXJ76c24ubmZvG9jeSaTeX5+FgRha2vr7OxseHg4Ho/T/+LQLHe5XNlslr4hU1tNzLU1SIVnyxolWyz/PsH5fF62EZanUikAAM/zMzMzS0tLPM8nk0l6LZryXC5H35CpLQ0m2hqkwrOtAEq2pfnfE3xxcXF1ddXd3Y1dSuYtLS0AgHQ6vb29vbKykk6nW1tb6Z00y4eGhjY3N+/v7+l7srPVxFxbg1R4tqxRssXy+sKXZDLpdDrr6uqwq8mc4ziO466vr71eLwDg6OgI+64SiQSEkOM4WS3NcgihJEmZTAYrVG/LyFYTc201qarZGrTVRMkWz4tPxHNzc3d3d+SDM5lPT097PJ63t7fHx8eurq5gMFhcen19hRC2tbVls1mlJ3eVcoTQzs7O3t4eVkLTlpGtJEmiKC4vLwuCIIqiJElMbVW2q8LZGrTVMVsy/34ObmhoQHKfkSDzhYUFh8PR3t7e09Pj8/kmJyeLS01NTX19falUSvb/yprlhXdUY2MjVkLTlpGtx+OBEM7Ozl5eXkIIOzs7mdqqbFeFszVoq2O2ZF5ffGW322X/9CNznudPT09fXl6cTqfL5Spdcjgcu7u7AwMDvb29St4q5QCAj48Pm82GhTRtGdlGIhGV7Uy3VdmuCmdr0FbHbGXy4t04EomMj4/HYjHspq2Uy/Lw8CAIgt/vp7mYJBwOj46OPj096W5r2SrxO2zJHJQux2Kxk5MTsp1SThIKhdbW1vL5fPnOCCF0fHycSCQMtrVsZfkdtmRuQ9bngy1qmT+cmMuMppPT9AAAAABJRU5ErkJggg==\"></div><div class=\"grid-item\"><img alt=\"Output\" src=\"data:image/png;base64,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\"></div><div class=\"grid-item\"><img alt=\"Output\" src=\"data:image/png;base64,iVBORw0KGgoAAAANSUhEUgAAAO8AAAARCAIAAAC6imyHAAAAzXpUWHRSYXcgcHJvZmlsZSB0eXBlIGV4aWYAAHjabU/bDQMhDPtnio6QBzgwDtdyUjfo+E0O2uqqs0RsjBMgjddzT7eAMKVcrKIB5MgtN+kuKk1MZmpHPTD2dcZnP/ES3N0qvwOM5W9n3zBZ6t8gkik0bnCteTWsQSrT5z7328pLr/Vy0Ae5fp9+vVcTFLBlr1nIDM11TS6dUISKYccd8CDjIZTvzgNm3gaLhPZoDMiwc3okqBuP+ILGYu3Oxasqeys7h6ajFtmOVGTiO2+f0lrkohP4uQAAAAlwSFlzAAALEwAACxMBAJqcGAAAADx0RVh0U29mdHdhcmUAQ3JlYXRlZCB3aXRoIHRoZSBXb2xmcmFtIExhbmd1YWdlIDogd3d3LndvbGZyYW0uY29tXKKmhQAAACF0RVh0Q3JlYXRpb24gVGltZQAyMDIxOjA1OjMxIDEzOjMwOjM1Qd3CpwAABBNJREFUaIHtmT9IAm0YwB/TFE1Sa4g0h9LAgpoMo39DSzgoQURTRJAuTdUiTS3pUi6GtSQUYVektRj0h6BwDCIoQ6JwSDEJtfzTmeR9w/H59WnpmZ5F3G96z3t9nt/z+r7nvXc0DMOgXEQikXg8XldXBwD39/dNTU1lS00E4nrhcJjH49FotDLakTh6pBZ+d3eHoigACAQCoVBYjGf+7FgZ2dnZmZqawjDs7e1NIpGkP19eXjaZTM/Pz/ihwWAQiUSrq6vpDqenp1qtNhaL/bie2+3u7e1VKpUymezm5ua36WHfGj1SCzcYDJOTk2q1WqPREHfOgGB2RjFrpVTEYrGZmZn04fT0dCKR+Nihr68Pr6HsagD/1xMKhVartaGhwWw2IwgyNzf3q/SgpKNXksJ1Oh0AHB8fb29vE3fOgGD2cs/mg4OD8fHxVCqVow+TyaysrCyb0kfy6nG5XC6XCwBXV1f9/f1lVAMgc/R+tvC8zgSzMwAgHo8fHR3t7u5yOByz2VwqRTws3haJRHK5HADkcvns7GwymVSr1aVK9D2K0dva2np4eBgaGvqdeuRFzl34p5FxSvLHlXfYGQDg8/k2NzddLld1dXXxKdOwWKy2tja8XVVVhTdqa2ubm5uTyWQJE32Pb+ttbGysr6/v7e2Rugskb/TIKzw7ciwWu7y87OrqcrlcPB6vIE+LxSKXy9vb2wlmB3w2S6VSBEGMRqPdbi8oX27odHrG7jjtkUPI6/WOjY15PB4mk+lwOGw2WwmVitc7PDwcHR1VKBQDAwMikQhBkF+lR2T0yCs8OzKKojqdLpVK+Xw+h8NRkLPJZGppabFarQSzA3x4prG4uNjd3Z1jc3pycuLxeD49lUgk5ufnJRKJSqWyWCyF7u4XFhby9llZWYlGo5QeSXqkRg4Gg6lUqtDINptNr9cXlL3iq7WYzfX1dSAQ+PSU0Wjc39/v7OxEEITNZms0GuJhAUAoFC4tLUUika86nJ2d3d7e0ul0So8kPVIjCwSCjKt+3sherxdBEK1WmyNsdnYa9u/tOX6n4XQ6s792cXERDoftdntra6tMJhOLxVKpNH0WRVGVSiUQCAYHB+vr6wFAq9W63e6KigKWSjFQehQ4hJ7Q+f3+QCAQCoX8fj+Hw0lvHXDi8TiLxQoGg6+vr09PTwCg1+vL+Z6M0qPAYQBAIpHAMCyZTL6/v6MoSqPRWCzWx05KpRIAIpGIQqHo6OjICFFTUxMOh/HryvDwMAA8Pj6W8/eg9ChwGADQ09Nzfn6OH7PZbD6fHwqFsruKxeKvHrKsra2NjIxMTEw4nc6Xlxc+n282mzOWBNlQehT/3TcXj8/ni0ajjY2NP/UmLzeU3p+nlLOZguJnoTbOFH8HajZT/B3+AZSD8qZ2t+NIAAAAAElFTkSuQmCC\"></div><div class=\"grid-item\"><img alt=\"Output\" src=\"data:image/png;base64,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\"></div></div></div>"
      ],
      "text/plain": [
       "{{0, 0}, {0, 1}, {1, 0}, {1, 1}}\n",
       "{{s[1] -> 0, s[2] -> 0}, {s[1] -> 0, s[2] -> 1}, {s[1] -> 1, s[2] -> 0}, \n",
       " \n",
       ">   {s[1] -> 1, s[2] -> 1}}\n",
       "     -H[1]    -H[2]    -H[1] - H[2] - J[1, 2]\n",
       "1 + E      + E      + E\n",
       "     -H[1] - L[1]    -H[2] - L[2]    -H[1] - H[2] - J[1, 2] - L[1] - L[2]\n",
       "1 + E             + E             + E"
      ]
     },
     "execution_count": 20,
     "metadata": {
      "text/html": [],
      "text/plain": []
     },
     "output_type": "execute_result"
    }
   ],
   "source": [
    "spinvals = (PadLeft[IntegerDigits[#, 2], NN] & /@ \n",
    "     Range[0, 2^NN - 1]) /. {0 -> 0}\n",
    "reps = Table[s[i] -> #[[i]], {i, NN}] & /@ spinvals\n",
    "Z = Total[(Exp[-Hamiltonian] /. reps)] \n",
    "ZAuto = Total[(Exp[-AutoHamiltonian] /. reps)] "
   ]
  },
  {
   "cell_type": "markdown",
   "id": "34b55e56",
   "metadata": {},
   "source": [
    "One can define lambda functions, called *pure functions* by writing a function in terms of `#`s and ending it with a `&`. To then apply the function over multiple expressions, one can map it using `\\@`. For instance, below we construct the pure function that squares its argument `#^2&`, and then we apply to a list of containing the lists `{0,1}` and `{2,3}`. "
   ]
  },
  {
   "cell_type": "code",
   "execution_count": 24,
   "id": "1cc460c5",
   "metadata": {},
   "outputs": [
    {
     "data": {
      "text/html": [
       "<div><pre style=\"&#102;&#111;&#110;&#116;&#45;&#102;&#97;&#109;&#105;&#108;&#121;&#58;&#32;&#34;&#67;&#111;&#117;&#114;&#105;&#101;&#114;&#32;&#78;&#101;&#119;&#34;&#44;&#67;&#111;&#117;&#114;&#105;&#101;&#114;&#44;&#109;&#111;&#110;&#111;&#115;&#112;&#97;&#99;&#101;&#59;\">&#123;&#123;&#48;&#44;&#32;&#49;&#125;&#44;&#32;&#123;&#52;&#44;&#32;&#57;&#125;&#125;</pre></div>"
      ],
      "text/plain": [
       "{{0, 1}, {4, 9}}"
      ]
     },
     "execution_count": 24,
     "metadata": {
      "text/html": [],
      "text/plain": []
     },
     "output_type": "execute_result"
    }
   ],
   "source": [
    "#^2& /@ {{0,1},{2,3}}"
   ]
  },
  {
   "cell_type": "markdown",
   "id": "cec09ad6",
   "metadata": {},
   "source": [
    "Once we have an expression, for instance `x + y + z`, we can replace symbols with other ones. `/.` means *replace everywhere*. Below, we show how we can use it to replace `x` with `2` and `y` with `3`. It sort of copies the expression into the curly brackets and implements the suggested replacements."
   ]
  },
  {
   "cell_type": "code",
   "execution_count": 25,
   "id": "2704e80d",
   "metadata": {},
   "outputs": [
    {
     "data": {
      "text/html": [
       "<style>\n",
       "\t\t\t\t\t\t\t\t\t\t\t\t\t.grid-container {\n",
       "\t\t\t\t\t\t\t\t\t\t\t\t\t\tdisplay: inline-grid;\n",
       "\t\t\t\t\t\t\t\t\t\t\t\t\t\tgrid-template-columns: auto;\n",
       "\t\t\t\t\t\t\t\t\t\t\t\t\t}\n",
       "\t\t\t\t\t\t\t\t\t\t\t\t</style>\n",
       "\n",
       "\t\t\t\t\t\t\t\t\t\t\t\t<div><div class=\"grid-container\"><div class=\"grid-item\"><img alt=\"Output\" src=\"data:image/png;base64,iVBORw0KGgoAAAANSUhEUgAAAB4AAAARCAIAAABFBIsgAAAAzXpUWHRSYXcgcHJvZmlsZSB0eXBlIGV4aWYAAHjabU9bDsMgDPvnFDtCHuDAcehGpd1gx19S6KZOs0TsBDstabyee7oFhCnlYhUNIEduuUl3UWliMlM76mzGuuPrPPFp6D4q3wusAG/XuWGy1J9FJFNofMG15hVYi1TmnPvst+WXXuvfRSdy/fz6/15NUMCWvWYhMzTXNbl0QhEqhh13wI2Mh1C+Ow+YeQwWDu0RDMiwq3skqA8e8QSNw9qdi1dV9ig7h6ajNtkOV3jiOW9R0VqzGRypAwAAAAlwSFlzAAALEwAACxMBAJqcGAAAADx0RVh0U29mdHdhcmUAQ3JlYXRlZCB3aXRoIHRoZSBXb2xmcmFtIExhbmd1YWdlIDogd3d3LndvbGZyYW0uY29tXKKmhQAAACF0RVh0Q3JlYXRpb24gVGltZQAyMDIxOjA1OjMxIDEzOjMwOjM5SGuOjAAAAY1JREFUOI3VlDGLwkAQhcclIGIXBEVQSbCQiJ21/0ALEZVgIaYWxCDY2dpZ2AV7K0WsxEawFMEqYEBEhUBAMFoEwzVzRe68I6Y5Twtftftm52N3dnZdiAivEXkR923RFAAMBoNOp3OzqtVqoVB4Dnq9XiNis9m0rHg8/n/uF1rX9UQikU6nH6bUarXpdHqbhsPhyWTiQkRBEGRZZhjG7XZnMplsNuuYP5vNWJaNRCL3IVmWj8cjACyXy0aj0ev1BEEARGy32zzPS5JUKpUoipIkCZ3U7XYXi4VjyJKqqsFgsF6vW1OX7cnk83lN0+bz+W9ztVqdz+fhcMhxXCwWC4VC0WjUtvHr9ZpKpfx+/3g8JoTAffMlk0nDMGympmmHw0HXdWtwOp1sCxCxXC6bptnv9y0uAMB2u83lcvv9HhE3mw3DMKIo/rUgrVaLpmlFUT6+hYhwuVwqlYrH4/H5fISQYrFoGIZj/mg0UhTl3t/tdrZDEEJ+am2apqqqgUDA6/U6dccjsl/jE/We39MnUqlA9L6WOsYAAAAASUVORK5CYII=\"></div><div class=\"grid-item\"><img alt=\"Output\" src=\"data:image/png;base64,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\"></div></div></div>"
      ],
      "text/plain": [
       "5 + z\n",
       "{{2 + y + z, 3 + x + z}, 3 + x + z}"
      ]
     },
     "execution_count": 25,
     "metadata": {
      "text/html": [],
      "text/plain": []
     },
     "output_type": "execute_result"
    }
   ],
   "source": [
    "x + y + z /. {x->2, y->3}\n",
    "x + y + z /. {{{x->2}, {y->3}}, {y->3}}"
   ]
  },
  {
   "cell_type": "markdown",
   "id": "5b60cbcb",
   "metadata": {},
   "source": [
    "### Construct the probability distributionn `p`."
   ]
  },
  {
   "cell_type": "code",
   "execution_count": 29,
   "id": "5254e6c3",
   "metadata": {},
   "outputs": [
    {
     "data": {
      "text/html": [
       "<style>\n",
       "\t\t\t\t\t\t\t\t\t\t\t\t\t.grid-container {\n",
       "\t\t\t\t\t\t\t\t\t\t\t\t\t\tdisplay: inline-grid;\n",
       "\t\t\t\t\t\t\t\t\t\t\t\t\t\tgrid-template-columns: auto;\n",
       "\t\t\t\t\t\t\t\t\t\t\t\t\t}\n",
       "\t\t\t\t\t\t\t\t\t\t\t\t</style>\n",
       "\n",
       "\t\t\t\t\t\t\t\t\t\t\t\t<div><div class=\"grid-container\"><div class=\"grid-item\"><img alt=\"Output\" src=\"data:image/png;base64,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\"></div><div class=\"grid-item\"><img alt=\"Output\" src=\"data:image/png;base64,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\"></div></div></div>"
      ],
      "text/plain": [
       " -(H[1] s[1]) - H[2] s[2] - J[1, 2] s[1] s[2]\n",
       "E\n",
       "---------------------------------------------\n",
       "     -H[1]    -H[2]    -H[1] - H[2] - J[1, 2]\n",
       "1 + E      + E      + E\n",
       "                          2                                            2\n",
       "  -(H[1] s[1]) - L[1] s[1]  - H[2] s[2] - J[1, 2] s[1] s[2] - L[2] s[2]\n",
       " E\n",
       "-------------------------------------------------------------------------\n",
       "     -H[1] - L[1]    -H[2] - L[2]    -H[1] - H[2] - J[1, 2] - L[1] - L[2]\n",
       "1 + E             + E             + E"
      ]
     },
     "execution_count": 29,
     "metadata": {
      "text/html": [],
      "text/plain": []
     },
     "output_type": "execute_result"
    }
   ],
   "source": [
    "p = Exp[-Hamiltonian]/Z \n",
    "pAuto = Exp[-AutoHamiltonian]/ZAuto"
   ]
  },
  {
   "cell_type": "markdown",
   "id": "0b849d44",
   "metadata": {},
   "source": [
    "We can evaluate this expression at a particular configuration as follows (assuming we have 2 neurons):"
   ]
  },
  {
   "cell_type": "code",
   "execution_count": 31,
   "id": "68322e6a",
   "metadata": {},
   "outputs": [
    {
     "data": {
      "text/html": [
       "<style>\n",
       "\t\t\t\t\t\t\t\t\t\t\t\t\t.grid-container {\n",
       "\t\t\t\t\t\t\t\t\t\t\t\t\t\tdisplay: inline-grid;\n",
       "\t\t\t\t\t\t\t\t\t\t\t\t\t\tgrid-template-columns: auto;\n",
       "\t\t\t\t\t\t\t\t\t\t\t\t\t}\n",
       "\t\t\t\t\t\t\t\t\t\t\t\t</style>\n",
       "\n",
       "\t\t\t\t\t\t\t\t\t\t\t\t<div><div class=\"grid-container\"><div class=\"grid-item\"><img alt=\"Output\" src=\"data:image/png;base64,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\"></div><div class=\"grid-item\"><img alt=\"Output\" src=\"data:image/png;base64,iVBORw0KGgoAAAANSUhEUgAAAWMAAAArCAIAAAAi3H4DAAAAz3pUWHRSYXcgcHJvZmlsZSB0eXBlIGV4aWYAAHjadU9BjgMhDLvzin0CScCB5zAtlfqDff46A5V2qtbSxMayM0qav89H+gmo5FSqN3QgE6WXroOi5YXFkvs5T8C2kquf9FhCBq36rzC3f1x9x2Jtb4uyLmHxB2oru7AXmS5fxnofO6+jtY+LXiivs+TL21xRIV44i2Z3dOqWKEmomqvjgRvAoOCuudzIE+6swSNhI4oBnX5NzwSjcY8TLD6xQa6cZsKqkE/NKdb0OFORiXP+AFWrWrcRzEVGAAAACXBIWXMAAAsTAAALEwEAmpwYAAAAPHRFWHRTb2Z0d2FyZQBDcmVhdGVkIHdpdGggdGhlIFdvbGZyYW0gTGFuZ3VhZ2UgOiB3d3cud29sZnJhbS5jb21coqaFAAAAIXRFWHRDcmVhdGlvbiBUaW1lADIwMjE6MDU6MzEgMTM6MzE6MTi15rv9AAAIg0lEQVR4nO2dbUhTXxjAz9RcmZgvRbWrtJZCSkaIsqBaH4SFfRAyY2mYBmpQ+aEFJUbQJ1cgESgqhlJQbpWGBgqpIY4KijmlWmllzrepGZu6F+fr/h/unznu5r1325272vP7tHvO2fOc57n3PDv33HOfcWw2GwIAACAlwN8dAKiZnp6mDOhGo3FychL//Pv3b2Y7MDAwoNFoNBqNTqfzUhQdWwAWApGC1fz48UMkEmVnZyckJPT19Tk3aGpqGhsbQwi1tbXdv38fIbS4uCgWi+0NqqurKyoqZmdn8cN79+5FR0fX1dXZGyiVysuXL1ssFpJuvHz5sqqqqqSk5O7du/Ql07HFWfujR4+WlpZIOgP4BYgUrIbH49XX17e2thYVFSkUCkLt8vLy+/fvMQwjkWA2m69duxYWFoYfSqXSgoICxwYikSgpKYn8d764uLiioqKoqMgtyXRscdaempr6+PFjEjmAX4BIwWpCQ0Ojo6MRQl+/fj106BChtre3NykpyX745s2bS5cu5efnkwgMDg7esmULpd6HDx+621VKyeS22BEIBIzfPQHeE+TvDgDUPH/+fHR09OzZs4RylUrleKORnJxcUlKyuLiYnp7usS6LxdLe3t7b29vc3IxhWHJysr2KkfWFtWxxhMPheK8IYBaYU7Cdp0+f1tbWKhQK5/HD5XIdb+mjoqLi4uLi4uK8UcflchMTE3k8XmJiYkxMDELIbDZ/+PABIfTt27cdO3a4Ja2uru7z58/2QxJbHAkIgMuSdcCcgi0sLCyUlZXV1dUlJCScOXNGIpGEhIS0tbXl5OQIhcJTp05hGEZYqkhKSlKr1XhosI89kkE4NjaWm5ur1WqDg4NbWloaGxud2wQGBgoEgvj4eIFAgJdYrdbi4uKVlRWdTtfS0uKW5PLy8vj4+Pr6eoQQuS2OQKRgIzaAHchksmPHjl24cMFsNsvl8uzsbDrfun37NnmDsrIySiHV1dUmk4m8jV6vX1lZcVdyY2NjaWmpW9o1Go1CoaCUDKwzELxZgdVqffv2LY/HO3369MePH3fv3v3p06eVlRXKL6amphoMBpIGPB6voqLCaDSu1UCpVP78+TMwMJBcUUREBGG2Qil5bGxMoVAUFhaSiHXW3tfXd+7cOfLOAOsPxwbbYFiAXq+/ePGi1WrNysqyP3fMzMyEtT2AJcA6BSuIjIycnp7eu3cvQgj/RZ2cnIQwAbAHmFOwhYGBAYlE0t3dnZeXNzs7Gx4eXllZyeVy/d0vAEAIIgXb0Ol0JpNp//79dPZHAcC6AZECAABq4NkHAADUQKQAAIAaiBQAAFADkQIAAGr+309hMBjm5ub82xUAANhGZGTk1q1bkT1SfPnyZXBw0K9dAgCAdZw8eZLP5yN4SgoAAB1gnQIAAGp8Hik2cc7owcFBOq97rgP0neyBmRvCyR6n/B4ZGfH1SfTpEGDwIjQajXq9fs1qX7/W3tDQcP36dZvNtrCwcODAAXt5VVVVeXn5zMwMfiiTyTAMq62ttTfo6uoqLCw0m80kwmUy2dWrV9PT0wsKCuhLJtDf33/ixIm0tLSDBw9+//6dvvbDhw8bjUZCISN2uQsdJ3tsJsud7LFknNzcXMo2XuLTIcDgRTg+Pn7z5s21FPntXVKz2Xzjxg37oVQqnZ+fd2wgEonwE08ipLi4GCHU0dHx4sUL+pIJ4Dmjo6OjKysrFQoFnqiejnaXMGIXUzh2xmMzWe5kbySPjo7u2rXLXe1M4btLxTPJe/bsGR4ettlsLl9iXr37sFgszc3NeXl5V65ccbdn5GyOnNE+0s4UlE72r5m+005fsjNyudwx9+8/OwTspKSkKJVKl1WrkUKn08nlcrVa7ZgilRHwnNG3bt3yRgh+FvGc0SqVyrGKkd9n8pzRJNpZAk0ne2wmy51MJ+W3M11dXUKh0H64cYcAU2RkZMjlcpdVq5EiNjZWoVDk5eUxrn4T5Ix21s426DjZAzM3hJNppvwmMDc3FxAQ4PiVDTcEGIfP5//9+9dlldvrFJ2dnQKBYN++fc5VLrNLb46c0c7acYvEYjGeA7K9vR3fyuauXS7xhZM9M5P9Tqaf8pvA0NCQSw9Twp4hgHxwEa41eXQ7Umg0mtDQUJduevDgQWtr69GjR2tqal6/fl1QUPDs2bOMjIyMjAyEUFBQ0K9fv1zKxDCso6ODjvacnBz756ioKKVSaTAYwsPD1zoHa0m+c+dOf38//lksFtOcWjtqRwj19vaSt6dvFwFfONkzM9nvZPqSCQwNDeG7D92FPUMA+eAiDAsL0+v1kZGRhHI39lP09PR0dnb29/erVKrOzk6Cze5ml95wOaNp4qVd4GQ6MGKXVqt1N1Kw8+wwKxnDMK1W61zuxpxiYmLiz58/BoNhYmIiJCRk+/btjrUWi4XL5er1+rm5OfxWp7S0lGS6lZWVRa5OJBKJRCL63aMvGcMwxwd+66ydXDI4mRHtdCQvLS25m6Z005wdEskcDsdldFuNFPPz8zabbXFxcXl52Wq1cjgcgh/T0tIQQkajUSgUpqSkEARBdmlGACevG3w+n7DrFIYAQmhkZMTlVGs1Uhw/ftz+6GXbtm3h4eEu/3ImJiZmrTXwJ0+eSCSS/Pz8d+/eQXZpbwAnrwN8Pr+7u9uxBIYAQmh6enrnzp3O5cy/SwrZpdcBcLL3mEwmqVRaU1PDuOQNfXYyMzMbGhqcy5nfzc3j8RiXCRAAJ3tPaGjo+Pi4LyRv3LMzNTVl/ws7AvDWOfDvIhQKe3p6/N0LFtHU1JSZmemyCiIF8O9y/vz5V69e+bsXLEKpVIrFYpdVECmAf5fY2Njh4WF/94ItzMzMREREBAW5XpGA7HjAP41arT5y5EhAAPxkoqmpKbPZvNZuNIgUAABQA6EUAABq/gOUgVHSsMkF2AAAAABJRU5ErkJggg==\"></div></div></div>"
      ],
      "text/plain": [
       "             2 (H[1] + J[1, 2])\n",
       "            E\n",
       "-------------------------------------------\n",
       "     J[1, 2]   H[1]    H[2]    H[1] + H[2]\n",
       "1 + E        (E     + E     + E           )\n",
       "                          2 (H[1] + J[1, 2])\n",
       "                         E\n",
       "----------------------------------------------------------------------\n",
       "     H[1] + J[1, 2] + L[1]    H[2] + J[1, 2] + L[2]       H[1] + L[1]\n",
       "1 + E                      + E                      (1 + E           )"
      ]
     },
     "execution_count": 31,
     "metadata": {
      "text/html": [],
      "text/plain": []
     },
     "output_type": "execute_result"
    }
   ],
   "source": [
    "p /. {s[1]-> -1, s[2]->1} //FullSimplify\n",
    "pAuto /. {s[1]-> -1, s[2]->1} //FullSimplify"
   ]
  },
  {
   "cell_type": "markdown",
   "id": "3df36e9a",
   "metadata": {},
   "source": [
    "### Compute the expectations and correlations\n",
    "When we represent the neuron states as `{-1,1}`, the auto-correlations are 1 since we either have `1*1` times a probability, or `-1*-1=1` times a probability, and all the probabilities sum to 1. On the other hand, when we represent the neuron states as `{0,1}`, the auto-correlations are equal to the expectations since the product of a neuron with itself takes on the same values as just the neuron by itself.   "
   ]
  },
  {
   "cell_type": "code",
   "execution_count": 38,
   "id": "1a262805",
   "metadata": {},
   "outputs": [
    {
     "data": {
      "text/html": [
       "<style>\n",
       "\t\t\t\t\t\t\t\t\t\t\t\t\t.grid-container {\n",
       "\t\t\t\t\t\t\t\t\t\t\t\t\t\tdisplay: inline-grid;\n",
       "\t\t\t\t\t\t\t\t\t\t\t\t\t\tgrid-template-columns: auto;\n",
       "\t\t\t\t\t\t\t\t\t\t\t\t\t}\n",
       "\t\t\t\t\t\t\t\t\t\t\t\t</style>\n",
       "\n",
       "\t\t\t\t\t\t\t\t\t\t\t\t<div><div class=\"grid-container\"><div class=\"grid-item\"><img alt=\"Output\" src=\"data:image/png;base64,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\"></div><div class=\"grid-item\"><img alt=\"Output\" src=\"data:image/png;base64,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\"></div></div></div>"
      ],
      "text/plain": [
       "                1                                1\n",
       "{-------------------------------, -------------------------------}\n",
       "      H[1] + J[1, 2]       H[2]        H[2] + J[1, 2]       H[1]\n",
       "     E               (1 + E    )      E               (1 + E    )\n",
       " 1 + ---------------------------  1 + ---------------------------\n",
       "              H[2] + J[1, 2]                   H[1] + J[1, 2]\n",
       "         1 + E                            1 + E\n",
       "                       1\n",
       "{---------------------------------------------, \n",
       "      H[1] + J[1, 2] + L[1]       H[2] + L[2]\n",
       "     E                      (1 + E           )\n",
       " 1 + -----------------------------------------\n",
       "                 H[2] + J[1, 2] + L[2]\n",
       "            1 + E\n",
       " \n",
       "                          1\n",
       ">   ---------------------------------------------}\n",
       "         H[2] + J[1, 2] + L[2]       H[1] + L[1]\n",
       "        E                      (1 + E           )\n",
       "    1 + -----------------------------------------\n",
       "                    H[1] + J[1, 2] + L[1]\n",
       "               1 + E"
      ]
     },
     "execution_count": 38,
     "metadata": {
      "text/html": [],
      "text/plain": []
     },
     "output_type": "execute_result"
    }
   ],
   "source": [
    "Averages = Table[ Total[s[i] p /. reps] // ExpToTrig // FullSimplify, {i,NN} ]\n",
    "AveragesAuto = Table[ Total[s[i] pAuto /. reps] // ExpToTrig // FullSimplify, {i,NN} ]"
   ]
  },
  {
   "cell_type": "markdown",
   "id": "5299f869",
   "metadata": {},
   "source": [
    "Note, we only work out the upper triangle of the correlation matrix. (Could I even leave out the diagonal?)"
   ]
  },
  {
   "cell_type": "code",
   "execution_count": 40,
   "id": "5789ed36",
   "metadata": {},
   "outputs": [
    {
     "data": {
      "text/html": [
       "<style>\n",
       "\t\t\t\t\t\t\t\t\t\t\t\t\t.grid-container {\n",
       "\t\t\t\t\t\t\t\t\t\t\t\t\t\tdisplay: inline-grid;\n",
       "\t\t\t\t\t\t\t\t\t\t\t\t\t\tgrid-template-columns: auto;\n",
       "\t\t\t\t\t\t\t\t\t\t\t\t\t}\n",
       "\t\t\t\t\t\t\t\t\t\t\t\t</style>\n",
       "\n",
       "\t\t\t\t\t\t\t\t\t\t\t\t<div><div class=\"grid-container\"><div class=\"grid-item\"><img alt=\"Output\" src=\"data:image/png;base64,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\"></div><div class=\"grid-item\"><img alt=\"Output\" src=\"data:image/png;base64,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\"></div></div></div>"
      ],
      "text/plain": [
       "               1\n",
       "-------------------------------\n",
       "     H[1] + J[1, 2]       H[2]\n",
       "    E               (1 + E    )                                    1\n",
       "1 + ---------------------------               -------------------------------------------\n",
       "             H[2] + J[1, 2]                        J[1, 2]   H[1]    H[2]    H[1] + H[2]\n",
       "        1 + E                                 1 + E        (E     + E     + E           )\n",
       "\n",
       "                                                             1\n",
       "                                              -------------------------------\n",
       "                                                   H[2] + J[1, 2]       H[1]\n",
       "                                                  E               (1 + E    )\n",
       "                                              1 + ---------------------------\n",
       "                                                           H[1] + J[1, 2]\n",
       "0                                                     1 + E\n",
       "                      1\n",
       "---------------------------------------------\n",
       "     H[1] + J[1, 2] + L[1]       H[2] + L[2]\n",
       "    E                      (1 + E           )\n",
       "1 + -----------------------------------------\n",
       "                H[2] + J[1, 2] + L[2]\n",
       "           1 + E\n",
       " \n",
       "\n",
       "\n",
       "\n",
       "                                       1\n",
       "     ----------------------------------------------------------------------\n",
       "          H[1] + J[1, 2] + L[1]    H[2] + J[1, 2] + L[2]       H[1] + L[1]\n",
       ">    1 + E                      + E                      (1 + E           )\n",
       "\n",
       "\n",
       "\n",
       "\n",
       "\n",
       "\n",
       "\n",
       "0\n",
       " \n",
       "                           1\n",
       "     ---------------------------------------------\n",
       "          H[2] + J[1, 2] + L[2]       H[1] + L[1]\n",
       "         E                      (1 + E           )\n",
       "     1 + -----------------------------------------\n",
       "                     H[1] + J[1, 2] + L[1]\n",
       ">               1 + E"
      ]
     },
     "execution_count": 40,
     "metadata": {
      "text/html": [],
      "text/plain": []
     },
     "output_type": "execute_result"
    }
   ],
   "source": [
    "(CorrMatrix = \n",
    "  Table[Total[s[i] s[j] p /. reps] // ExpToTrig // FullSimplify, {i, \n",
    "    NN}, {j, i, NN}]) // PadLeft // MatrixForm \n",
    "(CorrMatrixAuto = \n",
    "  Table[Total[s[i] s[j] pAuto /. reps] // ExpToTrig // FullSimplify, {i, \n",
    "    NN}, {j, i, NN}]) // PadLeft // MatrixForm "
   ]
  },
  {
   "cell_type": "markdown",
   "id": "aa5c64e3",
   "metadata": {},
   "source": [
    "## Solve for `H` and `J` given observed expectations and correlations\n",
    "\n",
    "Let us say that we observe the expectations of 2 neurons, as well as their correlation. Can we find the `H` and `J` that gives us an Ising model that reproduces these statistics?"
   ]
  },
  {
   "cell_type": "markdown",
   "id": "ec4a5663",
   "metadata": {},
   "source": [
    "If we try analytically for expected values `a[1]` and `a[2]`, and correlation `b`, we obtain:"
   ]
  },
  {
   "cell_type": "code",
   "execution_count": 60,
   "id": "ac988a13",
   "metadata": {},
   "outputs": [
    {
     "data": {
      "text/html": [
       "<div><img alt=\"Output\" src=\"data:image/png;base64,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\"></div>"
      ],
      "text/plain": [
       "                                        -1. b + a[1]\n",
       "{{H[1] -> ConditionalExpression[-1. Log[------------] + \n",
       "                                             b\n",
       " \n",
       "               1. + b - 1. a[1] - 1. a[2]\n",
       ">       1. Log[--------------------------], \n",
       "                           b\n",
       " \n",
       ">      0 < b < 1. && b < a[1] < 1. && b < a[2] < 1. + b - 1. a[1]], \n",
       " \n",
       "                                          1. + b - 1. a[1] - 1. a[2]\n",
       ">    H[2] -> ConditionalExpression[1. Log[--------------------------] - \n",
       "                                                      b\n",
       " \n",
       "               -1. b + a[2]\n",
       ">       1. Log[------------], 0 < b < 1. && b < a[1] < 1. && b < a[2] < 1. + b - 1. a[1]]\n",
       "                    b\n",
       " \n",
       ">     , J[1, 2] -> \n",
       " \n",
       "                                   -1. b + a[1]           1. + b - 1. a[1] - 1. a[2]\n",
       ">     ConditionalExpression[1. Log[------------] - 1. Log[--------------------------] + \n",
       "                                        b                             b\n",
       " \n",
       "               -1. b + a[2]\n",
       ">       1. Log[------------], 0 < b < 1. && b < a[1] < 1. && b < a[2] < 1. + b - 1. a[1]]\n",
       "                    b\n",
       " \n",
       ">     }}"
      ]
     },
     "execution_count": 60,
     "metadata": {
      "text/html": [],
      "text/plain": []
     },
     "output_type": "execute_result"
    }
   ],
   "source": [
    "g = NSolve[{Averages[[1]]==a[1], Averages[[2]]==a[2], CorrMatrix[[1,2]]==b}, {H[1], H[2], J[1,2]}, Reals] "
   ]
  },
  {
   "cell_type": "markdown",
   "id": "ad89379b",
   "metadata": {},
   "source": [
    "Try also solve for the auto-correlation coefficients. "
   ]
  },
  {
   "cell_type": "code",
   "execution_count": 55,
   "id": "64d51326",
   "metadata": {},
   "outputs": [
    {
     "ename": "Part::partw",
     "evalue": "                                 1\nPart 2 of {---------------------------------------------} does not exist.\n                H[2] + J[1, 2] + L[2]       H[1] + L[1]\n               E                      (1 + E           )\n           1 + -----------------------------------------\n                           H[1] + J[1, 2] + L[1]\n                      1 + E",
     "output_type": "error",
     "traceback": [
      "\u001b[0;31m                                              1\nPart::partw: Part 2 of {---------------------------------------------} does not exist.\n                             H[2] + J[1, 2] + L[2]       H[1] + L[1]\n                            E                      (1 + E           )\n                        1 + -----------------------------------------\n                                        H[1] + J[1, 2] + L[1]\n                                   1 + E\u001b[0m"
     ]
    },
    {
     "ename": "Part::partw",
     "evalue": "                                          1\nPart 2 of {----------------------------------------------------------------} does not exist.\n                          -1. H[2] 1.  H[2]              -1. H[1] 1.  H[1]\n               1. (2.71828        )   E     (1 + (2.71828        )   E    )\n           1 + ------------------------------------------------------------\n                                            -1. H[1] 1.  H[1]\n                             1 + 17 (2.71828        )   E",
     "output_type": "error",
     "traceback": [
      "\u001b[0;31m                                                       1\nPart::partw: Part 2 of {----------------------------------------------------------------} does not exist.\n                                       -1. H[2] 1.  H[2]              -1. H[1] 1.  H[1]\n                            1. (2.71828        )   E     (1 + (2.71828        )   E    )\n                        1 + ------------------------------------------------------------\n                                                         -1. H[1] 1.  H[1]\n                                          1 + 17 (2.71828        )   E\u001b[0m"
     ]
    },
    {
     "ename": "NSolve was unable to solve the system with inexact coefficients. The answer was obtained by solving a corresponding exact system and numericizing the result.",
     "evalue": "NSolve was unable to solve the system with inexact coefficients. The answer was obtained by solving a corresponding exact system and numericizing the result.",
     "output_type": "error",
     "traceback": [
      "\u001b[0;31mNSolve was unable to solve the system with inexact coefficients. The answer was obtained by solving a corresponding exact system and numericizing the result.: NSolve was unable to solve the system with inexact coefficients. The answer was obtained by solving a corresponding exact system and numericizing the result.\u001b[0m"
     ]
    },
    {
     "ename": "Equations may not give solutions for all \"solve\" variables.",
     "evalue": "Equations may not give solutions for all \"solve\" variables.",
     "output_type": "error",
     "traceback": [
      "\u001b[0;31mEquations may not give solutions for all \"solve\" variables.: Equations may not give solutions for all \"solve\" variables.\u001b[0m"
     ]
    },
    {
     "data": {
      "text/html": [
       "<div><img alt=\"Output\" src=\"data:image/png;base64,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\"></div>"
      ],
      "text/plain": [
       "{{J[1, 2] -> ConditionalExpression[2.83321, \n",
       " \n",
       "                                             1\n",
       ">      {{--------------------------------------------------------------------------, \n",
       "                        -1. H[1] 1.  H[1]                        -1. H[2] 1.  H[2]\n",
       "             17 (2.71828        )   E     (1 + 0.0588235 (2.71828        )   E    )\n",
       "         1 + ----------------------------------------------------------------------\n",
       "                                               -1. H[2] 1.  H[2]\n",
       "                                1 + 1. (2.71828        )   E\n",
       " \n",
       "                               -1. H[1] 1.  H[1]\n",
       ">          1 / (1 + 17 (2.71828        )   E     + \n",
       " \n",
       "                         -1. H[2] 1.  H[2]              -1. H[1] 1.  H[1]\n",
       ">             1. (2.71828        )   E     (1 + (2.71828        )   E    ))}, \n",
       " \n",
       "                                          1\n",
       ">         {----------------------------------------------------------------}}[[2,2]] ∈ \n",
       "                          -1. H[2] 1.  H[2]              -1. H[1] 1.  H[1]\n",
       "               1. (2.71828        )   E     (1 + (2.71828        )   E    )\n",
       "           1 + ------------------------------------------------------------\n",
       "                                            -1. H[1] 1.  H[1]\n",
       "                             1 + 17 (2.71828        )   E\n",
       " \n",
       ">       Reals], L[1] -> \n",
       " \n",
       "                                          -1. H[1]\n",
       ">     ConditionalExpression[1. Log[2.71828        ], \n",
       " \n",
       "                                             1\n",
       ">      {{--------------------------------------------------------------------------, \n",
       "                        -1. H[1] 1.  H[1]                        -1. H[2] 1.  H[2]\n",
       "             17 (2.71828        )   E     (1 + 0.0588235 (2.71828        )   E    )\n",
       "         1 + ----------------------------------------------------------------------\n",
       "                                               -1. H[2] 1.  H[2]\n",
       "                                1 + 1. (2.71828        )   E\n",
       " \n",
       "                               -1. H[1] 1.  H[1]\n",
       ">          1 / (1 + 17 (2.71828        )   E     + \n",
       " \n",
       "                         -1. H[2] 1.  H[2]              -1. H[1] 1.  H[1]\n",
       ">             1. (2.71828        )   E     (1 + (2.71828        )   E    ))}, \n",
       " \n",
       "                                          1\n",
       ">         {----------------------------------------------------------------}}[[2,2]] ∈ \n",
       "                          -1. H[2] 1.  H[2]              -1. H[1] 1.  H[1]\n",
       "               1. (2.71828        )   E     (1 + (2.71828        )   E    )\n",
       "           1 + ------------------------------------------------------------\n",
       "                                            -1. H[1] 1.  H[1]\n",
       "                             1 + 17 (2.71828        )   E\n",
       " \n",
       ">       Reals], L[2] -> \n",
       " \n",
       "                                     0.0588235\n",
       ">     ConditionalExpression[1. Log[--------------], \n",
       "                                          1. H[2]\n",
       "                                   2.71828\n",
       " \n",
       "                                             1\n",
       ">      {{--------------------------------------------------------------------------, \n",
       "                        -1. H[1] 1.  H[1]                        -1. H[2] 1.  H[2]\n",
       "             17 (2.71828        )   E     (1 + 0.0588235 (2.71828        )   E    )\n",
       "         1 + ----------------------------------------------------------------------\n",
       "                                               -1. H[2] 1.  H[2]\n",
       "                                1 + 1. (2.71828        )   E\n",
       " \n",
       "                               -1. H[1] 1.  H[1]\n",
       ">          1 / (1 + 17 (2.71828        )   E     + \n",
       " \n",
       "                         -1. H[2] 1.  H[2]              -1. H[1] 1.  H[1]\n",
       ">             1. (2.71828        )   E     (1 + (2.71828        )   E    ))}, \n",
       " \n",
       "                                          1\n",
       ">         {----------------------------------------------------------------}}[[2,2]] ∈ \n",
       "                          -1. H[2] 1.  H[2]              -1. H[1] 1.  H[1]\n",
       "               1. (2.71828        )   E     (1 + (2.71828        )   E    )\n",
       "           1 + ------------------------------------------------------------\n",
       "                                            -1. H[1] 1.  H[1]\n",
       "                             1 + 17 (2.71828        )   E\n",
       " \n",
       ">       Reals]}}"
      ]
     },
     "execution_count": 55,
     "metadata": {
      "text/html": [],
      "text/plain": []
     },
     "output_type": "execute_result"
    }
   ],
   "source": [
    "gAuto = NSolve[{AveragesAuto[[1]]==0.1, AveragesAuto[[2]]==0.9, \n",
    "                CorrMatrixAuto[[1,2]]==0.05, \n",
    "                CorrMatrixAuto[[1,1]]==0.1, CorrMatrixAuto[[2,2]]==0.9}, {H[1], H[2], J[1,2], L[1], L[2]}, Reals]"
   ]
  },
  {
   "cell_type": "markdown",
   "id": "55f93b98",
   "metadata": {},
   "source": [
    "On the other hand, we can find values for `H` and `J` numerically. Let us say neuron 1 has an expected value of 0.1, neuron 2 has an expected value of 0.9 and their correlation is 0.05 (every time neuron 1 fires, neuron 2 also fires half the time)"
   ]
  },
  {
   "cell_type": "code",
   "execution_count": 49,
   "id": "6c7aaa07",
   "metadata": {},
   "outputs": [
    {
     "data": {
      "text/html": [
       "<div><img alt=\"Output\" src=\"data:image/png;base64,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\"></div>"
      ],
      "text/plain": [
       "                    -16\n",
       "{{H[1] -> 8.88178 10   , H[2] -> -2.83321, J[1, 2] -> 2.83321}}"
      ]
     },
     "execution_count": 49,
     "metadata": {
      "text/html": [],
      "text/plain": []
     },
     "output_type": "execute_result"
    }
   ],
   "source": [
    "gNum = g /. {a[1]->0.1, a[2]->0.9, b->0.05} "
   ]
  },
  {
   "cell_type": "markdown",
   "id": "b45dc5dd",
   "metadata": {},
   "source": [
    "Plug in `H` and `J` and check expectations and correlations are reproduced."
   ]
  },
  {
   "cell_type": "code",
   "execution_count": 50,
   "id": "1ec47475",
   "metadata": {},
   "outputs": [
    {
     "data": {
      "text/html": [
       "<div><pre style=\"&#102;&#111;&#110;&#116;&#45;&#102;&#97;&#109;&#105;&#108;&#121;&#58;&#32;&#34;&#67;&#111;&#117;&#114;&#105;&#101;&#114;&#32;&#78;&#101;&#119;&#34;&#44;&#67;&#111;&#117;&#114;&#105;&#101;&#114;&#44;&#109;&#111;&#110;&#111;&#115;&#112;&#97;&#99;&#101;&#59;\">&#123;&#123;&#48;&#46;&#49;&#125;&#44;&#32;&#123;&#48;&#46;&#57;&#125;&#125;</pre></div>"
      ],
      "text/plain": [
       "{{0.1}, {0.9}}"
      ]
     },
     "execution_count": 50,
     "metadata": {
      "text/html": [],
      "text/plain": []
     },
     "output_type": "execute_result"
    }
   ],
   "source": [
    "Table[ Total[s[i] p /. gNum /. reps], {i,NN} ]"
   ]
  },
  {
   "cell_type": "code",
   "execution_count": 51,
   "id": "88a0fe6f",
   "metadata": {},
   "outputs": [
    {
     "data": {
      "text/html": [
       "<div><pre style=\"&#102;&#111;&#110;&#116;&#45;&#102;&#97;&#109;&#105;&#108;&#121;&#58;&#32;&#34;&#67;&#111;&#117;&#114;&#105;&#101;&#114;&#32;&#78;&#101;&#119;&#34;&#44;&#67;&#111;&#117;&#114;&#105;&#101;&#114;&#44;&#109;&#111;&#110;&#111;&#115;&#112;&#97;&#99;&#101;&#59;\">&#123;&#48;&#46;&#48;&#53;&#125;</pre></div>"
      ],
      "text/plain": [
       "{0.05}"
      ]
     },
     "execution_count": 51,
     "metadata": {
      "text/html": [],
      "text/plain": []
     },
     "output_type": "execute_result"
    }
   ],
   "source": [
    "Total[s[1] s[2] p /. gNum /. reps]"
   ]
  },
  {
   "cell_type": "code",
   "execution_count": 52,
   "id": "a26bee56",
   "metadata": {},
   "outputs": [
    {
     "data": {
      "text/html": [
       "<style>\n",
       "\t\t\t\t\t\t\t\t\t\t\t\t\t.grid-container {\n",
       "\t\t\t\t\t\t\t\t\t\t\t\t\t\tdisplay: inline-grid;\n",
       "\t\t\t\t\t\t\t\t\t\t\t\t\t\tgrid-template-columns: auto;\n",
       "\t\t\t\t\t\t\t\t\t\t\t\t\t}\n",
       "\t\t\t\t\t\t\t\t\t\t\t\t</style>\n",
       "\n",
       "\t\t\t\t\t\t\t\t\t\t\t\t<div><div class=\"grid-container\"><div class=\"grid-item\"><pre style=\"&#102;&#111;&#110;&#116;&#45;&#102;&#97;&#109;&#105;&#108;&#121;&#58;&#32;&#34;&#67;&#111;&#117;&#114;&#105;&#101;&#114;&#32;&#78;&#101;&#119;&#34;&#44;&#67;&#111;&#117;&#114;&#105;&#101;&#114;&#44;&#109;&#111;&#110;&#111;&#115;&#112;&#97;&#99;&#101;&#59;\">&#123;&#48;&#46;&#49;&#125;</pre></div><div class=\"grid-item\"><pre style=\"&#102;&#111;&#110;&#116;&#45;&#102;&#97;&#109;&#105;&#108;&#121;&#58;&#32;&#34;&#67;&#111;&#117;&#114;&#105;&#101;&#114;&#32;&#78;&#101;&#119;&#34;&#44;&#67;&#111;&#117;&#114;&#105;&#101;&#114;&#44;&#109;&#111;&#110;&#111;&#115;&#112;&#97;&#99;&#101;&#59;\">&#123;&#48;&#46;&#57;&#125;</pre></div></div></div>"
      ],
      "text/plain": [
       "{0.1}\n",
       "{0.9}"
      ]
     },
     "execution_count": 52,
     "metadata": {
      "text/html": [],
      "text/plain": []
     },
     "output_type": "execute_result"
    }
   ],
   "source": [
    "Total[s[1] s[1] p /. gNum /. reps]\n",
    "Total[s[2] s[2] p /. gNum /. reps]"
   ]
  }
 ],
 "metadata": {
  "kernelspec": {
   "display_name": "Wolfram Language 12.3",
   "language": "Wolfram Language",
   "name": "wolframlanguage12.3"
  },
  "language_info": {
   "codemirror_mode": "mathematica",
   "file_extension": ".m",
   "mimetype": "application/vnd.wolfram.m",
   "name": "Wolfram Language",
   "pygments_lexer": "mathematica",
   "version": "12.0"
  }
 },
 "nbformat": 4,
 "nbformat_minor": 5
}
