{
 "cells": [
  {
   "cell_type": "markdown",
   "id": "2e2e16f0",
   "metadata": {},
   "source": [
    "# Analytic Ising Model\n",
    "We try analytically solve the inverse Ising problem using the Wolfram language. As we go along, I will explain aspects of the Wolfram language that were not obvious to me."
   ]
  },
  {
   "cell_type": "markdown",
   "id": "9f8cb304",
   "metadata": {},
   "source": [
    "### Set the number of neurons/spins:"
   ]
  },
  {
   "cell_type": "code",
   "execution_count": 1,
   "id": "1fe236f2",
   "metadata": {},
   "outputs": [
    {
     "data": {
      "text/html": [
       "<div><pre style=\"&#102;&#111;&#110;&#116;&#45;&#102;&#97;&#109;&#105;&#108;&#121;&#58;&#32;&#34;&#67;&#111;&#117;&#114;&#105;&#101;&#114;&#32;&#78;&#101;&#119;&#34;&#44;&#67;&#111;&#117;&#114;&#105;&#101;&#114;&#44;&#109;&#111;&#110;&#111;&#115;&#112;&#97;&#99;&#101;&#59;\">&#50;</pre></div>"
      ],
      "text/plain": [
       "2"
      ]
     },
     "execution_count": 1,
     "metadata": {
      "text/html": [],
      "text/plain": []
     },
     "output_type": "execute_result"
    }
   ],
   "source": [
    "NN = 2"
   ]
  },
  {
   "cell_type": "markdown",
   "id": "cac2a754",
   "metadata": {},
   "source": [
    "### Construct the Hamiltonian"
   ]
  },
  {
   "cell_type": "code",
   "execution_count": 3,
   "id": "0da5451d",
   "metadata": {},
   "outputs": [
    {
     "data": {
      "text/html": [
       "<div><img alt=\"Output\" src=\"data:image/png;base64,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\"></div>"
      ],
      "text/plain": [
       "H[1] s[1] + H[2] s[2] + J[1, 2] s[1] s[2]"
      ]
     },
     "execution_count": 3,
     "metadata": {
      "text/html": [],
      "text/plain": []
     },
     "output_type": "execute_result"
    }
   ],
   "source": [
    "Hamiltonian =  Sum[J[i, j] s[i] s[j], {j, 1, NN}, {i, 1,j-1}] + \n",
    "    Sum[ H[i] s[i], {i, 1, NN}] // Expand"
   ]
  },
  {
   "cell_type": "markdown",
   "id": "91489963",
   "metadata": {},
   "source": [
    "In Wolfram, named functions take the form `Function[ args ]`. An important concept is that of [iterators](https://www.wolfram.com/language/fast-introduction-for-programmers/en/iterators/). For instance, the function `Sum[ i, {i,1,5,2} ]` will sum over the variable `i` from `1` to `5` incrementing by `2` each time. "
   ]
  },
  {
   "cell_type": "code",
   "execution_count": 4,
   "id": "f8b5f1a2",
   "metadata": {},
   "outputs": [
    {
     "data": {
      "text/html": [
       "<div><pre style=\"&#102;&#111;&#110;&#116;&#45;&#102;&#97;&#109;&#105;&#108;&#121;&#58;&#32;&#34;&#67;&#111;&#117;&#114;&#105;&#101;&#114;&#32;&#78;&#101;&#119;&#34;&#44;&#67;&#111;&#117;&#114;&#105;&#101;&#114;&#44;&#109;&#111;&#110;&#111;&#115;&#112;&#97;&#99;&#101;&#59;\">&#57;</pre></div>"
      ],
      "text/plain": [
       "9"
      ]
     },
     "execution_count": 4,
     "metadata": {
      "text/html": [],
      "text/plain": []
     },
     "output_type": "execute_result"
    }
   ],
   "source": [
    "Sum[i,{i,1,5,2}]"
   ]
  },
  {
   "cell_type": "markdown",
   "id": "5fd5c33d",
   "metadata": {},
   "source": [
    "### Construct the partition function `Z`\n",
    "We can choose to represent whether the neuron is silent or fires as either {0,1}, or as {-1,1}. "
   ]
  },
  {
   "cell_type": "code",
   "execution_count": 5,
   "id": "290b7c3a",
   "metadata": {},
   "outputs": [
    {
     "data": {
      "text/html": [
       "<style>\n",
       "\t\t\t\t\t\t\t\t\t\t\t\t\t.grid-container {\n",
       "\t\t\t\t\t\t\t\t\t\t\t\t\t\tdisplay: inline-grid;\n",
       "\t\t\t\t\t\t\t\t\t\t\t\t\t\tgrid-template-columns: auto;\n",
       "\t\t\t\t\t\t\t\t\t\t\t\t\t}\n",
       "\t\t\t\t\t\t\t\t\t\t\t\t</style>\n",
       "\n",
       "\t\t\t\t\t\t\t\t\t\t\t\t<div><div class=\"grid-container\"><div class=\"grid-item\"><img alt=\"Output\" src=\"data:image/png;base64,iVBORw0KGgoAAAANSUhEUgAAAOsAAAARCAIAAACzYcz9AAAAzXpUWHRSYXcgcHJvZmlsZSB0eXBlIGV4aWYAAHjabU/bDQMhDPtnio5AHjgwDnflpG7Q8ZsctNVVtURsjBMgjefjSLcAU05arKIB2aFNG3cXNU9MptzOemJs64yufqIlqLtVvgcYy9+uvmEy159BmaeQuMG16GpYg4SnT33ut5XnXuvfQW9o/Tz9/16MUUCmXpWzGZrrmlw6oXAuhgM74EHCnbPuzgNm3gaLhPRoDPCwa3okiBv3+ILEIunOxSuL3+eVXQeiKm9nKjLxnReaZFrkFVAdKwAAAAlwSFlzAAALEwAACxMBAJqcGAAAADx0RVh0U29mdHdhcmUAQ3JlYXRlZCB3aXRoIHRoZSBXb2xmcmFtIExhbmd1YWdlIDogd3d3LndvbGZyYW0uY29tXKKmhQAAACF0RVh0Q3JlYXRpb24gVGltZQAyMDIxOjA1OjI0IDIyOjMzOjM0KzBFDAAAA5JJREFUaIHtmj8sM2Ecx5+WqicqufMnDAaL6MBAIjnRxdTGarAYzI1VIqlBGEjEbiCNsIiIoIOhxISkUulgUSFhaKQVaRPuivZ5h75v1fPcn6d39/Rt5T6L5vvc7/d8/Dw9R2pDCAELi5rF/r8FLCwMYZ1gi9rGOsEWtc2PEyyK4u3tLXkRludyuUAg4Ha7BwcHNzY2yt1Spfzm5ubr66vchkxt39/fDw4Opqam/H4/tsTCVmU7Gio8W4O2OmYrk6N/RKNRn88XDofRT8h8fn7e7Xafn58fHh7yPB8KhVA5qJQHg0Gv1/v5+VlWQ6a28Xh8YmKiv79/ZGQEW2Jhq7IdDRWerUFbHbMl8+8TvLi4GI1GyW3IvKOjY39/v/A6EAiMjY2V5a1evr6+Tr6L6DHdtsDq6qrsD8l0W/XtNKnwbAvotlUvV7LFcnvpzbi5uZm8b2N5JpN5fn4WBGFra+vs7Gx4eDgej9P/4tAsd7lc2WyWviFTW03MtTVIhWfLGiVbLP8+wfl8XrYRlqdSKQAAz/MzMzNLS0s8zyeTSXotmvJcLkffkKktDSbaGqTCs60ASral+d8TfHFxcXV11d3djV1K5i0tLQCAdDq9vb29srKSTqdbW1vpnTTLh4aGNjc37+/v6Xuys9XEXFuDVHi2rFGyxfL6wpdkMul0Ouvq6rCryZzjOI7jrq+vvV4vAODo6Aj7rhKJBISQ4zhZLc1yCKEkSZlMBitUb8vIVhNzbTWpqtkatNVEyRbPi0/Ec3Nzd3d35IMzmU9PT3s8nre3t8fHx66urmAwWFx6fX2FELa1tWWzWaUnd5VyhNDOzs7e3h5WQtOWka0kSaIoLi8vC4IgiqIkSUxtVbarwtkatNUxWzL/fg5uaGhAcp+RIPOFhQWHw9He3t7T0+Pz+SYnJ4tLTU1NfX19qVRK9v/KmuWFd1RjYyNWQtOWka3H44EQzs7OXl5eQgg7OzuZ2qpsV4WzNWirY7ZkXl98ZbfbZf/0I3Oe509PT19eXpxOp8vlKl1yOBy7u7sDAwO9vb1K3irlAICPjw+bzYaFNG0Z2UYiEZXtTLdV2a4KZ2vQVsdsZfLi3TgSiYyPj8diMeymrZTL8vDwIAiC3++nuZgkHA6Pjo4+PT3pbmvZKvE7bMkclC7HYrGTkxOynVJOEgqF1tbW8vl8+c4IIXR8fJxIJAy2tWxl+R22ZG5D1ueDLWqZP5yYy4ymk9P0AAAAAElFTkSuQmCC\"></div><div class=\"grid-item\"><img alt=\"Output\" src=\"data:image/png;base64,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\"></div><div class=\"grid-item\"><img alt=\"Output\" src=\"data:image/png;base64,iVBORw0KGgoAAAANSUhEUgAAAO8AAAARCAIAAAC6imyHAAAAzXpUWHRSYXcgcHJvZmlsZSB0eXBlIGV4aWYAAHjabU/bDQMhDPtnio5AHjgwDtdyUjfo+E0O2uqqs0RsjBMgjddzT7cAU05arKIB2aFNG3cXNU9MptyOemDs64zOfqIlqLtVfgcYy9/OvmEy179BmaeQuMG16GpYg4SnT33ut5XnXuvloA+0fp9+vRdjFJCpV+Vshua6JpdOKJyLYccd8CDhwVnvzgNm3gaLhPRoDPCwc3okiBuP+ILEIunOxSuL3+eVXQeiKm9HKjLxnTegSFroCXvfjAAAAAlwSFlzAAALEwAACxMBAJqcGAAAADx0RVh0U29mdHdhcmUAQ3JlYXRlZCB3aXRoIHRoZSBXb2xmcmFtIExhbmd1YWdlIDogd3d3LndvbGZyYW0uY29tXKKmhQAAACF0RVh0Q3JlYXRpb24gVGltZQAyMDIxOjA1OjI0IDIyOjMzOjM0KzBFDAAABBNJREFUaIHtmT9IAm0YwB/TFE1Sa4g0h9LAgpoMo39DSzgoQURTRJAuTdUiTS3pUi6GtSQUYVektRj0h6BwDCIoQ6JwSDEJtfzTmeR9w/H59WnpmZ5F3G96z3t9nt/z+r7nvXc0DMOgXEQikXg8XldXBwD39/dNTU1lS00E4nrhcJjH49FotDLakTh6pBZ+d3eHoigACAQCoVBYjGf+7FgZ2dnZmZqawjDs7e1NIpGkP19eXjaZTM/Pz/ihwWAQiUSrq6vpDqenp1qtNhaL/bie2+3u7e1VKpUymezm5ua36WHfGj1SCzcYDJOTk2q1WqPREHfOgGB2RjFrpVTEYrGZmZn04fT0dCKR+Nihr68Pr6HsagD/1xMKhVartaGhwWw2IwgyNzf3q/SgpKNXksJ1Oh0AHB8fb29vE3fOgGD2cs/mg4OD8fHxVCqVow+TyaysrCyb0kfy6nG5XC6XCwBXV1f9/f1lVAMgc/R+tvC8zgSzMwAgHo8fHR3t7u5yOByz2VwqRTws3haJRHK5HADkcvns7GwymVSr1aVK9D2K0dva2np4eBgaGvqdeuRFzl34p5FxSvLHlXfYGQDg8/k2NzddLld1dXXxKdOwWKy2tja8XVVVhTdqa2ubm5uTyWQJE32Pb+ttbGysr6/v7e2Rugskb/TIKzw7ciwWu7y87OrqcrlcPB6vIE+LxSKXy9vb2wlmB3w2S6VSBEGMRqPdbi8oX27odHrG7jjtkUPI6/WOjY15PB4mk+lwOGw2WwmVitc7PDwcHR1VKBQDAwMikQhBkF+lR2T0yCs8OzKKojqdLpVK+Xw+h8NRkLPJZGppabFarQSzA3x4prG4uNjd3Z1jc3pycuLxeD49lUgk5ufnJRKJSqWyWCyF7u4XFhby9llZWYlGo5QeSXqkRg4Gg6lUqtDINptNr9cXlL3iq7WYzfX1dSAQ+PSU0Wjc39/v7OxEEITNZms0GuJhAUAoFC4tLUUika86nJ2d3d7e0ul0So8kPVIjCwSCjKt+3sherxdBEK1WmyNsdnYa9u/tOX6n4XQ6s792cXERDoftdntra6tMJhOLxVKpNH0WRVGVSiUQCAYHB+vr6wFAq9W63e6KigKWSjFQehQ4hJ7Q+f3+QCAQCoX8fj+Hw0lvHXDi8TiLxQoGg6+vr09PTwCg1+vL+Z6M0qPAYQBAIpHAMCyZTL6/v6MoSqPRWCzWx05KpRIAIpGIQqHo6OjICFFTUxMOh/HryvDwMAA8Pj6W8/eg9ChwGADQ09Nzfn6OH7PZbD6fHwqFsruKxeKvHrKsra2NjIxMTEw4nc6Xlxc+n282mzOWBNlQehT/3TcXj8/ni0ajjY2NP/UmLzeU3p+nlLOZguJnoTbOFH8HajZT/B3+AZSD8qZ2t+NIAAAAAElFTkSuQmCC\"></div></div></div>"
      ],
      "text/plain": [
       "{{0, 0}, {0, 1}, {1, 0}, {1, 1}}\n",
       "{{s[1] -> 0, s[2] -> 0}, {s[1] -> 0, s[2] -> 1}, {s[1] -> 1, s[2] -> 0}, \n",
       " \n",
       ">   {s[1] -> 1, s[2] -> 1}}\n",
       "     -H[1]    -H[2]    -H[1] - H[2] - J[1, 2]\n",
       "1 + E      + E      + E"
      ]
     },
     "execution_count": 5,
     "metadata": {
      "text/html": [],
      "text/plain": []
     },
     "output_type": "execute_result"
    }
   ],
   "source": [
    "spinvals = (PadLeft[IntegerDigits[#, 2], NN] & /@ \n",
    "     Range[0, 2^NN - 1]) /. {0 -> 0}\n",
    "reps = Table[s[i] -> #[[i]], {i, NN}] & /@ spinvals\n",
    "Z = Total[(Exp[-Hamiltonian] /. reps)] // ExpToTrig // FullSimplify"
   ]
  },
  {
   "cell_type": "markdown",
   "id": "34b55e56",
   "metadata": {},
   "source": [
    "One can define lambda functions, called *pure functions* by writing a function in terms of `#`s and ending it with a `&`. To then apply the function over multiple expressions, one can map it using `\\@`. For instance, below we construct the pure function that squares its argument `#^2&`, and then we apply to a list of containing the lists `{0,1}` and `{2,3}`. "
   ]
  },
  {
   "cell_type": "code",
   "execution_count": 8,
   "id": "1cc460c5",
   "metadata": {},
   "outputs": [
    {
     "data": {
      "text/html": [
       "<div><pre style=\"&#102;&#111;&#110;&#116;&#45;&#102;&#97;&#109;&#105;&#108;&#121;&#58;&#32;&#34;&#67;&#111;&#117;&#114;&#105;&#101;&#114;&#32;&#78;&#101;&#119;&#34;&#44;&#67;&#111;&#117;&#114;&#105;&#101;&#114;&#44;&#109;&#111;&#110;&#111;&#115;&#112;&#97;&#99;&#101;&#59;\">&#123;&#123;&#48;&#44;&#32;&#49;&#125;&#44;&#32;&#123;&#52;&#44;&#32;&#57;&#125;&#125;</pre></div>"
      ],
      "text/plain": [
       "{{0, 1}, {4, 9}}"
      ]
     },
     "execution_count": 8,
     "metadata": {
      "text/html": [],
      "text/plain": []
     },
     "output_type": "execute_result"
    }
   ],
   "source": [
    "#^2& /@ {{0,1},{2,3}}"
   ]
  },
  {
   "cell_type": "markdown",
   "id": "cec09ad6",
   "metadata": {},
   "source": [
    "Once we have an expression, for instance `x + y + z`, we can replace symbols with other ones. `/.` means *replace everywhere*. Below, we show how we can use it to replace `x` with `2` and `y` with `3`. It sort of copies the expression into the curly brackets and implements the suggested replacements."
   ]
  },
  {
   "cell_type": "code",
   "execution_count": 9,
   "id": "2704e80d",
   "metadata": {},
   "outputs": [
    {
     "data": {
      "text/html": [
       "<style>\n",
       "\t\t\t\t\t\t\t\t\t\t\t\t\t.grid-container {\n",
       "\t\t\t\t\t\t\t\t\t\t\t\t\t\tdisplay: inline-grid;\n",
       "\t\t\t\t\t\t\t\t\t\t\t\t\t\tgrid-template-columns: auto;\n",
       "\t\t\t\t\t\t\t\t\t\t\t\t\t}\n",
       "\t\t\t\t\t\t\t\t\t\t\t\t</style>\n",
       "\n",
       "\t\t\t\t\t\t\t\t\t\t\t\t<div><div class=\"grid-container\"><div class=\"grid-item\"><img alt=\"Output\" src=\"data:image/png;base64,iVBORw0KGgoAAAANSUhEUgAAAB4AAAARCAIAAABFBIsgAAAAznpUWHRSYXcgcHJvZmlsZSB0eXBlIGV4aWYAAHjabU9BjgMhDLvzin0CScCB5zAtlfqDff46hW411Vga2wlOGNL8fT7ST0Alp1K9oQOZKL10HTQtLyyV3F+8irnP5NxP8g4MturnAHtAjnPfsVTb16Ksy1jcQG9lD+xFpqsvY9XHzuto7XLRG6X9//p1ba6oEC/kotkdnb4lWgqq5up44AYwKLhrLjfqhDvH4JGwEYMBnX5OzwRj4x5PsPjEBrWS1XgfWekDwdDjlYpMPOcPUidatbFQumwAAAAJcEhZcwAACxMAAAsTAQCanBgAAAA8dEVYdFNvZnR3YXJlAENyZWF0ZWQgd2l0aCB0aGUgV29sZnJhbSBMYW5ndWFnZSA6IHd3dy53b2xmcmFtLmNvbVyipoUAAAAhdEVYdENyZWF0aW9uIFRpbWUAMjAyMTowNToyNCAyMjozMzozNsU+JCAAAAGNSURBVDiN1ZQxi8JAEIXHJSBiFwRFUEmwkIidtf9ACxGVYCGmFsQg2NnaWdgFeytFrMRGsBTBKmBARIVAQDBaBMM1c0XuvCOmOU8LX7X7Zudjd3Z2XYgIrxF5Efdt0RQADAaDTqdzs6rVaqFQeA56vV4jYrPZtKx4PP5/7hda1/VEIpFOpx+m1Gq16XR6m4bD4clk4kJEQRBkWWYYxu12ZzKZbDbrmD+bzViWjUQi9yFZlo/HIwAsl8tGo9Hr9QRBAERst9s8z0uSVCqVKIqSJAmd1O12F4uFY8iSqqrBYLBer1tTl+3J5PN5TdPm8/lvc7Vanc/n4XDIcVwsFguFQtFo1Lbx6/WaSqX8fv94PCaEwH3zJZNJwzBspqZph8NB13VrcDqdbAsQsVwum6bZ7/ctLgDAdrvN5XL7/R4RN5sNwzCiKP61IK1Wi6ZpRVE+voWIcLlcKpWKx+Px+XyEkGKxaBiGY/5oNFIU5d7f7Xa2QxBCfmptmqaqqoFAwOv1OnXHI7Jf4xP1nt/TJ1KpQPS+ljrGAAAAAElFTkSuQmCC\"></div><div class=\"grid-item\"><img alt=\"Output\" src=\"data:image/png;base64,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\"></div></div></div>"
      ],
      "text/plain": [
       "5 + z\n",
       "{{2 + y + z, 3 + x + z}, 3 + x + z}"
      ]
     },
     "execution_count": 9,
     "metadata": {
      "text/html": [],
      "text/plain": []
     },
     "output_type": "execute_result"
    }
   ],
   "source": [
    "x + y + z /. {x->2, y->3}\n",
    "x + y + z /. {{{x->2}, {y->3}}, {y->3}}"
   ]
  },
  {
   "cell_type": "markdown",
   "id": "5b60cbcb",
   "metadata": {},
   "source": [
    "### Construct the probability distributionn `p`."
   ]
  },
  {
   "cell_type": "code",
   "execution_count": 11,
   "id": "5254e6c3",
   "metadata": {},
   "outputs": [
    {
     "data": {
      "text/html": [
       "<div><img alt=\"Output\" src=\"data:image/png;base64,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\"></div>"
      ],
      "text/plain": [
       " -(H[1] s[1]) - H[2] s[2] - J[1, 2] s[1] s[2]\n",
       "E\n",
       "---------------------------------------------\n",
       "     -H[1]    -H[2]    -H[1] - H[2] - J[1, 2]\n",
       "1 + E      + E      + E"
      ]
     },
     "execution_count": 11,
     "metadata": {
      "text/html": [],
      "text/plain": []
     },
     "output_type": "execute_result"
    }
   ],
   "source": [
    "p = Exp[-Hamiltonian]/Z "
   ]
  },
  {
   "cell_type": "markdown",
   "id": "0b849d44",
   "metadata": {},
   "source": [
    "We can evaluate this expression at a particular configuration as follows (assuming we have 2 neurons):"
   ]
  },
  {
   "cell_type": "code",
   "execution_count": 12,
   "id": "68322e6a",
   "metadata": {},
   "outputs": [
    {
     "data": {
      "text/html": [
       "<div><img alt=\"Output\" src=\"data:image/png;base64,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\"></div>"
      ],
      "text/plain": [
       "            H[1] - H[2] + J[1, 2]\n",
       "           E\n",
       "---------------------------------------------\n",
       "     -H[1]    -H[2]    -H[1] - H[2] - J[1, 2]\n",
       "1 + E      + E      + E"
      ]
     },
     "execution_count": 12,
     "metadata": {
      "text/html": [],
      "text/plain": []
     },
     "output_type": "execute_result"
    }
   ],
   "source": [
    "p /. {s[1]-> -1, s[2]->1}"
   ]
  },
  {
   "cell_type": "markdown",
   "id": "3df36e9a",
   "metadata": {},
   "source": [
    "### Compute the expectations and correlations\n",
    "When we represent the neuron states as `{-1,1}`, the auto-correlations are 1 since we either have `1*1` times a probability, or `-1*-1=1` times a probability, and all the probabilities sum to 1. On the other hand, when we represent the neuron states as `{0,1}`, the auto-correlations are equal to the expectations since the product of a neuron with itself takes on the same values as just the neuron by itself.   "
   ]
  },
  {
   "cell_type": "code",
   "execution_count": 13,
   "id": "1a262805",
   "metadata": {},
   "outputs": [
    {
     "data": {
      "text/html": [
       "<div><img alt=\"Output\" src=\"data:image/png;base64,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\"></div>"
      ],
      "text/plain": [
       "                1                                1\n",
       "{-------------------------------, -------------------------------}\n",
       "      H[1] + J[1, 2]       H[2]        H[2] + J[1, 2]       H[1]\n",
       "     E               (1 + E    )      E               (1 + E    )\n",
       " 1 + ---------------------------  1 + ---------------------------\n",
       "              H[2] + J[1, 2]                   H[1] + J[1, 2]\n",
       "         1 + E                            1 + E"
      ]
     },
     "execution_count": 13,
     "metadata": {
      "text/html": [],
      "text/plain": []
     },
     "output_type": "execute_result"
    }
   ],
   "source": [
    "Averages = Table[ Total[s[i] p /. reps] // ExpToTrig // FullSimplify, {i,NN} ]"
   ]
  },
  {
   "cell_type": "markdown",
   "id": "5299f869",
   "metadata": {},
   "source": [
    "Note, we only work out the upper triangle of the correlation matrix. (Could I even leave out the diagonal?)"
   ]
  },
  {
   "cell_type": "code",
   "execution_count": 14,
   "id": "5789ed36",
   "metadata": {},
   "outputs": [
    {
     "data": {
      "text/html": [
       "<div><img alt=\"Output\" src=\"data:image/png;base64,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\"></div>"
      ],
      "text/plain": [
       "               1\n",
       "-------------------------------\n",
       "     H[1] + J[1, 2]       H[2]\n",
       "    E               (1 + E    )                                    1\n",
       "1 + ---------------------------               -------------------------------------------\n",
       "             H[2] + J[1, 2]                        J[1, 2]   H[1]    H[2]    H[1] + H[2]\n",
       "        1 + E                                 1 + E        (E     + E     + E           )\n",
       "\n",
       "                                                             1\n",
       "                                              -------------------------------\n",
       "                                                   H[2] + J[1, 2]       H[1]\n",
       "                                                  E               (1 + E    )\n",
       "                                              1 + ---------------------------\n",
       "                                                           H[1] + J[1, 2]\n",
       "0                                                     1 + E"
      ]
     },
     "execution_count": 14,
     "metadata": {
      "text/html": [],
      "text/plain": []
     },
     "output_type": "execute_result"
    }
   ],
   "source": [
    "(CorrMatrix = \n",
    "  Table[Total[s[i] s[j] p /. reps] // ExpToTrig // FullSimplify, {i, \n",
    "    NN}, {j, i, NN}]) // PadLeft // MatrixForm"
   ]
  },
  {
   "cell_type": "markdown",
   "id": "aa5c64e3",
   "metadata": {},
   "source": [
    "## Solve for `H` and `J` given observed expectations and correlations\n",
    "\n",
    "Let us say that we observe the expectations of 2 neurons, as well as their correlation. Can we find the `H` and `J` that gives us an Ising model that reproduces these statistics?"
   ]
  },
  {
   "cell_type": "markdown",
   "id": "ec4a5663",
   "metadata": {},
   "source": [
    "If we try analytically for expected values `a[1]` and `a[2]`, and correlation `b`, this takes forever. "
   ]
  },
  {
   "cell_type": "code",
   "execution_count": null,
   "id": "d8c9875f",
   "metadata": {},
   "outputs": [],
   "source": [
    "Solve[{Averages[[1]]==a[1],Averages[[2]]==a[2], CorrMatrix[[1,2]]==b}]"
   ]
  },
  {
   "cell_type": "markdown",
   "id": "55f93b98",
   "metadata": {},
   "source": [
    "On the other hand, we can find values for `H` and `J` numerically. Let us say neuron 1 has an expected value of 0.1, neuron 2 has an expected value of 0.9 and their correlation is 0.1 (every time neuron 1 fires, so does neuron 2)"
   ]
  },
  {
   "cell_type": "code",
   "execution_count": 25,
   "id": "ac988a13",
   "metadata": {},
   "outputs": [
    {
     "ename": "Inverse functions are being used by `1`, so some solutions may not be found; use Reduce for complete solution information.",
     "evalue": "Inverse functions are being used by NSolve, so some solutions may not be found; use Reduce for complete solution information.",
     "output_type": "error",
     "traceback": [
      "\u001b[0;31mInverse functions are being used by `1`, so some solutions may not be found; use Reduce for complete solution information.: Inverse functions are being used by NSolve, so some solutions may not be found; use Reduce for complete solution information.\u001b[0m"
     ]
    },
    {
     "data": {
      "text/html": [
       "<div><img alt=\"Output\" src=\"data:image/png;base64,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\"></div>"
      ],
      "text/plain": [
       "{{H[1] -> 0., H[2] -> -2.83321, J[1, 2] -> 2.83321}}"
      ]
     },
     "execution_count": 25,
     "metadata": {
      "text/html": [],
      "text/plain": []
     },
     "output_type": "execute_result"
    }
   ],
   "source": [
    "g = NSolve[{Averages[[1]]==0.1, Averages[[2]]==0.9, CorrMatrix[[1,2]]==0.05}, {H[1], H[2], J[1,2]}]"
   ]
  },
  {
   "cell_type": "markdown",
   "id": "b45dc5dd",
   "metadata": {},
   "source": [
    "Plug in `H` and `J` and check expectations and correlations are reproduced."
   ]
  },
  {
   "cell_type": "code",
   "execution_count": 28,
   "id": "1ec47475",
   "metadata": {},
   "outputs": [
    {
     "data": {
      "text/html": [
       "<div><pre style=\"&#102;&#111;&#110;&#116;&#45;&#102;&#97;&#109;&#105;&#108;&#121;&#58;&#32;&#34;&#67;&#111;&#117;&#114;&#105;&#101;&#114;&#32;&#78;&#101;&#119;&#34;&#44;&#67;&#111;&#117;&#114;&#105;&#101;&#114;&#44;&#109;&#111;&#110;&#111;&#115;&#112;&#97;&#99;&#101;&#59;\">&#123;&#123;&#48;&#46;&#49;&#125;&#44;&#32;&#123;&#48;&#46;&#57;&#125;&#125;</pre></div>"
      ],
      "text/plain": [
       "{{0.1}, {0.9}}"
      ]
     },
     "execution_count": 28,
     "metadata": {
      "text/html": [],
      "text/plain": []
     },
     "output_type": "execute_result"
    }
   ],
   "source": [
    "Table[ Total[s[i] p /. g /. reps], {i,NN} ]"
   ]
  },
  {
   "cell_type": "code",
   "execution_count": 30,
   "id": "88a0fe6f",
   "metadata": {},
   "outputs": [
    {
     "data": {
      "text/html": [
       "<div><pre style=\"&#102;&#111;&#110;&#116;&#45;&#102;&#97;&#109;&#105;&#108;&#121;&#58;&#32;&#34;&#67;&#111;&#117;&#114;&#105;&#101;&#114;&#32;&#78;&#101;&#119;&#34;&#44;&#67;&#111;&#117;&#114;&#105;&#101;&#114;&#44;&#109;&#111;&#110;&#111;&#115;&#112;&#97;&#99;&#101;&#59;\">&#123;&#48;&#46;&#48;&#53;&#125;</pre></div>"
      ],
      "text/plain": [
       "{0.05}"
      ]
     },
     "execution_count": 30,
     "metadata": {
      "text/html": [],
      "text/plain": []
     },
     "output_type": "execute_result"
    }
   ],
   "source": [
    "Total[s[1] s[2] p /. g /. reps]"
   ]
  }
 ],
 "metadata": {
  "kernelspec": {
   "display_name": "Wolfram Language 12.3",
   "language": "Wolfram Language",
   "name": "wolframlanguage12.3"
  },
  "language_info": {
   "codemirror_mode": "mathematica",
   "file_extension": ".m",
   "mimetype": "application/vnd.wolfram.m",
   "name": "Wolfram Language",
   "pygments_lexer": "mathematica",
   "version": "12.0"
  }
 },
 "nbformat": 4,
 "nbformat_minor": 5
}
